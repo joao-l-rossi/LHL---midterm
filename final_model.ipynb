{
  "nbformat": 4,
  "nbformat_minor": 0,
  "metadata": {
    "colab": {
      "name": "RandomForest.ipynb",
      "provenance": [],
      "collapsed_sections": [],
      "toc_visible": true
    },
    "kernelspec": {
      "display_name": "Python 3",
      "name": "python3"
    },
    "language_info": {
      "name": "python"
    }
  },
  "cells": [
    {
      "cell_type": "code",
      "metadata": {
        "id": "bNzSz1Hfm2n1"
      },
      "source": [
        "import pandas as pd\n",
        "import pickle\n",
        "import  category_encoders as ce\n",
        "from sklearn.model_selection import train_test_split\n",
        "from sklearn.model_selection import KFold\n",
        "from sklearn.model_selection import RandomizedSearchCV\n",
        "from sklearn.linear_model import LinearRegression\n",
        "from category_encoders import *\n",
        "import  numpy as np\n",
        "from sklearn.tree import DecisionTreeClassifier\n",
        "from sklearn.model_selection import train_test_split\n",
        "from sklearn import metrics\n",
        "from sklearn.ensemble import RandomForestRegressor"
      ],
      "execution_count": null,
      "outputs": []
    },
    {
      "cell_type": "code",
      "metadata": {
        "id": "fTlE_WJ1FpXx"
      },
      "source": [
        "#pip install category_encoders"
      ],
      "execution_count": null,
      "outputs": []
    },
    {
      "cell_type": "code",
      "metadata": {
        "id": "4tuWojBfnLi5",
        "colab": {
          "base_uri": "https://localhost:8080/"
        },
        "outputId": "bac866ce-d1e6-4bce-c208-169d180b3d82"
      },
      "source": [
        "url = \"https://raw.githubusercontent.com/joao-l-rossi/LHL---midterm/main/mid-term-project-I/data/Flights_TRAIN.csv\"\n",
        "dataset = pd.read_csv(url)\n",
        "dataset.isnull().sum()\n",
        "dataset = dataset.dropna()\n",
        "dataset = dataset.sample(frac=1, random_state=1234).reset_index(drop=True)\n",
        "dataset.shape"
      ],
      "execution_count": null,
      "outputs": [
        {
          "output_type": "execute_result",
          "data": {
            "text/plain": [
              "(143046, 29)"
            ]
          },
          "metadata": {},
          "execution_count": 29
        }
      ]
    },
    {
      "cell_type": "code",
      "metadata": {
        "id": "p-ZxzeiVpFgQ"
      },
      "source": [
        "cols_to_encode = [\"origin\", \"dest\",\"op_unique_carrier\"]\n",
        "cols_X = ['dep_dayofweek','op_unique_carrier', 'origin', 'dest',\n",
        "       'arr_Fog', 'arr_Snow', 'arr_Cold', 'arr_Storm', 'arr_Hail',\n",
        "          'arr_Precipitation', 'crs_dep_time', 'crs_arr_time',\n",
        "          'flights_origin', 'flights_dest']\n",
        "#pd.get_dummies(dataset[\"op_unique_carrier\"])"
      ],
      "execution_count": null,
      "outputs": []
    },
    {
      "cell_type": "code",
      "metadata": {
        "colab": {
          "base_uri": "https://localhost:8080/",
          "height": 206
        },
        "id": "YCHjzxqQpMf-",
        "outputId": "d275689f-30e1-43af-aab1-c8fd362c2d61"
      },
      "source": [
        "X = dataset[cols_X]\n",
        "y = dataset[\"arr_delay\"]\n",
        "X.head()"
      ],
      "execution_count": null,
      "outputs": [
        {
          "output_type": "execute_result",
          "data": {
            "text/html": [
              "<div>\n",
              "<style scoped>\n",
              "    .dataframe tbody tr th:only-of-type {\n",
              "        vertical-align: middle;\n",
              "    }\n",
              "\n",
              "    .dataframe tbody tr th {\n",
              "        vertical-align: top;\n",
              "    }\n",
              "\n",
              "    .dataframe thead th {\n",
              "        text-align: right;\n",
              "    }\n",
              "</style>\n",
              "<table border=\"1\" class=\"dataframe\">\n",
              "  <thead>\n",
              "    <tr style=\"text-align: right;\">\n",
              "      <th></th>\n",
              "      <th>dep_dayofweek</th>\n",
              "      <th>op_unique_carrier</th>\n",
              "      <th>origin</th>\n",
              "      <th>dest</th>\n",
              "      <th>arr_Fog</th>\n",
              "      <th>arr_Snow</th>\n",
              "      <th>arr_Cold</th>\n",
              "      <th>arr_Storm</th>\n",
              "      <th>arr_Hail</th>\n",
              "      <th>arr_Precipitation</th>\n",
              "      <th>crs_dep_time</th>\n",
              "      <th>crs_arr_time</th>\n",
              "      <th>flights_origin</th>\n",
              "      <th>flights_dest</th>\n",
              "    </tr>\n",
              "  </thead>\n",
              "  <tbody>\n",
              "    <tr>\n",
              "      <th>0</th>\n",
              "      <td>0</td>\n",
              "      <td>EV</td>\n",
              "      <td>ORD</td>\n",
              "      <td>CVG</td>\n",
              "      <td>1.0</td>\n",
              "      <td>3.0</td>\n",
              "      <td>0.0</td>\n",
              "      <td>0.0</td>\n",
              "      <td>0.0</td>\n",
              "      <td>0.0</td>\n",
              "      <td>1135</td>\n",
              "      <td>1355</td>\n",
              "      <td>250</td>\n",
              "      <td>33</td>\n",
              "    </tr>\n",
              "    <tr>\n",
              "      <th>1</th>\n",
              "      <td>0</td>\n",
              "      <td>AA</td>\n",
              "      <td>EWR</td>\n",
              "      <td>PHX</td>\n",
              "      <td>1.0</td>\n",
              "      <td>3.0</td>\n",
              "      <td>0.0</td>\n",
              "      <td>0.0</td>\n",
              "      <td>0.0</td>\n",
              "      <td>0.0</td>\n",
              "      <td>955</td>\n",
              "      <td>1340</td>\n",
              "      <td>90</td>\n",
              "      <td>120</td>\n",
              "    </tr>\n",
              "    <tr>\n",
              "      <th>2</th>\n",
              "      <td>4</td>\n",
              "      <td>DL</td>\n",
              "      <td>SLC</td>\n",
              "      <td>CVG</td>\n",
              "      <td>1.0</td>\n",
              "      <td>3.0</td>\n",
              "      <td>0.0</td>\n",
              "      <td>0.0</td>\n",
              "      <td>0.0</td>\n",
              "      <td>0.0</td>\n",
              "      <td>1710</td>\n",
              "      <td>2235</td>\n",
              "      <td>78</td>\n",
              "      <td>16</td>\n",
              "    </tr>\n",
              "    <tr>\n",
              "      <th>3</th>\n",
              "      <td>1</td>\n",
              "      <td>F9</td>\n",
              "      <td>TPA</td>\n",
              "      <td>DEN</td>\n",
              "      <td>1.0</td>\n",
              "      <td>3.0</td>\n",
              "      <td>0.0</td>\n",
              "      <td>0.0</td>\n",
              "      <td>0.0</td>\n",
              "      <td>0.0</td>\n",
              "      <td>1439</td>\n",
              "      <td>1654</td>\n",
              "      <td>68</td>\n",
              "      <td>178</td>\n",
              "    </tr>\n",
              "    <tr>\n",
              "      <th>4</th>\n",
              "      <td>2</td>\n",
              "      <td>MQ</td>\n",
              "      <td>CID</td>\n",
              "      <td>ORD</td>\n",
              "      <td>1.0</td>\n",
              "      <td>1.0</td>\n",
              "      <td>0.0</td>\n",
              "      <td>0.0</td>\n",
              "      <td>0.0</td>\n",
              "      <td>0.0</td>\n",
              "      <td>1810</td>\n",
              "      <td>1929</td>\n",
              "      <td>6</td>\n",
              "      <td>296</td>\n",
              "    </tr>\n",
              "  </tbody>\n",
              "</table>\n",
              "</div>"
            ],
            "text/plain": [
              "   dep_dayofweek op_unique_carrier  ... flights_origin flights_dest\n",
              "0              0                EV  ...            250           33\n",
              "1              0                AA  ...             90          120\n",
              "2              4                DL  ...             78           16\n",
              "3              1                F9  ...             68          178\n",
              "4              2                MQ  ...              6          296\n",
              "\n",
              "[5 rows x 14 columns]"
            ]
          },
          "metadata": {},
          "execution_count": 31
        }
      ]
    },
    {
      "cell_type": "code",
      "metadata": {
        "id": "M42zhrd9pNWO"
      },
      "source": [
        "X_train, X_test, y_train, y_test = train_test_split(X, y, test_size=0.20, random_state=1234)"
      ],
      "execution_count": null,
      "outputs": []
    },
    {
      "cell_type": "code",
      "metadata": {
        "id": "i_XVpixNpNe-"
      },
      "source": [
        "X_train = X_train.reset_index(drop=True)     \n",
        "y_train = y_train.reset_index(drop=True)"
      ],
      "execution_count": null,
      "outputs": []
    },
    {
      "cell_type": "code",
      "metadata": {
        "id": "LoomeYBnpNmm"
      },
      "source": [
        "encoder = TargetEncoder(cols=cols_to_encode)"
      ],
      "execution_count": null,
      "outputs": []
    },
    {
      "cell_type": "code",
      "metadata": {
        "id": "VDFYkjuwpN6-"
      },
      "source": [
        "X_train_fitted = X_train.iloc[0:0,:]"
      ],
      "execution_count": null,
      "outputs": []
    },
    {
      "cell_type": "code",
      "metadata": {
        "id": "cD2dNBubpOB2"
      },
      "source": [
        "kf = KFold(n_splits = 5, shuffle=False)\n",
        "for tr_ind, val_ind in kf.split(X_train, y_train):\n",
        "    encoder.fit(X_train.loc[tr_ind], y_train.loc[tr_ind])\n",
        "    X_train_fitted = X_train_fitted.append(encoder.transform(X_train.loc[val_ind]))"
      ],
      "execution_count": null,
      "outputs": []
    },
    {
      "cell_type": "code",
      "metadata": {
        "id": "IwA-3-0mpdBH"
      },
      "source": [
        "encoder.fit(X_train, y_train)\n",
        "X_test_fitted = encoder.transform(X_test)"
      ],
      "execution_count": null,
      "outputs": []
    },
    {
      "cell_type": "code",
      "metadata": {
        "id": "5qw8aOpfBXEQ"
      },
      "source": [
        ""
      ],
      "execution_count": null,
      "outputs": []
    },
    {
      "cell_type": "markdown",
      "metadata": {
        "id": "cWrLKOAfBX1C"
      },
      "source": [
        "Baseline"
      ]
    },
    {
      "cell_type": "code",
      "metadata": {
        "colab": {
          "base_uri": "https://localhost:8080/"
        },
        "id": "2N9UhcJNBeFA",
        "outputId": "f29231bf-e5a0-4ae9-bbe0-7b5bbf3a1f74"
      },
      "source": [
        "mod = RandomForestRegressor()\n",
        "mod.fit(X_train_fitted,y_train)"
      ],
      "execution_count": null,
      "outputs": [
        {
          "output_type": "execute_result",
          "data": {
            "text/plain": [
              "RandomForestRegressor()"
            ]
          },
          "metadata": {},
          "execution_count": 38
        }
      ]
    },
    {
      "cell_type": "code",
      "metadata": {
        "id": "lOf-0S75DobV"
      },
      "source": [
        ""
      ],
      "execution_count": null,
      "outputs": []
    },
    {
      "cell_type": "code",
      "metadata": {
        "id": "Sx25OO5HD5rt"
      },
      "source": [
        ""
      ],
      "execution_count": null,
      "outputs": []
    },
    {
      "cell_type": "code",
      "metadata": {
        "colab": {
          "base_uri": "https://localhost:8080/"
        },
        "id": "GrtEzVIaCMYK",
        "outputId": "189229ae-b9ff-48b6-b1ec-06d0d1751423"
      },
      "source": [
        "print(f\"R2: {mod.score(X_test_fitted,y_test)}\")\n",
        "y_pred = mod.predict(X_test_fitted)\n",
        "print(f\"MSE: {metrics.mean_squared_error(y_test,y_pred)}\")"
      ],
      "execution_count": null,
      "outputs": [
        {
          "output_type": "stream",
          "name": "stdout",
          "text": [
            "R2: 0.10428110810865943\n",
            "MSE: 1940.609101377141\n"
          ]
        }
      ]
    },
    {
      "cell_type": "code",
      "metadata": {
        "id": "OBS0UtWIpdKu"
      },
      "source": [
        "# params = {'bootstrap': [True, False],\n",
        "#           'max_depth': [10, 20, 30, 40, 50, 60, 70, 80, 90, 100, None],\n",
        "#           'max_features': ['auto', 'sqrt'],\n",
        "#           'min_samples_leaf': [1, 2, 4],\n",
        "#           'min_samples_split': [2, 5, 10],\n",
        "#           'n_estimators': [200, 400, 600, 800, 1000, 1200, 1400, 1600, 1800, 2000]}"
      ],
      "execution_count": null,
      "outputs": []
    },
    {
      "cell_type": "code",
      "metadata": {
        "id": "rZSYXtNkB35J"
      },
      "source": [
        "params = {\n",
        "    'max_depth': [10, 15, 20],\n",
        "    'n_estimators': [200,300,400]\n",
        "\n",
        "}"
      ],
      "execution_count": null,
      "outputs": []
    },
    {
      "cell_type": "code",
      "metadata": {
        "id": "MsOnPKTUpdRO"
      },
      "source": [
        "param_comb = 4"
      ],
      "execution_count": null,
      "outputs": []
    },
    {
      "cell_type": "code",
      "metadata": {
        "id": "12k8TnlJp5l-"
      },
      "source": [
        "mod = RandomForestRegressor()"
      ],
      "execution_count": null,
      "outputs": []
    },
    {
      "cell_type": "code",
      "metadata": {
        "colab": {
          "base_uri": "https://localhost:8080/"
        },
        "id": "R5gzSxPvpdXm",
        "outputId": "5291daa8-adf2-4c2d-b9d6-a9ebb0ef6a03"
      },
      "source": [
        "random_search = RandomizedSearchCV(mod, param_distributions=params, n_iter=param_comb, n_jobs=-1, verbose=10, random_state=1234, cv = kf.split(X_train, y_train))\n",
        "random_search.fit(X_train_fitted, y_train)\n",
        "print(random_search.best_score_)\n",
        "print(random_search.best_estimator_)"
      ],
      "execution_count": null,
      "outputs": [
        {
          "output_type": "stream",
          "name": "stdout",
          "text": [
            "Fitting 5 folds for each of 4 candidates, totalling 20 fits\n"
          ]
        },
        {
          "output_type": "stream",
          "name": "stderr",
          "text": [
            "/usr/local/lib/python3.7/dist-packages/joblib/externals/loky/process_executor.py:705: UserWarning: A worker stopped while some jobs were given to the executor. This can be caused by a too short worker timeout or by a memory leak.\n",
            "  \"timeout or by a memory leak.\", UserWarning\n"
          ]
        },
        {
          "output_type": "stream",
          "name": "stdout",
          "text": [
            "0.08195512427585813\n",
            "RandomForestRegressor(max_depth=10, n_estimators=400)\n"
          ]
        }
      ]
    },
    {
      "cell_type": "code",
      "metadata": {
        "id": "YcS5iE82u09S"
      },
      "source": [
        "best_est = random_search.best_estimator_\n",
        "#best_est.fit(X_train_fitted,y_train)"
      ],
      "execution_count": null,
      "outputs": []
    },
    {
      "cell_type": "code",
      "metadata": {
        "colab": {
          "base_uri": "https://localhost:8080/"
        },
        "id": "eXI99UQavGoi",
        "outputId": "81dc031e-f94c-4dab-f557-8a9b14b99720"
      },
      "source": [
        ""
      ],
      "execution_count": null,
      "outputs": [
        {
          "data": {
            "text/plain": [
              "RandomForestRegressor(max_depth=10, n_estimators=50)"
            ]
          },
          "execution_count": 34,
          "metadata": {},
          "output_type": "execute_result"
        }
      ]
    },
    {
      "cell_type": "code",
      "metadata": {
        "colab": {
          "base_uri": "https://localhost:8080/"
        },
        "id": "6t7kGE9QwB-Z",
        "outputId": "8ca7de9a-2850-45f5-ee9b-d2654b98515f"
      },
      "source": [
        "print(f\"R2: {best_est.score(X_test_fitted,y_test)}\")\n",
        "y_pred = best_est.predict(X_test_fitted)\n",
        "print(f\"MSE: {metrics.mean_squared_error(y_test,y_pred)}\")"
      ],
      "execution_count": null,
      "outputs": [
        {
          "output_type": "stream",
          "name": "stdout",
          "text": [
            "R2: 0.11145487959146039\n",
            "MSE: 1925.066852177364\n"
          ]
        }
      ]
    },
    {
      "cell_type": "code",
      "metadata": {
        "colab": {
          "base_uri": "https://localhost:8080/"
        },
        "id": "Wwi43_GlYg2g",
        "outputId": "c409b449-7bd4-489f-9c08-d226620fa45c"
      },
      "source": [
        "from google.colab import drive\n",
        "drive.mount('/content/gdrive')"
      ],
      "execution_count": null,
      "outputs": [
        {
          "output_type": "stream",
          "name": "stdout",
          "text": [
            "Mounted at /content/gdrive\n"
          ]
        }
      ]
    },
    {
      "cell_type": "code",
      "metadata": {
        "id": "N8njdRBSvG_x"
      },
      "source": [
        "model_save_name = 'inalized_model_Joao.sav'\n",
        "path = F\"/content/gdrive/My Drive/MidtermLHL/{model_save_name}\"\n",
        "pickle.dump(best_est, open(path, 'wb'))"
      ],
      "execution_count": null,
      "outputs": []
    },
    {
      "cell_type": "code",
      "metadata": {
        "id": "OjgptNwjvHHx"
      },
      "source": [
        ""
      ],
      "execution_count": null,
      "outputs": []
    },
    {
      "cell_type": "code",
      "metadata": {
        "colab": {
          "base_uri": "https://localhost:8080/"
        },
        "id": "oWxgzS8spddu",
        "outputId": "ee5d00c7-1f3e-434a-e976-7d3d1ededa8c"
      },
      "source": [
        "random_search.__dict__"
      ],
      "execution_count": null,
      "outputs": [
        {
          "output_type": "execute_result",
          "data": {
            "text/plain": [
              "{'best_estimator_': RandomForestRegressor(max_depth=10, n_estimators=200),\n",
              " 'best_index_': 3,\n",
              " 'best_params_': {'max_depth': 10, 'n_estimators': 200},\n",
              " 'best_score_': 0.08239109921906274,\n",
              " 'cv': <generator object _BaseKFold.split at 0x7f2b46daebd0>,\n",
              " 'cv_results_': {'mean_fit_time': array([107.88637066, 212.55001445, 211.9552196 ,  92.07976947]),\n",
              "  'mean_score_time': array([1.45665793, 2.70848408, 2.76706729, 0.55892606]),\n",
              "  'mean_test_score': array([0.0601931 , 0.06852707, 0.06766781, 0.0823911 ]),\n",
              "  'param_max_depth': masked_array(data=[50, 50, None, 10],\n",
              "               mask=[False, False, False, False],\n",
              "         fill_value='?',\n",
              "              dtype=object),\n",
              "  'param_n_estimators': masked_array(data=[100, 200, 200, 200],\n",
              "               mask=[False, False, False, False],\n",
              "         fill_value='?',\n",
              "              dtype=object),\n",
              "  'params': [{'max_depth': 50, 'n_estimators': 100},\n",
              "   {'max_depth': 50, 'n_estimators': 200},\n",
              "   {'max_depth': None, 'n_estimators': 200},\n",
              "   {'max_depth': 10, 'n_estimators': 200}],\n",
              "  'rank_test_score': array([4, 2, 3, 1], dtype=int32),\n",
              "  'split0_test_score': array([0.05485701, 0.0619803 , 0.06111541, 0.08316964]),\n",
              "  'split1_test_score': array([0.04661356, 0.06314569, 0.05581827, 0.07954492]),\n",
              "  'split2_test_score': array([0.07433292, 0.07665295, 0.0784593 , 0.08433356]),\n",
              "  'split3_test_score': array([0.06349289, 0.07223051, 0.07471946, 0.08411764]),\n",
              "  'split4_test_score': array([0.06166912, 0.06862589, 0.06822659, 0.08078973]),\n",
              "  'std_fit_time': array([1.08359721, 2.60725187, 1.35245204, 2.2597805 ]),\n",
              "  'std_score_time': array([0.04899688, 0.05334719, 0.09411896, 0.05814345]),\n",
              "  'std_test_score': array([0.00922908, 0.0055059 , 0.00836468, 0.0018987 ])},\n",
              " 'error_score': nan,\n",
              " 'estimator': RandomForestRegressor(),\n",
              " 'feature_names_in_': array(['dep_dayofweek', 'op_unique_carrier', 'origin', 'dest', 'arr_Fog',\n",
              "        'arr_Snow', 'arr_Cold', 'arr_Storm', 'arr_Hail',\n",
              "        'arr_Precipitation', 'crs_dep_time', 'crs_arr_time',\n",
              "        'flights_origin', 'flights_dest'], dtype=object),\n",
              " 'multimetric_': False,\n",
              " 'n_iter': 4,\n",
              " 'n_jobs': -1,\n",
              " 'n_splits_': 5,\n",
              " 'param_distributions': {'max_depth': [10, 20, 50, None],\n",
              "  'n_estimators': [50, 100, 200]},\n",
              " 'pre_dispatch': '2*n_jobs',\n",
              " 'random_state': 1234,\n",
              " 'refit': True,\n",
              " 'refit_time_': 78.54842162132263,\n",
              " 'return_train_score': False,\n",
              " 'scorer_': <function sklearn.metrics._scorer._passthrough_scorer>,\n",
              " 'scoring': None,\n",
              " 'verbose': 5}"
            ]
          },
          "metadata": {},
          "execution_count": 58
        }
      ]
    },
    {
      "cell_type": "code",
      "metadata": {
        "id": "bMi-rNgqpdkG"
      },
      "source": [
        ""
      ],
      "execution_count": null,
      "outputs": []
    },
    {
      "cell_type": "code",
      "metadata": {
        "id": "93xa7huwpdpm"
      },
      "source": [
        ""
      ],
      "execution_count": null,
      "outputs": []
    },
    {
      "cell_type": "code",
      "metadata": {
        "id": "toybQCSxpdvv"
      },
      "source": [
        ""
      ],
      "execution_count": null,
      "outputs": []
    },
    {
      "cell_type": "code",
      "metadata": {
        "id": "9Gcu1QvZpd12"
      },
      "source": [
        ""
      ],
      "execution_count": null,
      "outputs": []
    },
    {
      "cell_type": "code",
      "metadata": {
        "id": "u0QZqRLbpd8P"
      },
      "source": [
        ""
      ],
      "execution_count": null,
      "outputs": []
    }
  ]
}