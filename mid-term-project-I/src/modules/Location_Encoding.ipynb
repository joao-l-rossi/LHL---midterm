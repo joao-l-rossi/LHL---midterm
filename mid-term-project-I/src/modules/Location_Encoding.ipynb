{
 "cells": [
  {
   "cell_type": "code",
   "execution_count": 136,
   "id": "05eb62ab-d42e-4728-8f8d-6cbc408a0c21",
   "metadata": {},
   "outputs": [],
   "source": [
    "import pandas as pd\n",
    "import  category_encoders as ce\n",
    "from sklearn.model_selection import train_test_split\n",
    "from sklearn.model_selection import KFold\n",
    "from sklearn.model_selection import RandomizedSearchCV\n",
    "from sklearn.linear_model import LinearRegression\n",
    "from category_encoders import *\n",
    "import  numpy as np\n",
    "from sklearn.tree import DecisionTreeClassifier\n",
    "from sklearn.model_selection import train_test_split\n",
    "from sklearn import metrics\n",
    "from sklearn.ensemble import RandomForestClassifier"
   ]
  },
  {
   "cell_type": "code",
   "execution_count": 154,
   "id": "e5095f71-eadc-433b-93f0-9324f8e93f5c",
   "metadata": {},
   "outputs": [],
   "source": [
    "dataset = pd.read_csv(\"~/Desktop/DataDump/Flights_TRAIN.csv\")\n",
    "dataset.isnull().sum()\n",
    "dataset = dataset.dropna()"
   ]
  },
  {
   "cell_type": "code",
   "execution_count": 155,
   "id": "b2149040-123d-4827-a516-fe78694607b4",
   "metadata": {},
   "outputs": [],
   "source": [
    "\n",
    "cols_to_encode = [\"origin\", \"dest\",\"op_unique_carrier\"]\n",
    "cols_X = ['dep_dayofweek','op_unique_carrier', 'origin', 'dest',\n",
    "       'arr_Fog', 'arr_Snow', 'arr_Cold', 'arr_Storm', 'arr_Hail',\n",
    "          'arr_Precipitation', 'crs_dep_time', 'crs_arr_time',\n",
    "          'flights_origin', 'flights_dest']\n",
    "#pd.get_dummies(dataset[\"op_unique_carrier\"])"
   ]
  },
  {
   "cell_type": "code",
   "execution_count": 156,
   "id": "09c7c61b-c350-4ea2-b3e5-1f3e98154d60",
   "metadata": {},
   "outputs": [
    {
     "data": {
      "text/html": [
       "<div>\n",
       "<style scoped>\n",
       "    .dataframe tbody tr th:only-of-type {\n",
       "        vertical-align: middle;\n",
       "    }\n",
       "\n",
       "    .dataframe tbody tr th {\n",
       "        vertical-align: top;\n",
       "    }\n",
       "\n",
       "    .dataframe thead th {\n",
       "        text-align: right;\n",
       "    }\n",
       "</style>\n",
       "<table border=\"1\" class=\"dataframe\">\n",
       "  <thead>\n",
       "    <tr style=\"text-align: right;\">\n",
       "      <th></th>\n",
       "      <th>dep_dayofweek</th>\n",
       "      <th>op_unique_carrier</th>\n",
       "      <th>origin</th>\n",
       "      <th>dest</th>\n",
       "      <th>arr_Fog</th>\n",
       "      <th>arr_Snow</th>\n",
       "      <th>arr_Cold</th>\n",
       "      <th>arr_Storm</th>\n",
       "      <th>arr_Hail</th>\n",
       "      <th>arr_Precipitation</th>\n",
       "      <th>crs_dep_time</th>\n",
       "      <th>crs_arr_time</th>\n",
       "      <th>flights_origin</th>\n",
       "      <th>flights_dest</th>\n",
       "    </tr>\n",
       "  </thead>\n",
       "  <tbody>\n",
       "    <tr>\n",
       "      <th>1</th>\n",
       "      <td>0</td>\n",
       "      <td>ZW</td>\n",
       "      <td>MLI</td>\n",
       "      <td>ORD</td>\n",
       "      <td>1.0</td>\n",
       "      <td>3.0</td>\n",
       "      <td>0.0</td>\n",
       "      <td>0.0</td>\n",
       "      <td>0.0</td>\n",
       "      <td>0.0</td>\n",
       "      <td>1045</td>\n",
       "      <td>1150</td>\n",
       "      <td>7</td>\n",
       "      <td>268</td>\n",
       "    </tr>\n",
       "    <tr>\n",
       "      <th>2</th>\n",
       "      <td>0</td>\n",
       "      <td>OO</td>\n",
       "      <td>ORD</td>\n",
       "      <td>LGA</td>\n",
       "      <td>1.0</td>\n",
       "      <td>3.0</td>\n",
       "      <td>0.0</td>\n",
       "      <td>0.0</td>\n",
       "      <td>0.0</td>\n",
       "      <td>0.0</td>\n",
       "      <td>1930</td>\n",
       "      <td>2243</td>\n",
       "      <td>302</td>\n",
       "      <td>58</td>\n",
       "    </tr>\n",
       "    <tr>\n",
       "      <th>3</th>\n",
       "      <td>0</td>\n",
       "      <td>OO</td>\n",
       "      <td>ORD</td>\n",
       "      <td>LGA</td>\n",
       "      <td>1.0</td>\n",
       "      <td>3.0</td>\n",
       "      <td>0.0</td>\n",
       "      <td>0.0</td>\n",
       "      <td>0.0</td>\n",
       "      <td>0.0</td>\n",
       "      <td>1130</td>\n",
       "      <td>1438</td>\n",
       "      <td>251</td>\n",
       "      <td>132</td>\n",
       "    </tr>\n",
       "    <tr>\n",
       "      <th>4</th>\n",
       "      <td>0</td>\n",
       "      <td>OO</td>\n",
       "      <td>GSP</td>\n",
       "      <td>LGA</td>\n",
       "      <td>1.0</td>\n",
       "      <td>3.0</td>\n",
       "      <td>0.0</td>\n",
       "      <td>0.0</td>\n",
       "      <td>0.0</td>\n",
       "      <td>0.0</td>\n",
       "      <td>600</td>\n",
       "      <td>759</td>\n",
       "      <td>11</td>\n",
       "      <td>131</td>\n",
       "    </tr>\n",
       "    <tr>\n",
       "      <th>5</th>\n",
       "      <td>0</td>\n",
       "      <td>OO</td>\n",
       "      <td>ORD</td>\n",
       "      <td>LGA</td>\n",
       "      <td>1.0</td>\n",
       "      <td>3.0</td>\n",
       "      <td>0.0</td>\n",
       "      <td>0.0</td>\n",
       "      <td>0.0</td>\n",
       "      <td>0.0</td>\n",
       "      <td>1230</td>\n",
       "      <td>1540</td>\n",
       "      <td>286</td>\n",
       "      <td>136</td>\n",
       "    </tr>\n",
       "  </tbody>\n",
       "</table>\n",
       "</div>"
      ],
      "text/plain": [
       "   dep_dayofweek op_unique_carrier origin dest  arr_Fog  arr_Snow  arr_Cold  \\\n",
       "1              0                ZW    MLI  ORD      1.0       3.0       0.0   \n",
       "2              0                OO    ORD  LGA      1.0       3.0       0.0   \n",
       "3              0                OO    ORD  LGA      1.0       3.0       0.0   \n",
       "4              0                OO    GSP  LGA      1.0       3.0       0.0   \n",
       "5              0                OO    ORD  LGA      1.0       3.0       0.0   \n",
       "\n",
       "   arr_Storm  arr_Hail  arr_Precipitation  crs_dep_time  crs_arr_time  \\\n",
       "1        0.0       0.0                0.0          1045          1150   \n",
       "2        0.0       0.0                0.0          1930          2243   \n",
       "3        0.0       0.0                0.0          1130          1438   \n",
       "4        0.0       0.0                0.0           600           759   \n",
       "5        0.0       0.0                0.0          1230          1540   \n",
       "\n",
       "   flights_origin  flights_dest  \n",
       "1               7           268  \n",
       "2             302            58  \n",
       "3             251           132  \n",
       "4              11           131  \n",
       "5             286           136  "
      ]
     },
     "execution_count": 156,
     "metadata": {},
     "output_type": "execute_result"
    }
   ],
   "source": [
    "X = dataset[cols_X]\n",
    "y = dataset[\"arr_delay\"]\n",
    "X.head()"
   ]
  },
  {
   "cell_type": "code",
   "execution_count": 157,
   "id": "640d239c-44b8-4c49-a542-23bf84a1d854",
   "metadata": {},
   "outputs": [],
   "source": [
    "X_train, X_test, y_train, y_test = train_test_split(X, y, test_size=0.20, random_state=1234)"
   ]
  },
  {
   "cell_type": "code",
   "execution_count": 158,
   "id": "2991abf5-2545-4f82-8450-6e4610d327ed",
   "metadata": {},
   "outputs": [],
   "source": [
    "X_train = X_train.reset_index(drop=True)     \n",
    "y_train = y_train.reset_index(drop=True)"
   ]
  },
  {
   "cell_type": "code",
   "execution_count": 159,
   "id": "63c7bbd5-0e1d-4137-9c47-0356caf8d6ef",
   "metadata": {},
   "outputs": [],
   "source": [
    "encoder = TargetEncoder(cols=cols_to_encode)"
   ]
  },
  {
   "cell_type": "code",
   "execution_count": 160,
   "id": "80cdd01a-d815-4661-873f-3d46f575e6be",
   "metadata": {},
   "outputs": [],
   "source": [
    "X_train_fitted = X_train.iloc[0:0,:]"
   ]
  },
  {
   "cell_type": "code",
   "execution_count": 161,
   "id": "e315c880-4e1a-4d72-8a16-bdd592268d83",
   "metadata": {},
   "outputs": [
    {
     "data": {
      "text/html": [
       "<div>\n",
       "<style scoped>\n",
       "    .dataframe tbody tr th:only-of-type {\n",
       "        vertical-align: middle;\n",
       "    }\n",
       "\n",
       "    .dataframe tbody tr th {\n",
       "        vertical-align: top;\n",
       "    }\n",
       "\n",
       "    .dataframe thead th {\n",
       "        text-align: right;\n",
       "    }\n",
       "</style>\n",
       "<table border=\"1\" class=\"dataframe\">\n",
       "  <thead>\n",
       "    <tr style=\"text-align: right;\">\n",
       "      <th></th>\n",
       "      <th>dep_dayofweek</th>\n",
       "      <th>op_unique_carrier</th>\n",
       "      <th>origin</th>\n",
       "      <th>dest</th>\n",
       "      <th>arr_Fog</th>\n",
       "      <th>arr_Snow</th>\n",
       "      <th>arr_Cold</th>\n",
       "      <th>arr_Storm</th>\n",
       "      <th>arr_Hail</th>\n",
       "      <th>arr_Precipitation</th>\n",
       "      <th>crs_dep_time</th>\n",
       "      <th>crs_arr_time</th>\n",
       "      <th>flights_origin</th>\n",
       "      <th>flights_dest</th>\n",
       "    </tr>\n",
       "  </thead>\n",
       "  <tbody>\n",
       "  </tbody>\n",
       "</table>\n",
       "</div>"
      ],
      "text/plain": [
       "Empty DataFrame\n",
       "Columns: [dep_dayofweek, op_unique_carrier, origin, dest, arr_Fog, arr_Snow, arr_Cold, arr_Storm, arr_Hail, arr_Precipitation, crs_dep_time, crs_arr_time, flights_origin, flights_dest]\n",
       "Index: []"
      ]
     },
     "execution_count": 161,
     "metadata": {},
     "output_type": "execute_result"
    }
   ],
   "source": [
    "X_train_fitted"
   ]
  },
  {
   "cell_type": "code",
   "execution_count": 162,
   "id": "0d9c7988-5dd3-47b9-b616-7b38e8fc6bf0",
   "metadata": {},
   "outputs": [],
   "source": [
    "kf = KFold(n_splits = 5)\n",
    "for tr_ind, val_ind in kf.split(X_train, y_train):\n",
    "    encoder.fit(X_train.loc[tr_ind], y_train.loc[tr_ind])\n",
    "    X_train_fitted = X_train_fitted.append(encoder.transform(X_train.loc[val_ind]))"
   ]
  },
  {
   "cell_type": "code",
   "execution_count": null,
   "id": "41351a62-f271-47be-bfc1-2110829c9f95",
   "metadata": {},
   "outputs": [],
   "source": []
  },
  {
   "cell_type": "code",
   "execution_count": 163,
   "id": "d386ba63-633a-427c-8a7c-bcb35c7790ac",
   "metadata": {},
   "outputs": [],
   "source": [
    "encoder.fit(X_train, y_train)\n",
    "X_test_fitted = encoder.transform(X_test)"
   ]
  },
  {
   "cell_type": "code",
   "execution_count": null,
   "id": "650baaf9-4a1f-469b-8fea-3139355101d5",
   "metadata": {},
   "outputs": [],
   "source": []
  },
  {
   "cell_type": "code",
   "execution_count": 169,
   "id": "01488d08-ff39-4698-8592-781f62adbe00",
   "metadata": {},
   "outputs": [],
   "source": [
    "max_depth = [10, 15, 20]\n",
    "n_estimators = [10, 25, 50]\n",
    "params = {\"max_depth\": max_depth, \"n_estimators\": n_estimators}"
   ]
  },
  {
   "cell_type": "code",
   "execution_count": 170,
   "id": "9161890b-baf0-445b-8370-4a0ac942a0e7",
   "metadata": {},
   "outputs": [],
   "source": [
    "param_comb = 10"
   ]
  },
  {
   "cell_type": "code",
   "execution_count": 171,
   "id": "9bbdc60e-f4eb-48ca-9268-a7112702a707",
   "metadata": {},
   "outputs": [],
   "source": [
    "mod = RandomForestClassifier()"
   ]
  },
  {
   "cell_type": "code",
   "execution_count": null,
   "id": "b5f6c764-be36-421c-89f8-e19d0dc9d309",
   "metadata": {},
   "outputs": [
    {
     "name": "stderr",
     "output_type": "stream",
     "text": [
      "/home/joaolrossi/anaconda3/lib/python3.8/site-packages/sklearn/model_selection/_search.py:292: UserWarning: The total space of parameters 9 is smaller than n_iter=10. Running 9 iterations. For exhaustive searches, use GridSearchCV.\n",
      "  warnings.warn(\n"
     ]
    },
    {
     "name": "stdout",
     "output_type": "stream",
     "text": [
      "Fitting 5 folds for each of 9 candidates, totalling 45 fits\n"
     ]
    }
   ],
   "source": [
    "#preserving same cv\n",
    "random_search = RandomizedSearchCV(mod, param_distributions=params, n_iter=param_comb, n_jobs=2, verbose=3, random_state=0, cv = kf.split(X_train, y_train))\n",
    "random_search.fit(X_train_fitted, y_train)\n",
    "print(random_search.best_score_)"
   ]
  },
  {
   "cell_type": "code",
   "execution_count": null,
   "id": "cc836687-9be6-4f0d-9606-c37502441877",
   "metadata": {},
   "outputs": [],
   "source": []
  },
  {
   "cell_type": "code",
   "execution_count": null,
   "id": "3d519366-fb1d-4de9-b3cb-0543011d5c09",
   "metadata": {},
   "outputs": [],
   "source": []
  }
 ],
 "metadata": {
  "kernelspec": {
   "display_name": "Python 3",
   "language": "python",
   "name": "python3"
  },
  "language_info": {
   "codemirror_mode": {
    "name": "ipython",
    "version": 3
   },
   "file_extension": ".py",
   "mimetype": "text/x-python",
   "name": "python",
   "nbconvert_exporter": "python",
   "pygments_lexer": "ipython3",
   "version": "3.8.8"
  }
 },
 "nbformat": 4,
 "nbformat_minor": 5
}
