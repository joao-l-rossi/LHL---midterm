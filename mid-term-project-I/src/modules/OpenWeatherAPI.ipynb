{
 "cells": [
  {
   "cell_type": "code",
   "execution_count": 57,
   "id": "acc03581-c895-4082-8cae-f0a568b4b7c2",
   "metadata": {},
   "outputs": [],
   "source": [
    "import pandas as pd\n",
    "import numpy as np\n",
    "import requests\n",
    "import os\n",
    "from time import strptime\n",
    "import datetime\n",
    "from time import mktime\n",
    "import time"
   ]
  },
  {
   "cell_type": "code",
   "execution_count": 5,
   "id": "f5fede75-147a-4390-9b04-687ca3df4817",
   "metadata": {},
   "outputs": [],
   "source": [
    "week_2019 = pd.read_csv(\"~/Desktop/flight_training_2019_firstweek.csv\")"
   ]
  },
  {
   "cell_type": "code",
   "execution_count": 35,
   "id": "4f02a989-d262-47dc-b215-bfeb29b27963",
   "metadata": {},
   "outputs": [
    {
     "name": "stdout",
     "output_type": "stream",
     "text": [
      "2019-01-07\n",
      "2019-01-01\n"
     ]
    }
   ],
   "source": [
    "max_date = week_2019[\"fl_date\"].max()\n",
    "min_date = week_2019[\"fl_date\"].min()\n",
    "print(max_date)\n",
    "print(min_date)"
   ]
  },
  {
   "cell_type": "code",
   "execution_count": 55,
   "id": "c8c02475-f77f-4f84-b032-165b739e5823",
   "metadata": {},
   "outputs": [
    {
     "data": {
      "text/plain": [
       "time.struct_time"
      ]
     },
     "execution_count": 55,
     "metadata": {},
     "output_type": "execute_result"
    }
   ],
   "source": [
    "dt_start = strptime(max_date, \"%Y-%m-%d\")\n",
    "dt_end = strptime(min_date, \"%Y-%m-%d\")\n",
    "type(dt_start)"
   ]
  },
  {
   "cell_type": "code",
   "execution_count": 60,
   "id": "dc37e003-8d7a-4966-a2f1-98c4e27a11ac",
   "metadata": {},
   "outputs": [],
   "source": [
    "unix_start = round(time.mktime(dt_start))\n",
    "unix_end = round(time.mktime(dt_end))"
   ]
  },
  {
   "cell_type": "code",
   "execution_count": 69,
   "id": "7230da4e-235a-4b6b-b995-86c45a2025a4",
   "metadata": {},
   "outputs": [
    {
     "data": {
      "text/plain": [
       "Index(['fl_date', 'mkt_unique_carrier', 'branded_code_share', 'mkt_carrier',\n",
       "       'mkt_carrier_fl_num', 'op_unique_carrier', 'tail_num',\n",
       "       'op_carrier_fl_num', 'origin_airport_id', 'origin', 'origin_city_name',\n",
       "       'dest_airport_id', 'dest', 'dest_city_name', 'crs_dep_time', 'dep_time',\n",
       "       'dep_delay', 'taxi_out', 'wheels_off', 'wheels_on', 'taxi_in',\n",
       "       'crs_arr_time', 'arr_time', 'arr_delay', 'cancelled',\n",
       "       'cancellation_code', 'diverted', 'dup', 'crs_elapsed_time',\n",
       "       'actual_elapsed_time', 'air_time', 'flights', 'distance',\n",
       "       'carrier_delay', 'weather_delay', 'nas_delay', 'security_delay',\n",
       "       'late_aircraft_delay', 'first_dep_time', 'total_add_gtime',\n",
       "       'longest_add_gtime', 'no_name'],\n",
       "      dtype='object')"
      ]
     },
     "execution_count": 69,
     "metadata": {},
     "output_type": "execute_result"
    }
   ],
   "source": [
    "week_2019.columns"
   ]
  },
  {
   "cell_type": "code",
   "execution_count": 76,
   "id": "9c19c711-ede9-41b5-a20c-6671f374779b",
   "metadata": {},
   "outputs": [
    {
     "data": {
      "text/plain": [
       "array(['College Station/Bryan, TX', 'Moline, IL', 'Chicago, IL',\n",
       "       'Greer, SC', 'Detroit, MI', 'Minneapolis, MN',\n",
       "       'Cedar Rapids/Iowa City, IA', 'Louisville, KY', 'Harrisburg, PA',\n",
       "       'New York, NY', 'Hartford, CT', 'Milwaukee, WI', 'Washington, DC',\n",
       "       'Richmond, VA', 'Birmingham, AL', 'Atlanta, GA', 'Gainesville, FL',\n",
       "       'Long Beach, CA', 'Salt Lake City, UT', 'Madison, WI',\n",
       "       'Houston, TX', 'Columbus, OH', 'Helena, MT', 'Charlotte, NC',\n",
       "       'Manchester, NH', 'Bismarck/Mandan, ND', 'Lincoln, NE',\n",
       "       'Dayton, OH', 'Oklahoma City, OK', 'Cincinnati, OH',\n",
       "       'Billings, MT', 'Norfolk, VA', 'Saginaw/Bay City/Midland, MI',\n",
       "       'Omaha, NE', 'Nashville, TN', 'Denver, CO', 'Idaho Falls, ID',\n",
       "       'Montgomery, AL', 'Seattle, WA', 'Boston, MA', 'Wichita, KS',\n",
       "       'Pittsburgh, PA', 'Dallas/Fort Worth, TX', 'South Bend, IN',\n",
       "       'Indianapolis, IN', 'Monroe, LA', 'Mobile, AL', 'Boise, ID',\n",
       "       'Los Angeles, CA', 'Duluth, MN', 'Traverse City, MI',\n",
       "       'Oakland, CA', 'Albany, GA', 'St. Louis, MO', 'Des Moines, IA',\n",
       "       'El Paso, TX', 'Peoria, IL', 'Albany, NY', 'Erie, PA', 'Aspen, CO',\n",
       "       'Roanoke, VA', 'Green Bay, WI', 'Fresno, CA', 'Asheville, NC',\n",
       "       'Fargo, ND', 'Jacksonville, FL',\n",
       "       'Bristol/Johnson City/Kingsport, TN', 'Las Vegas, NV',\n",
       "       'Greensboro/High Point, NC', 'Shreveport, LA', 'Grand Rapids, MI',\n",
       "       'Rochester, MN', 'Baton Rouge, LA', 'Philadelphia, PA',\n",
       "       'White Plains, NY', 'Tallahassee, FL', 'Brunswick, GA',\n",
       "       'Chattanooga, TN', 'Valdosta, GA', 'Burbank, CA',\n",
       "       'Charleston/Dunbar, WV', 'Appleton, WI', 'Bozeman, MT',\n",
       "       'Burlington, VT', 'Memphis, TN', 'Great Falls, MT',\n",
       "       'La Crosse, WI', 'Escanaba, MI', 'Allentown/Bethlehem/Easton, PA',\n",
       "       'Fort Wayne, IN', 'Colorado Springs, CO', 'Casper, WY',\n",
       "       'Newburgh/Poughkeepsie, NY', 'State College, PA', 'Lafayette, LA',\n",
       "       'Hancock/Houghton, MI', 'Eau Claire, WI', 'North Platte, NE',\n",
       "       'Lewisburg, WV', 'Staunton, VA', 'Muskegon, MI', 'Kearney, NE',\n",
       "       'Hays, KS', 'Salina, KS', 'Plattsburgh, NY', 'Vernal, UT',\n",
       "       'Moab, UT', 'Gillette, WY', 'Clarksburg/Fairmont, WV',\n",
       "       'Rock Springs, WY', 'Pueblo, CO', 'Cape Girardeau, MO',\n",
       "       'Paducah, KY', 'Liberal, KS', 'Springfield, IL', 'Scottsbluff, NE',\n",
       "       'Devils Lake, ND', 'Jamestown, ND', 'Laramie, WY',\n",
       "       'St. George, UT', 'Quincy, IL', 'Prescott, AZ',\n",
       "       'San Francisco, CA', 'Austin, TX', 'Spokane, WA', 'Ontario, CA',\n",
       "       'Sacramento, CA', 'Palm Springs, CA', 'Eagle, CO', 'San Diego, CA',\n",
       "       'Sioux Falls, SD', 'Flint, MI', 'Santa Barbara, CA',\n",
       "       'Bend/Redmond, OR', 'Reno, NV', 'Buffalo, NY', 'Arcata/Eureka, CA',\n",
       "       'Medford, OR', 'Bakersfield, CA', 'San Antonio, TX',\n",
       "       'Kansas City, MO', 'Monterey, CA', 'Rochester, NY', 'Eugene, OR',\n",
       "       'Albuquerque, NM', 'Fayetteville, AR', 'Phoenix, AZ',\n",
       "       'Springfield, MO', 'Lexington, KY', 'Redding, CA', 'Santa Ana, CA',\n",
       "       'Jackson, WY', 'Durango, CO', 'Charleston, SC', 'Tucson, AZ',\n",
       "       'Portland, OR', 'North Bend/Coos Bay, OR',\n",
       "       'Pasco/Kennewick/Richland, WA', 'Mammoth Lakes, CA',\n",
       "       'Grand Junction, CO', 'Sun Valley/Hailey/Ketchum, ID',\n",
       "       'San Luis Obispo, CA', 'Syracuse, NY', 'Hayden, CO',\n",
       "       'Santa Rosa, CA', 'San Jose, CA', 'Montrose/Delta, CO',\n",
       "       'Midland/Odessa, TX', 'Tulsa, OK', 'Rapid City, SD',\n",
       "       'Little Rock, AR', 'Cody, WY', 'Lewiston, ID', 'Pocatello, ID',\n",
       "       'Marquette, MI', 'Aberdeen, SD', 'Alpena, MI', 'Pellston, MI',\n",
       "       'Bemidji, MN', 'Brainerd, MN', 'Butte, MT', 'Cedar City, UT',\n",
       "       'Sault Ste. Marie, MI', 'Elko, NV', 'Iron Mountain/Kingsfd, MI',\n",
       "       'Twin Falls, ID', 'Hibbing, MN', 'Binghamton, NY',\n",
       "       'Rhinelander, WI', 'Ithaca/Cortland, NY',\n",
       "       'International Falls, MN', 'Fairbanks, AK', 'Anchorage, AK',\n",
       "       'Nome, AK', 'Kotzebue, AK', 'Lihue, HI', 'Juneau, AK',\n",
       "       'Newark, NJ', 'Orlando, FL', 'Baltimore, MD', 'Tampa, FL',\n",
       "       'Deadhorse, AK', 'Kahului, HI', 'New Orleans, LA',\n",
       "       'Raleigh/Durham, NC', 'Kona, HI', 'Honolulu, HI', 'Bellingham, WA',\n",
       "       'Fort Lauderdale, FL', 'Mission/McAllen/Edinburg, TX',\n",
       "       'Cleveland, OH', 'Valparaiso, FL', 'Portland, ME', 'Lubbock, TX',\n",
       "       'Providence, RI', 'Jackson/Vicksburg, MS', 'Akron, OH',\n",
       "       'Knoxville, TN', 'Brownsville, TX', 'Hobbs, NM', 'Columbia, SC',\n",
       "       'Miami, FL', 'Savannah, GA', 'Huntsville, AL', 'Hilo, HI',\n",
       "       'Missoula, MT', 'Fort Myers, FL', 'Atlantic City, NJ',\n",
       "       'Myrtle Beach, SC', 'Aguadilla, PR', 'Harlingen/San Benito, TX',\n",
       "       'Mosinee, WI', 'West Palm Beach/Palm Beach, FL', 'San Juan, PR',\n",
       "       'Gunnison, CO', 'Newport News/Williamsburg, VA', 'Salisbury, MD',\n",
       "       'Bangor, ME', 'Wilmington, NC', 'Fort Smith, AR',\n",
       "       'Charlottesville, VA', 'Columbus, MS', 'Gulfport/Biloxi, MS',\n",
       "       'Alexandria, LA', 'Evansville, IN', 'Augusta, GA',\n",
       "       'Greenville, NC', 'Fayetteville, NC', 'Worcester, MA',\n",
       "       'Ashland, WV', 'New Bern/Morehead/Beaufort, NC',\n",
       "       'Scranton/Wilkes-Barre, PA', 'Lynchburg, VA', 'Florence, SC',\n",
       "       'Kalamazoo, MI', 'Presque Isle/Houlton, ME', 'Elmira/Corning, NY',\n",
       "       'Lansing, MI', 'Williston, ND', 'Minot, ND', 'Santa Fe, NM',\n",
       "       'Kalispell, MT', 'Dickinson, ND', 'Amarillo, TX', 'Columbia, MO',\n",
       "       'Pensacola, FL', 'Waco, TX', 'Del Rio, TX', 'Lake Charles, LA',\n",
       "       'Corpus Christi, TX', 'Abilene, TX', 'Tyler, TX',\n",
       "       'Bloomington/Normal, IL', 'Champaign/Urbana, IL',\n",
       "       'Manhattan/Ft. Riley, KS', 'Sanford, FL', 'Punta Gorda, FL',\n",
       "       'St. Petersburg, FL', 'Stockton, CA', 'Santa Maria, CA',\n",
       "       'Hagerstown, MD', 'Concord, NC', 'Provo, UT', 'Toledo, OH',\n",
       "       'New Haven, CT', 'Jacksonville/Camp Lejeune, NC', 'Watertown, NY',\n",
       "       'Daytona Beach, FL', 'Panama City, FL', 'Laredo, TX',\n",
       "       'Roswell, NM', 'Flagstaff, AZ', 'Lawton/Fort Sill, OK',\n",
       "       'Dallas, TX', 'Dothan, AL', 'Grand Forks, ND',\n",
       "       'Sarasota/Bradenton, FL', 'Trenton, NJ', 'Islip, NY',\n",
       "       'Pago Pago, TT', 'Hoolehua, HI', 'Lanai, HI', 'Kapalua, HI',\n",
       "       'Killeen, TX', 'Columbus, GA', 'Key West, FL', 'Melbourne, FL',\n",
       "       'Latrobe, PA', 'Grand Island, NE', 'Charlotte Amalie, VI',\n",
       "       'Guam, TT', 'Saipan, TT', 'Beaumont/Port Arthur, TX',\n",
       "       'Garden City, KS', 'Waterloo, IA', 'Texarkana, AR',\n",
       "       'Wichita Falls, TX', 'Dubuque, IA', 'San Angelo, TX',\n",
       "       'Unalaska, AK', 'Hilton Head, SC', 'Christiansted, VI',\n",
       "       'Longview, TX', 'Sioux City, IA', 'Yuma, AZ', 'Joplin, MO',\n",
       "       'Cheyenne, WY', 'Meridian, MS', 'Hattiesburg/Laurel, MS',\n",
       "       'Kodiak, AK', 'Bethel, AK', 'Barrow, AK', 'Yakutat, AK',\n",
       "       'Cordova, AK', 'Ketchikan, AK', 'Sitka, AK', 'Wrangell, AK',\n",
       "       'Petersburg, AK', 'Niagara Falls, NY', 'Belleville, IL',\n",
       "       'Rockford, IL', 'Owensboro, KY', 'Portsmouth, NH', 'Ogden, UT',\n",
       "       'Stillwater, OK', 'Williamsport, PA', 'Ponce, PR', 'Yakima, WA',\n",
       "       'Pullman, WA', 'Wenatchee, WA', 'Walla Walla, WA',\n",
       "       'Ogdensburg, NY', 'Adak Island, AK', 'St. Cloud, MN'], dtype=object)"
      ]
     },
     "execution_count": 76,
     "metadata": {},
     "output_type": "execute_result"
    }
   ],
   "source": [
    "week_2019[\"origin_city_name\"].unique()"
   ]
  },
  {
   "cell_type": "code",
   "execution_count": 75,
   "id": "c350dc83-38e3-472e-8635-259d77ba5b08",
   "metadata": {},
   "outputs": [],
   "source": [
    "request_url = \"https://www.ncdc.noaa.gov/cdo-web/api/v2/\""
   ]
  },
  {
   "cell_type": "code",
   "execution_count": null,
   "id": "cbcedba9-0037-45af-b812-32ad8adbe29c",
   "metadata": {},
   "outputs": [],
   "source": []
  },
  {
   "cell_type": "code",
   "execution_count": 66,
   "id": "cb975fde-7285-4560-b4c2-b01ad7533dd6",
   "metadata": {},
   "outputs": [],
   "source": [
    "city = \"Chicago\"\n",
    "city_string = \"q=\" + city + \",US\"\n",
    "type_string = \"&type=hour\"\n",
    "start = \"&start=\" + str(unix_start)\n",
    "end = \"&start=\" + str(unix_end)\n",
    "app_key_in = os.environ[\"OPEN_WEATHER_KEY\"]\n",
    "app_key_in = \"28d7b6b0baa862de2ca9fb7e4fffe80d\"\n",
    "request_url = \"http://history.openweathermap.org/data/2.5/history/city?\"\n",
    "\n",
    "request = request_url + city_string + type_string + start + end + \"&appid=\" + app_key_in\n"
   ]
  },
  {
   "cell_type": "code",
   "execution_count": 64,
   "id": "a3327cef-35b5-43c7-8cb7-2f0c85702335",
   "metadata": {},
   "outputs": [],
   "source": []
  },
  {
   "cell_type": "code",
   "execution_count": null,
   "id": "20da00fb-4008-4c9e-9bca-78daefed0305",
   "metadata": {},
   "outputs": [],
   "source": []
  },
  {
   "cell_type": "code",
   "execution_count": 67,
   "id": "c34b5ef0-6156-4221-b4d6-0ba0d30ffd3f",
   "metadata": {},
   "outputs": [
    {
     "name": "stdout",
     "output_type": "stream",
     "text": [
      "Status Code = 401\n"
     ]
    },
    {
     "data": {
      "text/plain": [
       "{'cod': 401,\n",
       " 'message': 'Invalid API key. Please see http://openweathermap.org/faq#error401 for more info.'}"
      ]
     },
     "execution_count": 67,
     "metadata": {},
     "output_type": "execute_result"
    }
   ],
   "source": [
    "get_open_weather_API(request)"
   ]
  },
  {
   "cell_type": "code",
   "execution_count": null,
   "id": "26cea6d5-22b9-4f40-92e9-4f2b7c151894",
   "metadata": {},
   "outputs": [],
   "source": []
  },
  {
   "cell_type": "code",
   "execution_count": null,
   "id": "74b629cd-fcdd-4042-896a-c3e16d2d1df0",
   "metadata": {},
   "outputs": [],
   "source": []
  },
  {
   "cell_type": "code",
   "execution_count": null,
   "id": "1b2f7583-5aa5-4c1a-9246-24490859799b",
   "metadata": {},
   "outputs": [],
   "source": []
  },
  {
   "cell_type": "code",
   "execution_count": null,
   "id": "c278aa2d-6681-459b-8a34-dd88134e060c",
   "metadata": {},
   "outputs": [],
   "source": []
  },
  {
   "cell_type": "code",
   "execution_count": null,
   "id": "2202fa60-1e21-4a33-8ddd-49795f595d02",
   "metadata": {},
   "outputs": [],
   "source": []
  },
  {
   "cell_type": "code",
   "execution_count": null,
   "id": "a3f268dc-a27e-463a-96af-a8d94b656c71",
   "metadata": {},
   "outputs": [],
   "source": []
  },
  {
   "cell_type": "code",
   "execution_count": null,
   "id": "29a72266-1fea-410d-ac14-ffddb6a082fa",
   "metadata": {},
   "outputs": [],
   "source": []
  },
  {
   "cell_type": "code",
   "execution_count": null,
   "id": "e1e515bd-40a5-4e49-bde3-a566959bb134",
   "metadata": {},
   "outputs": [],
   "source": []
  },
  {
   "cell_type": "code",
   "execution_count": null,
   "id": "e7bd5b76-71f6-4a95-b338-e9ce85e1c1f4",
   "metadata": {},
   "outputs": [],
   "source": []
  },
  {
   "cell_type": "code",
   "execution_count": null,
   "id": "e8997af9-a655-4904-9ce9-b0bebc7fc100",
   "metadata": {},
   "outputs": [],
   "source": []
  },
  {
   "cell_type": "code",
   "execution_count": null,
   "id": "95cbba53-dd28-4c06-9e7f-8fadd7667212",
   "metadata": {},
   "outputs": [],
   "source": []
  },
  {
   "cell_type": "code",
   "execution_count": null,
   "id": "a98621a7-c08d-4035-92a3-31c10fc19b58",
   "metadata": {},
   "outputs": [],
   "source": []
  },
  {
   "cell_type": "code",
   "execution_count": null,
   "id": "9730c1b0-08f4-4445-8911-b25c7a7384ef",
   "metadata": {},
   "outputs": [],
   "source": []
  },
  {
   "cell_type": "code",
   "execution_count": null,
   "id": "743bdf40-3959-4f2e-ac83-76641e158d36",
   "metadata": {},
   "outputs": [],
   "source": []
  },
  {
   "cell_type": "code",
   "execution_count": null,
   "id": "9fd139fc-173b-4275-b32b-2e12f7c34966",
   "metadata": {},
   "outputs": [],
   "source": []
  }
 ],
 "metadata": {
  "kernelspec": {
   "display_name": "Python 3",
   "language": "python",
   "name": "python3"
  },
  "language_info": {
   "codemirror_mode": {
    "name": "ipython",
    "version": 3
   },
   "file_extension": ".py",
   "mimetype": "text/x-python",
   "name": "python",
   "nbconvert_exporter": "python",
   "pygments_lexer": "ipython3",
   "version": "3.8.8"
  }
 },
 "nbformat": 4,
 "nbformat_minor": 5
}
