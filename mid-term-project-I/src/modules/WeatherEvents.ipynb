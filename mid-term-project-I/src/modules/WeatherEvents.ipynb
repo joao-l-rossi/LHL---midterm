{
 "cells": [
  {
   "cell_type": "code",
   "execution_count": 2,
   "id": "513a060c-9b15-4fe6-b7e7-ef401895c6f4",
   "metadata": {},
   "outputs": [],
   "source": [
    "import pandas as pd\n",
    "import numpy as np"
   ]
  },
  {
   "cell_type": "code",
   "execution_count": 3,
   "id": "f03cc4a9-71f6-4bc4-8053-9ab68228dd57",
   "metadata": {},
   "outputs": [],
   "source": [
    "flights = pd.read_csv(\"~/Desktop/flight_training_2019_firstweek.csv\")"
   ]
  },
  {
   "cell_type": "code",
   "execution_count": 35,
   "id": "8954dca5-9b6e-43cf-a873-29bf3cd0cd6e",
   "metadata": {},
   "outputs": [],
   "source": [
    "WeatherEvents = pd.read_csv(\"~/Desktop/WeatherEvents_Jan2016-Dec2020.csv\")"
   ]
  },
  {
   "cell_type": "code",
   "execution_count": 12,
   "id": "cfbf5dac-c5da-47cf-94dd-4fc2a0129936",
   "metadata": {},
   "outputs": [],
   "source": [
    "flights_test = pd.read_csv(\"~/Desktop/flight_testing.csv\")"
   ]
  },
  {
   "cell_type": "code",
   "execution_count": 34,
   "id": "c777320e-4995-4e6b-bcfc-32963a364462",
   "metadata": {},
   "outputs": [
    {
     "data": {
      "text/html": [
       "<div>\n",
       "<style scoped>\n",
       "    .dataframe tbody tr th:only-of-type {\n",
       "        vertical-align: middle;\n",
       "    }\n",
       "\n",
       "    .dataframe tbody tr th {\n",
       "        vertical-align: top;\n",
       "    }\n",
       "\n",
       "    .dataframe thead th {\n",
       "        text-align: right;\n",
       "    }\n",
       "</style>\n",
       "<table border=\"1\" class=\"dataframe\">\n",
       "  <thead>\n",
       "    <tr style=\"text-align: right;\">\n",
       "      <th></th>\n",
       "      <th>EventId</th>\n",
       "      <th>Type</th>\n",
       "      <th>Severity</th>\n",
       "      <th>StartTime(UTC)</th>\n",
       "      <th>EndTime(UTC)</th>\n",
       "      <th>TimeZone</th>\n",
       "      <th>AirportCode</th>\n",
       "      <th>LocationLat</th>\n",
       "      <th>LocationLng</th>\n",
       "      <th>City</th>\n",
       "      <th>County</th>\n",
       "      <th>State</th>\n",
       "      <th>ZipCode</th>\n",
       "    </tr>\n",
       "  </thead>\n",
       "  <tbody>\n",
       "    <tr>\n",
       "      <th>0</th>\n",
       "      <td>W-1</td>\n",
       "      <td>Snow</td>\n",
       "      <td>Light</td>\n",
       "      <td>2016-01-06 23:14:00</td>\n",
       "      <td>2016-01-07 00:34:00</td>\n",
       "      <td>US/Mountain</td>\n",
       "      <td>K04V</td>\n",
       "      <td>38.0972</td>\n",
       "      <td>-106.1689</td>\n",
       "      <td>Saguache</td>\n",
       "      <td>Saguache</td>\n",
       "      <td>CO</td>\n",
       "      <td>81149.0</td>\n",
       "    </tr>\n",
       "    <tr>\n",
       "      <th>1</th>\n",
       "      <td>W-2</td>\n",
       "      <td>Snow</td>\n",
       "      <td>Light</td>\n",
       "      <td>2016-01-07 04:14:00</td>\n",
       "      <td>2016-01-07 04:54:00</td>\n",
       "      <td>US/Mountain</td>\n",
       "      <td>K04V</td>\n",
       "      <td>38.0972</td>\n",
       "      <td>-106.1689</td>\n",
       "      <td>Saguache</td>\n",
       "      <td>Saguache</td>\n",
       "      <td>CO</td>\n",
       "      <td>81149.0</td>\n",
       "    </tr>\n",
       "    <tr>\n",
       "      <th>2</th>\n",
       "      <td>W-3</td>\n",
       "      <td>Snow</td>\n",
       "      <td>Light</td>\n",
       "      <td>2016-01-07 05:54:00</td>\n",
       "      <td>2016-01-07 15:34:00</td>\n",
       "      <td>US/Mountain</td>\n",
       "      <td>K04V</td>\n",
       "      <td>38.0972</td>\n",
       "      <td>-106.1689</td>\n",
       "      <td>Saguache</td>\n",
       "      <td>Saguache</td>\n",
       "      <td>CO</td>\n",
       "      <td>81149.0</td>\n",
       "    </tr>\n",
       "    <tr>\n",
       "      <th>3</th>\n",
       "      <td>W-4</td>\n",
       "      <td>Snow</td>\n",
       "      <td>Light</td>\n",
       "      <td>2016-01-08 05:34:00</td>\n",
       "      <td>2016-01-08 05:54:00</td>\n",
       "      <td>US/Mountain</td>\n",
       "      <td>K04V</td>\n",
       "      <td>38.0972</td>\n",
       "      <td>-106.1689</td>\n",
       "      <td>Saguache</td>\n",
       "      <td>Saguache</td>\n",
       "      <td>CO</td>\n",
       "      <td>81149.0</td>\n",
       "    </tr>\n",
       "    <tr>\n",
       "      <th>4</th>\n",
       "      <td>W-5</td>\n",
       "      <td>Snow</td>\n",
       "      <td>Light</td>\n",
       "      <td>2016-01-08 13:54:00</td>\n",
       "      <td>2016-01-08 15:54:00</td>\n",
       "      <td>US/Mountain</td>\n",
       "      <td>K04V</td>\n",
       "      <td>38.0972</td>\n",
       "      <td>-106.1689</td>\n",
       "      <td>Saguache</td>\n",
       "      <td>Saguache</td>\n",
       "      <td>CO</td>\n",
       "      <td>81149.0</td>\n",
       "    </tr>\n",
       "  </tbody>\n",
       "</table>\n",
       "</div>"
      ],
      "text/plain": [
       "  EventId  Type Severity       StartTime(UTC)         EndTime(UTC)  \\\n",
       "0     W-1  Snow    Light  2016-01-06 23:14:00  2016-01-07 00:34:00   \n",
       "1     W-2  Snow    Light  2016-01-07 04:14:00  2016-01-07 04:54:00   \n",
       "2     W-3  Snow    Light  2016-01-07 05:54:00  2016-01-07 15:34:00   \n",
       "3     W-4  Snow    Light  2016-01-08 05:34:00  2016-01-08 05:54:00   \n",
       "4     W-5  Snow    Light  2016-01-08 13:54:00  2016-01-08 15:54:00   \n",
       "\n",
       "      TimeZone AirportCode  LocationLat  LocationLng      City    County  \\\n",
       "0  US/Mountain        K04V      38.0972    -106.1689  Saguache  Saguache   \n",
       "1  US/Mountain        K04V      38.0972    -106.1689  Saguache  Saguache   \n",
       "2  US/Mountain        K04V      38.0972    -106.1689  Saguache  Saguache   \n",
       "3  US/Mountain        K04V      38.0972    -106.1689  Saguache  Saguache   \n",
       "4  US/Mountain        K04V      38.0972    -106.1689  Saguache  Saguache   \n",
       "\n",
       "  State  ZipCode  \n",
       "0    CO  81149.0  \n",
       "1    CO  81149.0  \n",
       "2    CO  81149.0  \n",
       "3    CO  81149.0  \n",
       "4    CO  81149.0  "
      ]
     },
     "execution_count": 34,
     "metadata": {},
     "output_type": "execute_result"
    }
   ],
   "source": [
    "WeatherEvents.head()"
   ]
  },
  {
   "cell_type": "code",
   "execution_count": 38,
   "id": "d4cdf778-b20c-47e8-afad-7f8158df7672",
   "metadata": {},
   "outputs": [
    {
     "data": {
      "text/plain": [
       "US/Central     2611616\n",
       "US/Eastern     2459344\n",
       "US/Mountain     623358\n",
       "US/Pacific      579888\n",
       "Name: TimeZone, dtype: int64"
      ]
     },
     "execution_count": 38,
     "metadata": {},
     "output_type": "execute_result"
    }
   ],
   "source": [
    "WeatherEvents[\"TimeZone\"].value_counts()"
   ]
  },
  {
   "cell_type": "code",
   "execution_count": 11,
   "id": "63119967-2f99-40ba-9120-605601ad2312",
   "metadata": {},
   "outputs": [
    {
     "data": {
      "text/plain": [
       "Index(['fl_date', 'mkt_unique_carrier', 'branded_code_share', 'mkt_carrier',\n",
       "       'mkt_carrier_fl_num', 'op_unique_carrier', 'tail_num',\n",
       "       'op_carrier_fl_num', 'origin_airport_id', 'origin', 'origin_city_name',\n",
       "       'dest_airport_id', 'dest', 'dest_city_name', 'crs_dep_time', 'dep_time',\n",
       "       'dep_delay', 'taxi_out', 'wheels_off', 'wheels_on', 'taxi_in',\n",
       "       'crs_arr_time', 'arr_time', 'arr_delay', 'cancelled',\n",
       "       'cancellation_code', 'diverted', 'dup', 'crs_elapsed_time',\n",
       "       'actual_elapsed_time', 'air_time', 'flights', 'distance',\n",
       "       'carrier_delay', 'weather_delay', 'nas_delay', 'security_delay',\n",
       "       'late_aircraft_delay', 'first_dep_time', 'total_add_gtime',\n",
       "       'longest_add_gtime', 'no_name'],\n",
       "      dtype='object')"
      ]
     },
     "execution_count": 11,
     "metadata": {},
     "output_type": "execute_result"
    }
   ],
   "source": [
    "flights.columns"
   ]
  },
  {
   "cell_type": "code",
   "execution_count": 17,
   "id": "331114ae-8328-4eb6-878e-b35fb4e529be",
   "metadata": {},
   "outputs": [],
   "source": [
    "flights_df = flights[flights_test.columns] #only getting columns we will have in the test data"
   ]
  },
  {
   "cell_type": "code",
   "execution_count": 36,
   "id": "c9578b9a-0238-4608-9df0-13153c486362",
   "metadata": {},
   "outputs": [
    {
     "data": {
      "text/plain": [
       "K3TH    11142\n",
       "KMLP    10883\n",
       "KHYW     9268\n",
       "K0CO     8242\n",
       "KSMP     7996\n",
       "        ...  \n",
       "KCZZ       43\n",
       "K4HV       27\n",
       "KCQV       25\n",
       "KSPL        8\n",
       "KI39        1\n",
       "Name: AirportCode, Length: 2071, dtype: int64"
      ]
     },
     "execution_count": 36,
     "metadata": {},
     "output_type": "execute_result"
    }
   ],
   "source": [
    "WeatherEvents[\"AirportCode\"].value_counts()"
   ]
  },
  {
   "cell_type": "code",
   "execution_count": 19,
   "id": "e43f1da6-c975-458d-875e-9f26928d9d22",
   "metadata": {},
   "outputs": [
    {
     "data": {
      "text/plain": [
       "Index(['fl_date', 'mkt_unique_carrier', 'branded_code_share', 'mkt_carrier',\n",
       "       'mkt_carrier_fl_num', 'op_unique_carrier', 'tail_num',\n",
       "       'op_carrier_fl_num', 'origin_airport_id', 'origin', 'origin_city_name',\n",
       "       'dest_airport_id', 'dest', 'dest_city_name', 'crs_dep_time',\n",
       "       'crs_arr_time', 'dup', 'crs_elapsed_time', 'flights', 'distance'],\n",
       "      dtype='object')"
      ]
     },
     "execution_count": 19,
     "metadata": {},
     "output_type": "execute_result"
    }
   ],
   "source": [
    "flights_df.columns"
   ]
  },
  {
   "cell_type": "code",
   "execution_count": 26,
   "id": "8d53646e-fd1b-49ca-8c0c-2e9ec4e9e328",
   "metadata": {},
   "outputs": [
    {
     "data": {
      "text/plain": [
       "Rain             3752341\n",
       "Fog              1385264\n",
       "Snow              827555\n",
       "Cold              169182\n",
       "Precipitation      96684\n",
       "Storm              40553\n",
       "Hail                2627\n",
       "Name: Type, dtype: int64"
      ]
     },
     "execution_count": 26,
     "metadata": {},
     "output_type": "execute_result"
    }
   ],
   "source": [
    "WeatherEvents[\"Type\"].value_counts()"
   ]
  },
  {
   "cell_type": "code",
   "execution_count": 27,
   "id": "1d9bf27e-52b9-4c4c-8cbc-5fcc372ced72",
   "metadata": {},
   "outputs": [
    {
     "data": {
      "text/plain": [
       "Light       3820970\n",
       "Severe      1167203\n",
       "Moderate    1020399\n",
       "Heavy        166323\n",
       "UNK           96684\n",
       "Other          2627\n",
       "Name: Severity, dtype: int64"
      ]
     },
     "execution_count": 27,
     "metadata": {},
     "output_type": "execute_result"
    }
   ],
   "source": [
    "WeatherEvents[\"Severity\"].value_counts()"
   ]
  },
  {
   "cell_type": "markdown",
   "id": "9373d90c-5be6-4d84-9dfc-6a0d78cf9efc",
   "metadata": {},
   "source": [
    "### Steps to merge the data\n",
    "* Filter weather to the min/max interval of the flights data\n",
    "* Add columns with local time instead of (UTC) - US daylight saving time is Mar-Nov So no need to do check that\n",
    "* Create columns for Rain, Fog, Snow, Cold, Precipitation, Storm, and Hail for Arrival and Departure\n",
    "* For each row in Flights:\n",
    "    * Get all rows in Weather which contain departure and arrival time and locations\n",
    "    * Populate the weather cil\n",
    "    "
   ]
  },
  {
   "cell_type": "code",
   "execution_count": null,
   "id": "a0f0081d-cafd-4c64-9905-7e523f1e780c",
   "metadata": {},
   "outputs": [],
   "source": []
  },
  {
   "cell_type": "code",
   "execution_count": null,
   "id": "639af01c-3d89-4544-b9bb-6834ec39b7ee",
   "metadata": {},
   "outputs": [],
   "source": []
  },
  {
   "cell_type": "code",
   "execution_count": null,
   "id": "bce6a25a-e625-4f1d-be69-f38042127118",
   "metadata": {},
   "outputs": [],
   "source": []
  },
  {
   "cell_type": "code",
   "execution_count": null,
   "id": "6bed8602-9f18-41a1-b50c-c3a2fb5c83c0",
   "metadata": {},
   "outputs": [],
   "source": []
  }
 ],
 "metadata": {
  "kernelspec": {
   "display_name": "Python 3",
   "language": "python",
   "name": "python3"
  },
  "language_info": {
   "codemirror_mode": {
    "name": "ipython",
    "version": 3
   },
   "file_extension": ".py",
   "mimetype": "text/x-python",
   "name": "python",
   "nbconvert_exporter": "python",
   "pygments_lexer": "ipython3",
   "version": "3.8.8"
  }
 },
 "nbformat": 4,
 "nbformat_minor": 5
}
