{
 "cells": [
  {
   "cell_type": "code",
   "execution_count": 1,
   "id": "b1d4c990-671d-4ce0-a083-e06188ce5ab4",
   "metadata": {},
   "outputs": [],
   "source": [
    "import pandas as pd\n",
    "import numpy as np\n",
    "import pickle\n",
    "from sklearn.ensemble import RandomForestRegressor\n",
    "import  category_encoders as ce\n",
    "from category_encoders import *"
   ]
  },
  {
   "cell_type": "code",
   "execution_count": 2,
   "id": "e1bc6b63-ea3b-49e9-8e7e-e6914539e5ce",
   "metadata": {},
   "outputs": [],
   "source": [
    "filename = \"/home/joaolrossi/Downloads/Finalized_model.sav\"\n",
    "final_model = pickle.load(open(filename,\"rb\"))"
   ]
  },
  {
   "cell_type": "code",
   "execution_count": 3,
   "id": "f66073b7-480d-41b0-85db-1c09427e79dd",
   "metadata": {},
   "outputs": [],
   "source": [
    "#reading train data to estimate the target encoding\n",
    "url = \"https://raw.githubusercontent.com/joao-l-rossi/LHL-Predicting-Flight-Delays/main/data/Flights_TRAIN.csv\"\n",
    "dataset = pd.read_csv(url)\n",
    "dataset = dataset.dropna()"
   ]
  },
  {
   "cell_type": "code",
   "execution_count": 10,
   "id": "6e08d188-01ad-463b-862e-2fc35ff75b38",
   "metadata": {},
   "outputs": [
    {
     "data": {
      "text/plain": [
       "Index(['fl_date', 'mkt_carrier', 'mkt_carrier_fl_num', 'origin', 'dest',\n",
       "       'dep_datetime', 'arr_datetime', 'dep_dayofweek', 'arr_dayofweek',\n",
       "       'op_unique_carrier', 'tail_num', 'crs_elapsed_time', 'distance',\n",
       "       'dep_Rain', 'dep_Fog', 'dep_Snow', 'dep_Cold', 'dep_Storm', 'dep_Hail',\n",
       "       'dep_Precipitation', 'arr_Rain', 'arr_Fog', 'arr_Snow', 'arr_Cold',\n",
       "       'arr_Storm', 'arr_Hail', 'arr_Precipitation', 'crs_dep_time',\n",
       "       'crs_arr_time', 'flights_origin', 'flights_dest'],\n",
       "      dtype='object')"
      ]
     },
     "execution_count": 10,
     "metadata": {},
     "output_type": "execute_result"
    }
   ],
   "source": [
    "#reading test data\n",
    "url = \"https://raw.githubusercontent.com/joao-l-rossi/LHL-Predicting-Flight-Delays/main/data/Flights_TEST.csv\"\n",
    "dataset_TEST = pd.read_csv(url)\n",
    "dataset_TEST = dataset_TEST.dropna().reset_index(drop=True)\n",
    "dataset_TEST.columns"
   ]
  },
  {
   "cell_type": "code",
   "execution_count": 47,
   "id": "dd1be31f-cebd-44e6-b963-7154fd39332c",
   "metadata": {},
   "outputs": [],
   "source": [
    "#columns to keep and to encode\n",
    "cols_to_encode = [\"origin\", \"dest\",\"op_unique_carrier\"]\n",
    "cols_X = ['dep_dayofweek','op_unique_carrier', 'origin', 'dest',\n",
    "       'arr_Fog', 'arr_Snow', 'arr_Cold', 'arr_Storm', 'arr_Hail',\n",
    "          'arr_Precipitation', 'crs_dep_time', 'crs_arr_time',\n",
    "          'flights_origin', 'flights_dest']"
   ]
  },
  {
   "cell_type": "code",
   "execution_count": 48,
   "id": "618e79b1-b5ed-4eb1-939f-ea5892aed5f0",
   "metadata": {},
   "outputs": [],
   "source": [
    "# Setting up X and y\n",
    "X_train = dataset[cols_X]\n",
    "y_train = dataset[\"arr_delay\"]\n",
    "X_test = dataset_TEST[cols_X]"
   ]
  },
  {
   "cell_type": "code",
   "execution_count": 49,
   "id": "bda26eca-f89d-49b9-a611-a81d8d09aa4d",
   "metadata": {},
   "outputs": [
    {
     "data": {
      "text/plain": [
       "(148371, 14)"
      ]
     },
     "execution_count": 49,
     "metadata": {},
     "output_type": "execute_result"
    }
   ],
   "source": [
    "#Creating encode object\n",
    "encoder = TargetEncoder(cols=cols_to_encode)\n",
    "\n",
    "#Encoding test\n",
    "encoder.fit(X_train, y_train)\n",
    "X_test_fitted = encoder.transform(X_test)\n",
    "X_test_fitted.shape"
   ]
  },
  {
   "cell_type": "code",
   "execution_count": 50,
   "id": "fee4eaab-55ed-4338-82bd-330788f8c355",
   "metadata": {},
   "outputs": [
    {
     "data": {
      "text/plain": [
       "(148371,)"
      ]
     },
     "execution_count": 50,
     "metadata": {},
     "output_type": "execute_result"
    }
   ],
   "source": [
    "y_pred = final_model.predict(X_test_fitted)\n",
    "y_pred.shape"
   ]
  },
  {
   "cell_type": "code",
   "execution_count": 51,
   "id": "bee33a7e-aade-4e81-b484-d935e89e9337",
   "metadata": {},
   "outputs": [],
   "source": [
    "submission = pd.concat([dataset_TEST[[\"fl_date\", \"mkt_carrier\", \"mkt_carrier_fl_num\", \"origin\", \"dest\"]],pd.DataFrame(y_pred) ], axis = 1)"
   ]
  },
  {
   "cell_type": "code",
   "execution_count": 55,
   "id": "46064fa2-cdc7-4fb8-a03e-13c6e23cb3aa",
   "metadata": {},
   "outputs": [
    {
     "data": {
      "text/html": [
       "<div>\n",
       "<style scoped>\n",
       "    .dataframe tbody tr th:only-of-type {\n",
       "        vertical-align: middle;\n",
       "    }\n",
       "\n",
       "    .dataframe tbody tr th {\n",
       "        vertical-align: top;\n",
       "    }\n",
       "\n",
       "    .dataframe thead th {\n",
       "        text-align: right;\n",
       "    }\n",
       "</style>\n",
       "<table border=\"1\" class=\"dataframe\">\n",
       "  <thead>\n",
       "    <tr style=\"text-align: right;\">\n",
       "      <th></th>\n",
       "      <th>fl_date</th>\n",
       "      <th>mkt_carrier</th>\n",
       "      <th>op_carrier_fl_num</th>\n",
       "      <th>origin</th>\n",
       "      <th>dest</th>\n",
       "      <th>predicted_delay</th>\n",
       "    </tr>\n",
       "  </thead>\n",
       "  <tbody>\n",
       "    <tr>\n",
       "      <th>0</th>\n",
       "      <td>2020-01-01 00:00:00.000</td>\n",
       "      <td>WN</td>\n",
       "      <td>5888</td>\n",
       "      <td>ONT</td>\n",
       "      <td>SFO</td>\n",
       "      <td>6.258602</td>\n",
       "    </tr>\n",
       "    <tr>\n",
       "      <th>1</th>\n",
       "      <td>2020-01-01 00:00:00.000</td>\n",
       "      <td>WN</td>\n",
       "      <td>6276</td>\n",
       "      <td>ONT</td>\n",
       "      <td>SFO</td>\n",
       "      <td>5.706332</td>\n",
       "    </tr>\n",
       "    <tr>\n",
       "      <th>2</th>\n",
       "      <td>2020-01-01 00:00:00.000</td>\n",
       "      <td>WN</td>\n",
       "      <td>4598</td>\n",
       "      <td>ONT</td>\n",
       "      <td>SJC</td>\n",
       "      <td>9.880496</td>\n",
       "    </tr>\n",
       "    <tr>\n",
       "      <th>3</th>\n",
       "      <td>2020-01-01 00:00:00.000</td>\n",
       "      <td>WN</td>\n",
       "      <td>4761</td>\n",
       "      <td>ONT</td>\n",
       "      <td>SJC</td>\n",
       "      <td>6.996217</td>\n",
       "    </tr>\n",
       "    <tr>\n",
       "      <th>4</th>\n",
       "      <td>2020-01-01 00:00:00.000</td>\n",
       "      <td>WN</td>\n",
       "      <td>5162</td>\n",
       "      <td>ONT</td>\n",
       "      <td>SJC</td>\n",
       "      <td>0.586618</td>\n",
       "    </tr>\n",
       "    <tr>\n",
       "      <th>...</th>\n",
       "      <td>...</td>\n",
       "      <td>...</td>\n",
       "      <td>...</td>\n",
       "      <td>...</td>\n",
       "      <td>...</td>\n",
       "      <td>...</td>\n",
       "    </tr>\n",
       "    <tr>\n",
       "      <th>148366</th>\n",
       "      <td>2020-01-07 00:00:00.000</td>\n",
       "      <td>DL</td>\n",
       "      <td>4813</td>\n",
       "      <td>DTW</td>\n",
       "      <td>JFK</td>\n",
       "      <td>-9.933026</td>\n",
       "    </tr>\n",
       "    <tr>\n",
       "      <th>148367</th>\n",
       "      <td>2020-01-07 00:00:00.000</td>\n",
       "      <td>DL</td>\n",
       "      <td>4814</td>\n",
       "      <td>GSP</td>\n",
       "      <td>LGA</td>\n",
       "      <td>-12.788722</td>\n",
       "    </tr>\n",
       "    <tr>\n",
       "      <th>148368</th>\n",
       "      <td>2020-01-07 00:00:00.000</td>\n",
       "      <td>DL</td>\n",
       "      <td>4815</td>\n",
       "      <td>ATL</td>\n",
       "      <td>XNA</td>\n",
       "      <td>-7.701977</td>\n",
       "    </tr>\n",
       "    <tr>\n",
       "      <th>148369</th>\n",
       "      <td>2020-01-07 00:00:00.000</td>\n",
       "      <td>DL</td>\n",
       "      <td>4815</td>\n",
       "      <td>XNA</td>\n",
       "      <td>ATL</td>\n",
       "      <td>-7.566026</td>\n",
       "    </tr>\n",
       "    <tr>\n",
       "      <th>148370</th>\n",
       "      <td>2020-01-07 00:00:00.000</td>\n",
       "      <td>DL</td>\n",
       "      <td>4816</td>\n",
       "      <td>PWM</td>\n",
       "      <td>LGA</td>\n",
       "      <td>-13.776125</td>\n",
       "    </tr>\n",
       "  </tbody>\n",
       "</table>\n",
       "<p>148371 rows × 6 columns</p>\n",
       "</div>"
      ],
      "text/plain": [
       "                        fl_date mkt_carrier  op_carrier_fl_num origin dest  \\\n",
       "0       2020-01-01 00:00:00.000          WN               5888    ONT  SFO   \n",
       "1       2020-01-01 00:00:00.000          WN               6276    ONT  SFO   \n",
       "2       2020-01-01 00:00:00.000          WN               4598    ONT  SJC   \n",
       "3       2020-01-01 00:00:00.000          WN               4761    ONT  SJC   \n",
       "4       2020-01-01 00:00:00.000          WN               5162    ONT  SJC   \n",
       "...                         ...         ...                ...    ...  ...   \n",
       "148366  2020-01-07 00:00:00.000          DL               4813    DTW  JFK   \n",
       "148367  2020-01-07 00:00:00.000          DL               4814    GSP  LGA   \n",
       "148368  2020-01-07 00:00:00.000          DL               4815    ATL  XNA   \n",
       "148369  2020-01-07 00:00:00.000          DL               4815    XNA  ATL   \n",
       "148370  2020-01-07 00:00:00.000          DL               4816    PWM  LGA   \n",
       "\n",
       "        predicted_delay  \n",
       "0              6.258602  \n",
       "1              5.706332  \n",
       "2              9.880496  \n",
       "3              6.996217  \n",
       "4              0.586618  \n",
       "...                 ...  \n",
       "148366        -9.933026  \n",
       "148367       -12.788722  \n",
       "148368        -7.701977  \n",
       "148369        -7.566026  \n",
       "148370       -13.776125  \n",
       "\n",
       "[148371 rows x 6 columns]"
      ]
     },
     "execution_count": 55,
     "metadata": {},
     "output_type": "execute_result"
    }
   ],
   "source": [
    "submission.rename(columns = {0:\"predicted_delay\"}, inplace=True)\n",
    "submission"
   ]
  },
  {
   "cell_type": "code",
   "execution_count": 56,
   "id": "3b817866-d695-4cbb-abb5-a18280d043c8",
   "metadata": {},
   "outputs": [],
   "source": [
    "submission.to_csv(\"~/Desktop/LHL-Predicting-Flight-Delays/submission.csv\", index=False)"
   ]
  },
  {
   "cell_type": "code",
   "execution_count": null,
   "id": "fc4af18a-f3b2-4c87-a431-a3be3e0efd09",
   "metadata": {},
   "outputs": [],
   "source": []
  }
 ],
 "metadata": {
  "kernelspec": {
   "display_name": "Python 3",
   "language": "python",
   "name": "python3"
  },
  "language_info": {
   "codemirror_mode": {
    "name": "ipython",
    "version": 3
   },
   "file_extension": ".py",
   "mimetype": "text/x-python",
   "name": "python",
   "nbconvert_exporter": "python",
   "pygments_lexer": "ipython3",
   "version": "3.8.8"
  }
 },
 "nbformat": 4,
 "nbformat_minor": 5
}
