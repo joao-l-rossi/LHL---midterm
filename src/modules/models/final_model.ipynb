{
 "cells": [
  {
   "cell_type": "code",
   "execution_count": 1,
   "metadata": {
    "colab": {
     "base_uri": "https://localhost:8080/"
    },
    "id": "bNzSz1Hfm2n1",
    "outputId": "150da5f4-e85c-4403-932f-2254d7576481"
   },
   "outputs": [
    {
     "name": "stdout",
     "output_type": "stream",
     "text": [
      "Requirement already satisfied: category_encoders in /usr/local/lib/python3.7/dist-packages (2.3.0)\n",
      "Requirement already satisfied: numpy>=1.14.0 in /usr/local/lib/python3.7/dist-packages (from category_encoders) (1.19.5)\n",
      "Requirement already satisfied: scipy>=1.0.0 in /usr/local/lib/python3.7/dist-packages (from category_encoders) (1.4.1)\n",
      "Requirement already satisfied: statsmodels>=0.9.0 in /usr/local/lib/python3.7/dist-packages (from category_encoders) (0.10.2)\n",
      "Requirement already satisfied: scikit-learn>=0.20.0 in /usr/local/lib/python3.7/dist-packages (from category_encoders) (1.0.1)\n",
      "Requirement already satisfied: pandas>=0.21.1 in /usr/local/lib/python3.7/dist-packages (from category_encoders) (1.1.5)\n",
      "Requirement already satisfied: patsy>=0.5.1 in /usr/local/lib/python3.7/dist-packages (from category_encoders) (0.5.2)\n",
      "Requirement already satisfied: python-dateutil>=2.7.3 in /usr/local/lib/python3.7/dist-packages (from pandas>=0.21.1->category_encoders) (2.8.2)\n",
      "Requirement already satisfied: pytz>=2017.2 in /usr/local/lib/python3.7/dist-packages (from pandas>=0.21.1->category_encoders) (2018.9)\n",
      "Requirement already satisfied: six in /usr/local/lib/python3.7/dist-packages (from patsy>=0.5.1->category_encoders) (1.15.0)\n",
      "Requirement already satisfied: threadpoolctl>=2.0.0 in /usr/local/lib/python3.7/dist-packages (from scikit-learn>=0.20.0->category_encoders) (3.0.0)\n",
      "Requirement already satisfied: joblib>=0.11 in /usr/local/lib/python3.7/dist-packages (from scikit-learn>=0.20.0->category_encoders) (1.1.0)\n"
     ]
    },
    {
     "name": "stderr",
     "output_type": "stream",
     "text": [
      "/usr/local/lib/python3.7/dist-packages/statsmodels/tools/_testing.py:19: FutureWarning: pandas.util.testing is deprecated. Use the functions in the public API at pandas.testing instead.\n",
      "  import pandas.util.testing as tm\n"
     ]
    }
   ],
   "source": [
    "!pip install category_encoders\n",
    "import pandas as pd\n",
    "import pickle\n",
    "import  category_encoders as ce\n",
    "from sklearn.model_selection import train_test_split\n",
    "from sklearn.model_selection import KFold\n",
    "from sklearn.model_selection import RandomizedSearchCV\n",
    "from sklearn.linear_model import LinearRegression\n",
    "from category_encoders import *\n",
    "import  numpy as np\n",
    "from sklearn.tree import DecisionTreeClassifier\n",
    "from sklearn.model_selection import train_test_split\n",
    "from sklearn import metrics\n",
    "from sklearn.ensemble import RandomForestRegressor"
   ]
  },
  {
   "cell_type": "code",
   "execution_count": 2,
   "metadata": {
    "colab": {
     "base_uri": "https://localhost:8080/"
    },
    "id": "4tuWojBfnLi5",
    "outputId": "fca9c036-87d4-4bcb-f06a-3d52f6fd3c4f"
   },
   "outputs": [
    {
     "data": {
      "text/plain": [
       "(143046, 29)"
      ]
     },
     "execution_count": 2,
     "metadata": {},
     "output_type": "execute_result"
    }
   ],
   "source": [
    "#Downloading the data, removing NAs and shuffling (the data will not be shuffled on crossfold)\n",
    "url = \"https://raw.githubusercontent.com/joao-l-rossi/LHL---midterm/main/data/Flights_TRAIN.csv\"\n",
    "dataset = pd.read_csv(url)\n",
    "dataset = dataset.dropna()\n",
    "dataset = dataset.sample(frac=1, random_state=1234).reset_index(drop=True) #Edit \"frac\" to try witha  subsample of the data\n",
    "dataset.shape"
   ]
  },
  {
   "cell_type": "code",
   "execution_count": 3,
   "metadata": {
    "id": "p-ZxzeiVpFgQ"
   },
   "outputs": [],
   "source": [
    "#columns to keep and to encode\n",
    "cols_to_encode = [\"origin\", \"dest\",\"op_unique_carrier\"]\n",
    "cols_X = ['dep_dayofweek','op_unique_carrier', 'origin', 'dest',\n",
    "       'arr_Fog', 'arr_Snow', 'arr_Cold', 'arr_Storm', 'arr_Hail',\n",
    "          'arr_Precipitation', 'crs_dep_time', 'crs_arr_time',\n",
    "          'flights_origin', 'flights_dest']\n"
   ]
  },
  {
   "cell_type": "code",
   "execution_count": 4,
   "metadata": {
    "id": "YCHjzxqQpMf-"
   },
   "outputs": [],
   "source": [
    "# Setting up X and y\n",
    "X = dataset[cols_X]\n",
    "y = dataset[\"arr_delay\"]"
   ]
  },
  {
   "cell_type": "code",
   "execution_count": 5,
   "metadata": {
    "id": "M42zhrd9pNWO"
   },
   "outputs": [],
   "source": [
    "#Splitting\n",
    "X_train, X_test, y_train, y_test = train_test_split(X, y, test_size=0.20, random_state=1234)"
   ]
  },
  {
   "cell_type": "code",
   "execution_count": 6,
   "metadata": {
    "id": "i_XVpixNpNe-"
   },
   "outputs": [],
   "source": [
    "#Reseting indexes\n",
    "X_train = X_train.reset_index(drop=True)     \n",
    "y_train = y_train.reset_index(drop=True)"
   ]
  },
  {
   "cell_type": "code",
   "execution_count": 7,
   "metadata": {
    "id": "LoomeYBnpNmm"
   },
   "outputs": [],
   "source": [
    "#Creating encode object\n",
    "encoder = TargetEncoder(cols=cols_to_encode)"
   ]
  },
  {
   "cell_type": "code",
   "execution_count": 8,
   "metadata": {
    "id": "cD2dNBubpOB2"
   },
   "outputs": [],
   "source": [
    "#Building stratified encoding (to minimize leakage among bins)\n",
    "X_train_fitted = X_train.iloc[0:0,:]\n",
    "kf = KFold(n_splits = 5, shuffle=False)\n",
    "for tr_ind, val_ind in kf.split(X_train, y_train):\n",
    "    encoder.fit(X_train.loc[tr_ind], y_train.loc[tr_ind])\n",
    "    X_train_fitted = X_train_fitted.append(encoder.transform(X_train.loc[val_ind]))"
   ]
  },
  {
   "cell_type": "code",
   "execution_count": 9,
   "metadata": {
    "id": "IwA-3-0mpdBH"
   },
   "outputs": [],
   "source": [
    "#Encoding test\n",
    "encoder.fit(X_train, y_train)\n",
    "X_test_fitted = encoder.transform(X_test)"
   ]
  },
  {
   "cell_type": "markdown",
   "metadata": {
    "id": "cWrLKOAfBX1C"
   },
   "source": [
    "#### Baseline Model"
   ]
  },
  {
   "cell_type": "code",
   "execution_count": 10,
   "metadata": {
    "colab": {
     "base_uri": "https://localhost:8080/"
    },
    "id": "2N9UhcJNBeFA",
    "outputId": "9d3b7d87-5e65-45ee-8237-44c06e0c8645"
   },
   "outputs": [
    {
     "data": {
      "text/plain": [
       "RandomForestRegressor()"
      ]
     },
     "execution_count": 10,
     "metadata": {},
     "output_type": "execute_result"
    }
   ],
   "source": [
    "mod = RandomForestRegressor()\n",
    "mod.fit(X_train_fitted,y_train)"
   ]
  },
  {
   "cell_type": "code",
   "execution_count": 11,
   "metadata": {
    "colab": {
     "base_uri": "https://localhost:8080/"
    },
    "id": "GrtEzVIaCMYK",
    "outputId": "60ad4e89-4e36-418e-954b-1d4fa90ce8cb"
   },
   "outputs": [
    {
     "name": "stdout",
     "output_type": "stream",
     "text": [
      "R2: 0.09872957407620142\n",
      "MSE: 1952.6367113421877\n"
     ]
    }
   ],
   "source": [
    "print(f\"R2: {mod.score(X_test_fitted,y_test)}\")\n",
    "y_pred = mod.predict(X_test_fitted)\n",
    "print(f\"MSE: {metrics.mean_squared_error(y_test,y_pred)}\")"
   ]
  },
  {
   "cell_type": "code",
   "execution_count": 12,
   "metadata": {
    "id": "OBS0UtWIpdKu"
   },
   "outputs": [],
   "source": [
    "# # List of parameters we can calibrate, I have ran differnt combinations of it\n",
    "# params = {'bootstrap': [True, False],\n",
    "#           'max_depth': [10, 20, 30, 40, 50, 60, 70, 80, 90, 100, None],\n",
    "#           'max_features': ['auto', 'sqrt'],\n",
    "#           'min_samples_leaf': [1, 2, 4],\n",
    "#           'min_samples_split': [2, 5, 10],\n",
    "#           'n_estimators': [200, 400, 600, 800, 1000, 1200, 1400, 1600, 1800, 2000]}"
   ]
  },
  {
   "cell_type": "code",
   "execution_count": 13,
   "metadata": {
    "id": "rZSYXtNkB35J"
   },
   "outputs": [],
   "source": [
    "# Final run params\n",
    "params = {\n",
    "  'max_features': [0.6, 0.8, 'auto'],\n",
    "  'max_depth': [5, 10, 30],\n",
    "  'n_estimators': [300,400]\n",
    "\n",
    "}"
   ]
  },
  {
   "cell_type": "code",
   "execution_count": 14,
   "metadata": {
    "id": "12k8TnlJp5l-"
   },
   "outputs": [],
   "source": [
    "param_comb = 10\n",
    "mod = RandomForestRegressor()"
   ]
  },
  {
   "cell_type": "code",
   "execution_count": 15,
   "metadata": {
    "colab": {
     "base_uri": "https://localhost:8080/"
    },
    "id": "R5gzSxPvpdXm",
    "outputId": "da733eb2-2942-4d7f-d7e0-a8d0e386bf7f"
   },
   "outputs": [
    {
     "name": "stdout",
     "output_type": "stream",
     "text": [
      "Fitting 5 folds for each of 10 candidates, totalling 50 fits\n"
     ]
    },
    {
     "name": "stderr",
     "output_type": "stream",
     "text": [
      "/usr/local/lib/python3.7/dist-packages/joblib/externals/loky/process_executor.py:705: UserWarning: A worker stopped while some jobs were given to the executor. This can be caused by a too short worker timeout or by a memory leak.\n",
      "  \"timeout or by a memory leak.\", UserWarning\n"
     ]
    },
    {
     "name": "stdout",
     "output_type": "stream",
     "text": [
      "0.08937711618727165\n",
      "RandomForestRegressor(max_depth=10, max_features=0.6, n_estimators=400)\n"
     ]
    }
   ],
   "source": [
    "random_search = RandomizedSearchCV(mod, param_distributions=params, n_iter=param_comb, n_jobs=-1, verbose=10, random_state=1234, cv = kf.split(X_train, y_train))\n",
    "random_search.fit(X_train_fitted, y_train)\n",
    "print(random_search.best_score_)\n",
    "print(random_search.best_estimator_)"
   ]
  },
  {
   "cell_type": "code",
   "execution_count": 16,
   "metadata": {
    "colab": {
     "base_uri": "https://localhost:8080/"
    },
    "id": "YcS5iE82u09S",
    "outputId": "8a3efafd-f90b-413a-f08c-b075920e6bc3"
   },
   "outputs": [
    {
     "data": {
      "text/plain": [
       "RandomForestRegressor(max_depth=10, max_features=0.6, n_estimators=400)"
      ]
     },
     "execution_count": 16,
     "metadata": {},
     "output_type": "execute_result"
    }
   ],
   "source": [
    "# \"Best\" model\n",
    "best_est = random_search.best_estimator_\n",
    "best_est"
   ]
  },
  {
   "cell_type": "code",
   "execution_count": 17,
   "metadata": {
    "colab": {
     "base_uri": "https://localhost:8080/"
    },
    "id": "6t7kGE9QwB-Z",
    "outputId": "26b262f4-7498-4e38-946c-4887e48fd571"
   },
   "outputs": [
    {
     "name": "stdout",
     "output_type": "stream",
     "text": [
      "R2: 0.11361020214247519\n",
      "MSE: 1920.3972637643399\n"
     ]
    }
   ],
   "source": [
    "print(f\"R2: {best_est.score(X_test_fitted,y_test)}\")\n",
    "y_pred = best_est.predict(X_test_fitted)\n",
    "print(f\"MSE: {metrics.mean_squared_error(y_test,y_pred)}\")"
   ]
  },
  {
   "cell_type": "code",
   "execution_count": 18,
   "metadata": {
    "colab": {
     "base_uri": "https://localhost:8080/"
    },
    "id": "Wwi43_GlYg2g",
    "outputId": "944494a3-b342-4ee4-a042-3537d521fdb5"
   },
   "outputs": [
    {
     "name": "stdout",
     "output_type": "stream",
     "text": [
      "Mounted at /content/gdrive\n"
     ]
    }
   ],
   "source": [
    "# Open Drive\n",
    "from google.colab import drive\n",
    "drive.mount('/content/gdrive')"
   ]
  },
  {
   "cell_type": "code",
   "execution_count": 19,
   "metadata": {
    "id": "N8njdRBSvG_x"
   },
   "outputs": [],
   "source": [
    "#Creating pickle\n",
    "model_save_name = 'Finalized_model.sav'\n",
    "path = F\"/content/gdrive/My Drive/MidtermLHL/{model_save_name}\"\n",
    "pickle.dump(best_est, open(path, 'wb'))"
   ]
  }
 ],
 "metadata": {
  "colab": {
   "collapsed_sections": [],
   "name": "RandomForest.ipynb",
   "provenance": [],
   "toc_visible": true
  },
  "kernelspec": {
   "display_name": "Python 3",
   "language": "python",
   "name": "python3"
  },
  "language_info": {
   "codemirror_mode": {
    "name": "ipython",
    "version": 3
   },
   "file_extension": ".py",
   "mimetype": "text/x-python",
   "name": "python",
   "nbconvert_exporter": "python",
   "pygments_lexer": "ipython3",
   "version": "3.8.8"
  }
 },
 "nbformat": 4,
 "nbformat_minor": 4
}
