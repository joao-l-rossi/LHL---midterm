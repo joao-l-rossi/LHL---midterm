{
 "cells": [
  {
   "cell_type": "code",
   "execution_count": 1,
   "id": "b1d4c990-671d-4ce0-a083-e06188ce5ab4",
   "metadata": {},
   "outputs": [],
   "source": [
    "import pandas as pd\n",
    "import numpy as np\n",
    "import pickle\n",
    "from sklearn.ensemble import RandomForestRegressor"
   ]
  },
  {
   "cell_type": "code",
   "execution_count": 2,
   "id": "e1bc6b63-ea3b-49e9-8e7e-e6914539e5ce",
   "metadata": {},
   "outputs": [],
   "source": [
    "filename = \"/home/joaolrossi/Downloads/Finalized_model.sav\"\n",
    "final_model = pickle.load(open(filename,\"rb\"))"
   ]
  },
  {
   "cell_type": "code",
   "execution_count": 3,
   "id": "f66073b7-480d-41b0-85db-1c09427e79dd",
   "metadata": {},
   "outputs": [],
   "source": [
    "url = \"https://raw.githubusercontent.com/joao-l-rossi/LHL---midterm/main/data/Flights_TRAIN.csv\"\n",
    "dataset = pd.read_csv(url)\n",
    "dataset = dataset.dropna()"
   ]
  },
  {
   "cell_type": "code",
   "execution_count": null,
   "id": "dd1be31f-cebd-44e6-b963-7154fd39332c",
   "metadata": {},
   "outputs": [],
   "source": [
    "#columns to keep and to encode\n",
    "cols_to_encode = [\"origin\", \"dest\",\"op_unique_carrier\"]\n",
    "cols_X = ['dep_dayofweek','op_unique_carrier', 'origin', 'dest',\n",
    "       'arr_Fog', 'arr_Snow', 'arr_Cold', 'arr_Storm', 'arr_Hail',\n",
    "          'arr_Precipitation', 'crs_dep_time', 'crs_arr_time',\n",
    "          'flights_origin', 'flights_dest']"
   ]
  },
  {
   "cell_type": "code",
   "execution_count": null,
   "id": "618e79b1-b5ed-4eb1-939f-ea5892aed5f0",
   "metadata": {},
   "outputs": [],
   "source": [
    "# Setting up X and y\n",
    "X = dataset[cols_X]\n",
    "y = dataset[\"arr_delay\"]"
   ]
  },
  {
   "cell_type": "code",
   "execution_count": null,
   "id": "bda26eca-f89d-49b9-a611-a81d8d09aa4d",
   "metadata": {},
   "outputs": [],
   "source": [
    "#Encoding test\n",
    "encoder.fit(X_train, y_train)\n",
    "X_test_fitted = encoder.transform(X_test)"
   ]
  },
  {
   "cell_type": "code",
   "execution_count": null,
   "id": "fee4eaab-55ed-4338-82bd-330788f8c355",
   "metadata": {},
   "outputs": [],
   "source": []
  }
 ],
 "metadata": {
  "kernelspec": {
   "display_name": "Python 3",
   "language": "python",
   "name": "python3"
  },
  "language_info": {
   "codemirror_mode": {
    "name": "ipython",
    "version": 3
   },
   "file_extension": ".py",
   "mimetype": "text/x-python",
   "name": "python",
   "nbconvert_exporter": "python",
   "pygments_lexer": "ipython3",
   "version": "3.8.8"
  }
 },
 "nbformat": 4,
 "nbformat_minor": 5
}
