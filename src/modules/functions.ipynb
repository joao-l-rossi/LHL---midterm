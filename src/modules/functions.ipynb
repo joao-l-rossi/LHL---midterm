{
 "cells": [
  {
   "cell_type": "code",
   "execution_count": 3,
   "metadata": {},
   "outputs": [],
   "source": [
    "#Dependencies\n",
    "import pandas as pd\n",
    "import numpy as np\n",
    "from sklearn.metrics import r2_score\n",
    "from sklearn.metrics import mean_absolute_error\n",
    "from sklearn.metrics import mean_squared_error\n",
    "from sklearn.preprocessing import StandardScaler"
   ]
  },
  {
   "cell_type": "code",
   "execution_count": 4,
   "metadata": {},
   "outputs": [],
   "source": [
    "def dummy_getter(df, lst):\n",
    "    \"\"\"\n",
    "    Return dataframe with dummies based on columns list\n",
    "    \"\"\"\n",
    "    for col in lst:\n",
    "        df=pd.get_dummies(df, columns=[col], prefix=(f'{col}:'))\n",
    "    return df"
   ]
  },
  {
   "cell_type": "code",
   "execution_count": 5,
   "metadata": {},
   "outputs": [],
   "source": [
    "def scaler_func(x):\n",
    "    \"\"\"\n",
    "    Returns transformed X using StandardScaler function\n",
    "    \"\"\"\n",
    "    scaler = StandardScaler()\n",
    "    model = scaler.fit(x)\n",
    "    return model.transform(x)"
   ]
  },
  {
   "cell_type": "code",
   "execution_count": 6,
   "metadata": {},
   "outputs": [],
   "source": [
    "#takes a list\n",
    "def deleter_col(df,lst):\n",
    "    \"\"\"\n",
    "    Returns df with deleted columns given a list\n",
    "    \"\"\"\n",
    "    for col in lst:\n",
    "        del df[col]\n",
    "    return df"
   ]
  },
  {
   "cell_type": "code",
   "execution_count": 7,
   "metadata": {},
   "outputs": [],
   "source": [
    "from sklearn.preprocessing import OrdinalEncoder\n",
    "\n",
    "def ordinal_encoder_function(df, lst):\n",
    "    \"\"\"\n",
    "    Transforms categorrical variables specified in the list to ordinal following list order\n",
    "    \"\"\"\n",
    "    encoder=OrdinalEncoder()\n",
    "    for column in lst:\n",
    "        a=df[column].values.reshape(-1, 1)\n",
    "        result = encoder.fit_transform(a)\n",
    "        df[column]=pd.DataFrame(data=result)\n",
    "    return df"
   ]
  },
  {
   "cell_type": "code",
   "execution_count": 8,
   "metadata": {},
   "outputs": [],
   "source": [
    "def month_int_to_str(df, col):\n",
    "    \"\"\"\n",
    "    Converts column into month as string\n",
    "    \"\"\"\n",
    "    df[col] = pd.to_datetime(df[col], format='%m').dt.month_name().str.slice(stop=3)\n",
    "    return df"
   ]
  },
  {
   "cell_type": "code",
   "execution_count": null,
   "metadata": {},
   "outputs": [],
   "source": [
    "def evaluate_regression(model, X_test, y_test):\n",
    "    \"\"\"\n",
    "    Calculates R2, MAE, and MSE given model and test data \n",
    "    \"\"\"\n",
    "    y_pred = model.predict(X_test)\n",
    "    print(\"R2: \", r2_score(y_test, y_pred))\n",
    "    print(\"MAE: \", mean_absolute_error(y_test, y_pred))\n",
    "    print(\"MSE: \", mean_squared_error(y_test, y_pred))"
   ]
  },
  {
   "cell_type": "code",
   "execution_count": null,
   "metadata": {},
   "outputs": [],
   "source": [
    "def count_flights(df, hours=1):\n",
    "    \"\"\"\n",
    "    Add 2 columns to the dataframe:\n",
    "    \n",
    "    flights_origin =  count the number of flight departures + arrivals planned to happen within\n",
    "    + or - hours (parameter) of departure at the departure location\n",
    "    \n",
    "    flights_dest =  count the number of flight departures + arrivals planned to happen within\n",
    "    + or - hours (parameter) of arrival at the arrival location\n",
    "    \n",
    "    This function is very slow, it requires some optimization\n",
    "    \"\"\"\n",
    "    start = time.time()\n",
    "\n",
    "    hours = hours*100\n",
    "    df[\"flights_origin\"] = 0\n",
    "    df[\"flights_dest\"] = 0\n",
    "    for i in df.index:\n",
    "        if i % 5000 == 0 and i != 0:\n",
    "            print(f\"Remaining = {round(100 - (i/max(df.index))*100,2)}%\")\n",
    "            end = time.time()\n",
    "            tmp = end - start\n",
    "            print(f\"Time elapsed {round(tmp,2)} seconds\")\n",
    "        origin = df[\"origin\"][i]\n",
    "        hour_dep = df[\"crs_dep_time\"][i]\n",
    "        week_day_dep = df[\"dep_dayofweek\"][i]\n",
    "        week_day_arr = df[\"arr_dayofweek\"][i]\n",
    "        \n",
    "        mask = ((df[\"origin\"] == origin) & (df[\"dep_dayofweek\"] == week_day_dep) &\n",
    "                (df[\"crs_dep_time\"] >= (hour_dep - hours)) & (df[\"crs_dep_time\"] <= (hour_dep + hours)))|\\\n",
    "                ((df[\"dest\"] == origin) & (df[\"arr_dayofweek\"] == week_day_arr) &\n",
    "                (df[\"crs_arr_time\"] >= (hour_dep - hours)) & (df[\"crs_arr_time\"] <= (hour_dep + hours)))\n",
    "            \n",
    "        df.at[i,\"flights_origin\"] = df[mask].shape[0]\n",
    "        dest = df[\"dest\"][i]\n",
    "        hour_arr = df[\"crs_arr_time\"][i]\n",
    "        \n",
    "        \n",
    "        mask = ((df[\"origin\"] == dest) & (df[\"dep_dayofweek\"] == week_day_dep) &\n",
    "                (df[\"crs_dep_time\"] >= (hour_arr - hours)) & (df[\"crs_dep_time\"] <= (hour_arr + hours)))|\\\n",
    "                ((df[\"dest\"] == dest) & (df[\"arr_dayofweek\"] == week_day_arr) &\n",
    "                (df[\"crs_arr_time\"] >= (hour_arr - hours)) & (df[\"crs_arr_time\"] <= (hour_arr + hours)))\n",
    "            \n",
    "        df.at[i,\"flights_dest\"] = df[mask].shape[0]\n",
    " \n",
    "    end = time.time()\n",
    "    print(f\"Time elapsed {round(end - start,2)} seconds\")\n",
    "        \n",
    "    return(df)"
   ]
  },
  {
   "cell_type": "code",
   "execution_count": null,
   "metadata": {},
   "outputs": [],
   "source": []
  }
 ],
 "metadata": {
  "interpreter": {
   "hash": "4b6eb38bdf5e5ad4df4721abb2468d830c2ccff7ccbaee8a7326e2cd2ef9f9d4"
  },
  "kernelspec": {
   "display_name": "Python 3",
   "language": "python",
   "name": "python3"
  },
  "language_info": {
   "codemirror_mode": {
    "name": "ipython",
    "version": 3
   },
   "file_extension": ".py",
   "mimetype": "text/x-python",
   "name": "python",
   "nbconvert_exporter": "python",
   "pygments_lexer": "ipython3",
   "version": "3.8.8"
  }
 },
 "nbformat": 4,
 "nbformat_minor": 4
}
