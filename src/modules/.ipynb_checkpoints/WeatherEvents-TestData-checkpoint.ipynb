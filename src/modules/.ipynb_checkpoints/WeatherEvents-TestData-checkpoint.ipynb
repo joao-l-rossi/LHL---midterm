{
 "cells": [
  {
   "cell_type": "code",
   "execution_count": 1,
   "id": "513a060c-9b15-4fe6-b7e7-ef401895c6f4",
   "metadata": {},
   "outputs": [],
   "source": [
    "import pandas as pd\n",
    "import numpy as np\n",
    "from time import strptime\n",
    "from datetime import datetime, timedelta\n",
    "from time import mktime\n",
    "import time"
   ]
  },
  {
   "cell_type": "code",
   "execution_count": 2,
   "id": "f03cc4a9-71f6-4bc4-8053-9ab68228dd57",
   "metadata": {},
   "outputs": [],
   "source": [
    "flights_df = pd.read_csv(\"~/Desktop/DataDump/TestData.csv\")"
   ]
  },
  {
   "cell_type": "code",
   "execution_count": 3,
   "id": "f6a4ebcb-c8fd-41e8-9081-838e3a8c6b7b",
   "metadata": {},
   "outputs": [],
   "source": [
    "min_date = \"2020-01-01 00:00:00\"\n",
    "max_date = \"2020-01-07 23:59:59\""
   ]
  },
  {
   "cell_type": "code",
   "execution_count": 4,
   "id": "84b4c999-e518-4551-bac9-1334cca2b61f",
   "metadata": {},
   "outputs": [],
   "source": [
    "flight_dates = pd.to_datetime(flights_df[\"fl_date\"])"
   ]
  },
  {
   "cell_type": "code",
   "execution_count": 5,
   "id": "6c3a646f-aea3-407b-a0d2-abd9e77389c5",
   "metadata": {},
   "outputs": [],
   "source": [
    "flights_df = flights_df[(flight_dates>= min_date) & (flight_dates<= max_date)]"
   ]
  },
  {
   "cell_type": "code",
   "execution_count": 6,
   "id": "ab05f0be-74db-4f34-982d-a5e26dba2224",
   "metadata": {},
   "outputs": [
    {
     "name": "stdout",
     "output_type": "stream",
     "text": [
      "2020-01-01 00:00:00.000\n",
      "2020-01-07 00:00:00.000\n"
     ]
    }
   ],
   "source": [
    "print(min(flights_df[\"fl_date\"]))\n",
    "print(max(flights_df[\"fl_date\"]))"
   ]
  },
  {
   "cell_type": "code",
   "execution_count": 7,
   "id": "675a2034-b529-4e9e-ab96-0ba8077782a8",
   "metadata": {},
   "outputs": [
    {
     "data": {
      "text/plain": [
       "(150623, 20)"
      ]
     },
     "execution_count": 7,
     "metadata": {},
     "output_type": "execute_result"
    }
   ],
   "source": [
    "flights_df.shape"
   ]
  },
  {
   "cell_type": "code",
   "execution_count": 8,
   "id": "c3af75b2-11b9-4fed-8152-15fb65119563",
   "metadata": {},
   "outputs": [
    {
     "data": {
      "text/plain": [
       "Index(['fl_date', 'mkt_unique_carrier', 'branded_code_share', 'mkt_carrier',\n",
       "       'mkt_carrier_fl_num', 'op_unique_carrier', 'tail_num',\n",
       "       'op_carrier_fl_num', 'origin_airport_id', 'origin', 'origin_city_name',\n",
       "       'dest_airport_id', 'dest', 'dest_city_name', 'crs_dep_time',\n",
       "       'crs_arr_time', 'dup', 'crs_elapsed_time', 'flights', 'distance'],\n",
       "      dtype='object')"
      ]
     },
     "execution_count": 8,
     "metadata": {},
     "output_type": "execute_result"
    }
   ],
   "source": [
    "flights_df.columns"
   ]
  },
  {
   "cell_type": "code",
   "execution_count": 9,
   "id": "8954dca5-9b6e-43cf-a873-29bf3cd0cd6e",
   "metadata": {},
   "outputs": [],
   "source": [
    "WeatherEvents = pd.read_csv(\"~/Desktop/WeatherEvents_Jan2016-Dec2020.csv\")"
   ]
  },
  {
   "cell_type": "code",
   "execution_count": 10,
   "id": "2915c2e0-8595-4c45-b1f4-11dc33c0398b",
   "metadata": {},
   "outputs": [
    {
     "data": {
      "text/plain": [
       "(6274206, 13)"
      ]
     },
     "execution_count": 10,
     "metadata": {},
     "output_type": "execute_result"
    }
   ],
   "source": [
    "WeatherEvents.shape"
   ]
  },
  {
   "cell_type": "code",
   "execution_count": null,
   "id": "cfbf5dac-c5da-47cf-94dd-4fc2a0129936",
   "metadata": {},
   "outputs": [],
   "source": []
  },
  {
   "cell_type": "code",
   "execution_count": 11,
   "id": "c777320e-4995-4e6b-bcfc-32963a364462",
   "metadata": {},
   "outputs": [
    {
     "data": {
      "text/html": [
       "<div>\n",
       "<style scoped>\n",
       "    .dataframe tbody tr th:only-of-type {\n",
       "        vertical-align: middle;\n",
       "    }\n",
       "\n",
       "    .dataframe tbody tr th {\n",
       "        vertical-align: top;\n",
       "    }\n",
       "\n",
       "    .dataframe thead th {\n",
       "        text-align: right;\n",
       "    }\n",
       "</style>\n",
       "<table border=\"1\" class=\"dataframe\">\n",
       "  <thead>\n",
       "    <tr style=\"text-align: right;\">\n",
       "      <th></th>\n",
       "      <th>EventId</th>\n",
       "      <th>Type</th>\n",
       "      <th>Severity</th>\n",
       "      <th>StartTime(UTC)</th>\n",
       "      <th>EndTime(UTC)</th>\n",
       "      <th>TimeZone</th>\n",
       "      <th>AirportCode</th>\n",
       "      <th>LocationLat</th>\n",
       "      <th>LocationLng</th>\n",
       "      <th>City</th>\n",
       "      <th>County</th>\n",
       "      <th>State</th>\n",
       "      <th>ZipCode</th>\n",
       "    </tr>\n",
       "  </thead>\n",
       "  <tbody>\n",
       "    <tr>\n",
       "      <th>0</th>\n",
       "      <td>W-1</td>\n",
       "      <td>Snow</td>\n",
       "      <td>Light</td>\n",
       "      <td>2016-01-06 23:14:00</td>\n",
       "      <td>2016-01-07 00:34:00</td>\n",
       "      <td>US/Mountain</td>\n",
       "      <td>K04V</td>\n",
       "      <td>38.0972</td>\n",
       "      <td>-106.1689</td>\n",
       "      <td>Saguache</td>\n",
       "      <td>Saguache</td>\n",
       "      <td>CO</td>\n",
       "      <td>81149.0</td>\n",
       "    </tr>\n",
       "    <tr>\n",
       "      <th>1</th>\n",
       "      <td>W-2</td>\n",
       "      <td>Snow</td>\n",
       "      <td>Light</td>\n",
       "      <td>2016-01-07 04:14:00</td>\n",
       "      <td>2016-01-07 04:54:00</td>\n",
       "      <td>US/Mountain</td>\n",
       "      <td>K04V</td>\n",
       "      <td>38.0972</td>\n",
       "      <td>-106.1689</td>\n",
       "      <td>Saguache</td>\n",
       "      <td>Saguache</td>\n",
       "      <td>CO</td>\n",
       "      <td>81149.0</td>\n",
       "    </tr>\n",
       "    <tr>\n",
       "      <th>2</th>\n",
       "      <td>W-3</td>\n",
       "      <td>Snow</td>\n",
       "      <td>Light</td>\n",
       "      <td>2016-01-07 05:54:00</td>\n",
       "      <td>2016-01-07 15:34:00</td>\n",
       "      <td>US/Mountain</td>\n",
       "      <td>K04V</td>\n",
       "      <td>38.0972</td>\n",
       "      <td>-106.1689</td>\n",
       "      <td>Saguache</td>\n",
       "      <td>Saguache</td>\n",
       "      <td>CO</td>\n",
       "      <td>81149.0</td>\n",
       "    </tr>\n",
       "    <tr>\n",
       "      <th>3</th>\n",
       "      <td>W-4</td>\n",
       "      <td>Snow</td>\n",
       "      <td>Light</td>\n",
       "      <td>2016-01-08 05:34:00</td>\n",
       "      <td>2016-01-08 05:54:00</td>\n",
       "      <td>US/Mountain</td>\n",
       "      <td>K04V</td>\n",
       "      <td>38.0972</td>\n",
       "      <td>-106.1689</td>\n",
       "      <td>Saguache</td>\n",
       "      <td>Saguache</td>\n",
       "      <td>CO</td>\n",
       "      <td>81149.0</td>\n",
       "    </tr>\n",
       "    <tr>\n",
       "      <th>4</th>\n",
       "      <td>W-5</td>\n",
       "      <td>Snow</td>\n",
       "      <td>Light</td>\n",
       "      <td>2016-01-08 13:54:00</td>\n",
       "      <td>2016-01-08 15:54:00</td>\n",
       "      <td>US/Mountain</td>\n",
       "      <td>K04V</td>\n",
       "      <td>38.0972</td>\n",
       "      <td>-106.1689</td>\n",
       "      <td>Saguache</td>\n",
       "      <td>Saguache</td>\n",
       "      <td>CO</td>\n",
       "      <td>81149.0</td>\n",
       "    </tr>\n",
       "  </tbody>\n",
       "</table>\n",
       "</div>"
      ],
      "text/plain": [
       "  EventId  Type Severity       StartTime(UTC)         EndTime(UTC)  \\\n",
       "0     W-1  Snow    Light  2016-01-06 23:14:00  2016-01-07 00:34:00   \n",
       "1     W-2  Snow    Light  2016-01-07 04:14:00  2016-01-07 04:54:00   \n",
       "2     W-3  Snow    Light  2016-01-07 05:54:00  2016-01-07 15:34:00   \n",
       "3     W-4  Snow    Light  2016-01-08 05:34:00  2016-01-08 05:54:00   \n",
       "4     W-5  Snow    Light  2016-01-08 13:54:00  2016-01-08 15:54:00   \n",
       "\n",
       "      TimeZone AirportCode  LocationLat  LocationLng      City    County  \\\n",
       "0  US/Mountain        K04V      38.0972    -106.1689  Saguache  Saguache   \n",
       "1  US/Mountain        K04V      38.0972    -106.1689  Saguache  Saguache   \n",
       "2  US/Mountain        K04V      38.0972    -106.1689  Saguache  Saguache   \n",
       "3  US/Mountain        K04V      38.0972    -106.1689  Saguache  Saguache   \n",
       "4  US/Mountain        K04V      38.0972    -106.1689  Saguache  Saguache   \n",
       "\n",
       "  State  ZipCode  \n",
       "0    CO  81149.0  \n",
       "1    CO  81149.0  \n",
       "2    CO  81149.0  \n",
       "3    CO  81149.0  \n",
       "4    CO  81149.0  "
      ]
     },
     "execution_count": 11,
     "metadata": {},
     "output_type": "execute_result"
    }
   ],
   "source": [
    "WeatherEvents.head()"
   ]
  },
  {
   "cell_type": "code",
   "execution_count": 12,
   "id": "c9578b9a-0238-4608-9df0-13153c486362",
   "metadata": {},
   "outputs": [
    {
     "data": {
      "text/plain": [
       "K3TH    11142\n",
       "KMLP    10883\n",
       "KHYW     9268\n",
       "K0CO     8242\n",
       "KSMP     7996\n",
       "        ...  \n",
       "KCZZ       43\n",
       "K4HV       27\n",
       "KCQV       25\n",
       "KSPL        8\n",
       "KI39        1\n",
       "Name: AirportCode, Length: 2071, dtype: int64"
      ]
     },
     "execution_count": 12,
     "metadata": {},
     "output_type": "execute_result"
    }
   ],
   "source": [
    "WeatherEvents[\"AirportCode\"].value_counts()"
   ]
  },
  {
   "cell_type": "code",
   "execution_count": null,
   "id": "e43f1da6-c975-458d-875e-9f26928d9d22",
   "metadata": {},
   "outputs": [],
   "source": [
    "flights_df.columns"
   ]
  },
  {
   "cell_type": "code",
   "execution_count": null,
   "id": "8d53646e-fd1b-49ca-8c0c-2e9ec4e9e328",
   "metadata": {},
   "outputs": [],
   "source": [
    "WeatherEvents[\"Type\"].value_counts()"
   ]
  },
  {
   "cell_type": "code",
   "execution_count": null,
   "id": "1d9bf27e-52b9-4c4c-8cbc-5fcc372ced72",
   "metadata": {},
   "outputs": [],
   "source": [
    "WeatherEvents[\"Severity\"].value_counts()"
   ]
  },
  {
   "cell_type": "markdown",
   "id": "9373d90c-5be6-4d84-9dfc-6a0d78cf9efc",
   "metadata": {},
   "source": [
    "### Steps to merge the data\n",
    "* Filter weather to the min/max interval of the flights data\n",
    "    * Add columns with local time instead of (UTC) - US daylight saving time is Mar-Nov so no need to do check that\n",
    "* Create columns for Rain, Fog, Snow, Cold, Precipitation, Storm, and Hail for Arrival and Departure\n",
    "* For each row in Flights:\n",
    "    * Get all rows in Weather which contain departure and arrival time and locations\n",
    "    * Populate the weather columns with weather information\n",
    "    "
   ]
  },
  {
   "cell_type": "markdown",
   "id": "557ff9db-2e45-46ff-860c-7fabe8ddb90a",
   "metadata": {},
   "source": [
    "### Filtering Weather"
   ]
  },
  {
   "cell_type": "code",
   "execution_count": 13,
   "id": "f42557b5-075c-4dd9-afcf-fe1cf518352c",
   "metadata": {},
   "outputs": [],
   "source": [
    "origin = [a.split(',', 1)[0] for a in flights_df[\"origin_city_name\"]]\n",
    "flights_df[\"origin_city\"] = [a.split('/', 1)[0] for a in origin]\n",
    "\n",
    "destination = [a.split(',', 1)[0] for a in flights_df[\"dest_city_name\"]]\n",
    "flights_df[\"dest_city\"] = [a.split('/', 1)[0] for a in destination]"
   ]
  },
  {
   "cell_type": "code",
   "execution_count": 14,
   "id": "f327f629-1c3d-4b02-8efd-5dfc9344e664",
   "metadata": {},
   "outputs": [],
   "source": [
    "all_locations  = set(list(flights_df[\"origin_city\"]) + list(flights_df[\"dest_city\"]))\n",
    "WeatherEvents = WeatherEvents[WeatherEvents[\"City\"].isin(all_locations)]"
   ]
  },
  {
   "cell_type": "code",
   "execution_count": 15,
   "id": "c29a600f-a805-4799-a0b6-401e69cefb7e",
   "metadata": {},
   "outputs": [
    {
     "data": {
      "text/plain": [
       "77"
      ]
     },
     "execution_count": 15,
     "metadata": {},
     "output_type": "execute_result"
    }
   ],
   "source": [
    "all_weather = set(WeatherEvents[\"City\"])\n",
    "not_in_weather = all_locations - all_weather\n",
    "len(not_in_weather)# 78 locations missing in Weather"
   ]
  },
  {
   "cell_type": "code",
   "execution_count": 16,
   "id": "871edd4d-3369-4de2-aa85-ac227398de6f",
   "metadata": {},
   "outputs": [
    {
     "data": {
      "text/plain": [
       "343"
      ]
     },
     "execution_count": 16,
     "metadata": {},
     "output_type": "execute_result"
    }
   ],
   "source": [
    "len(all_locations)"
   ]
  },
  {
   "cell_type": "code",
   "execution_count": 17,
   "id": "23accff7-b378-4619-ab10-5c0808816396",
   "metadata": {},
   "outputs": [
    {
     "data": {
      "text/plain": [
       "(150623, 22)"
      ]
     },
     "execution_count": 17,
     "metadata": {},
     "output_type": "execute_result"
    }
   ],
   "source": [
    "flights_df.shape"
   ]
  },
  {
   "cell_type": "code",
   "execution_count": 18,
   "id": "7125d50c-2962-475b-8661-433c75912ea3",
   "metadata": {
    "tags": []
   },
   "outputs": [],
   "source": [
    "#Only getting cities that have weather data\n",
    "flights_df = flights_df[flights_df[\"origin_city\"].isin(all_weather) | flights_df[\"dest_city\"].isin(all_weather)]"
   ]
  },
  {
   "cell_type": "code",
   "execution_count": 19,
   "id": "951a1476-4279-4a5b-9cef-f8c80eb09ea8",
   "metadata": {},
   "outputs": [
    {
     "data": {
      "text/plain": [
       "(148466, 22)"
      ]
     },
     "execution_count": 19,
     "metadata": {},
     "output_type": "execute_result"
    }
   ],
   "source": [
    "flights_df.shape"
   ]
  },
  {
   "cell_type": "code",
   "execution_count": 20,
   "id": "dec8e854-319b-4236-b7ff-20d7fea7475b",
   "metadata": {},
   "outputs": [
    {
     "data": {
      "text/plain": [
       "2157"
      ]
     },
     "execution_count": 20,
     "metadata": {},
     "output_type": "execute_result"
    }
   ],
   "source": [
    "150623 - 148466 # lost 2067, not a huge number"
   ]
  },
  {
   "cell_type": "markdown",
   "id": "3c8bc463-1e29-49a2-927e-b09e78bef8b1",
   "metadata": {},
   "source": [
    "### Add local time columns"
   ]
  },
  {
   "cell_type": "markdown",
   "id": "9733f39f-5583-4748-b21d-152e7ae12d48",
   "metadata": {},
   "source": [
    "![](TimeZones.png)"
   ]
  },
  {
   "cell_type": "code",
   "execution_count": 21,
   "id": "31223fdf-7d3f-4f30-9b19-688815571fc0",
   "metadata": {},
   "outputs": [
    {
     "data": {
      "text/plain": [
       "US/Eastern     548470\n",
       "US/Central     510497\n",
       "US/Mountain    135529\n",
       "US/Pacific     114029\n",
       "Name: TimeZone, dtype: int64"
      ]
     },
     "execution_count": 21,
     "metadata": {},
     "output_type": "execute_result"
    }
   ],
   "source": [
    "WeatherEvents[\"TimeZone\"].value_counts()"
   ]
  },
  {
   "cell_type": "code",
   "execution_count": 22,
   "id": "6c6a2b01-1ab1-4b1d-a77e-0f8df6bf3050",
   "metadata": {},
   "outputs": [],
   "source": [
    "n = WeatherEvents.shape[0]"
   ]
  },
  {
   "cell_type": "code",
   "execution_count": null,
   "id": "b2ac72f3-45c8-45c4-9e80-6f1cdd4d03a9",
   "metadata": {},
   "outputs": [],
   "source": [
    "def local_time(UTC_string, time_zone, format_in = \"%Y-%m-%d %H:%M:%S\"):\n",
    "    \"\"\"\n",
    "    Returns local time given string containing UTC datetime, timezone and date format from string\n",
    "    Time zones must be one of the following\n",
    "    US/Central\n",
    "    US/Eastern\n",
    "    US/Mountain\n",
    "    US/Pacific\n",
    "    \"\"\"\n",
    "    time_temp = strptime(UTC_string, format_in)\n",
    "    time_unix = round(time.mktime(time_temp))\n",
    "    if time_zone == \"US/Central\":\n",
    "        unix_out = time_unix - 3600*6\n",
    "    elif time_zone == \"US/Eastern\":\n",
    "        unix_out = time_unix - 3600*5\n",
    "    elif time_zone == \"US/Mountain\":\n",
    "        unix_out = time_unix - 3600*7\n",
    "    elif time_zone == \"US/Pacific\":\n",
    "        unix_out = time_unix - 3600*8\n",
    "    else:\n",
    "        print(\"Time zone not one of the specified types (see function description)\")\n",
    "    time_out = datetime.fromtimestamp(unix_out).strftime('%Y-%m-%d %H:%M:%S')\n",
    "    return(time_out)\n",
    "    "
   ]
  },
  {
   "cell_type": "code",
   "execution_count": null,
   "id": "aab83af1-9618-4370-b983-1c98ea2b4698",
   "metadata": {},
   "outputs": [],
   "source": [
    "LocalTimeZoneStart = []\n",
    "LocalTimeZoneEnd = []\n",
    "for i in WeatherEvents.index:\n",
    "    TimeZone_temp = WeatherEvents[\"TimeZone\"][i]\n",
    "    start_temp = WeatherEvents['StartTime(UTC)'][i]\n",
    "    end_temp = WeatherEvents['EndTime(UTC)'][i]\n",
    "    LocalTimeZoneStart.append(local_time(start_temp, TimeZone_temp))\n",
    "    LocalTimeZoneEnd.append(local_time(end_temp, TimeZone_temp))\n"
   ]
  },
  {
   "cell_type": "code",
   "execution_count": null,
   "id": "c2ee6b56-e5af-45fa-a479-e6299458c63c",
   "metadata": {},
   "outputs": [],
   "source": [
    "WeatherEvents[\"LocalTimeStart\"] = LocalTimeZoneStart\n",
    "WeatherEvents[\"LocalTimeEnd\"] = LocalTimeZoneEnd"
   ]
  },
  {
   "cell_type": "code",
   "execution_count": null,
   "id": "2843958b-7762-4332-8c2f-9da61b3551fc",
   "metadata": {},
   "outputs": [],
   "source": [
    "WeatherEvents.head()"
   ]
  },
  {
   "cell_type": "code",
   "execution_count": null,
   "id": "1db7e801-9ccb-468e-91f6-687b11d2f925",
   "metadata": {},
   "outputs": [],
   "source": []
  },
  {
   "cell_type": "code",
   "execution_count": null,
   "id": "a0f0081d-cafd-4c64-9905-7e523f1e780c",
   "metadata": {},
   "outputs": [],
   "source": []
  },
  {
   "cell_type": "code",
   "execution_count": null,
   "id": "6bed8602-9f18-41a1-b50c-c3a2fb5c83c0",
   "metadata": {},
   "outputs": [],
   "source": [
    "after_start_date = WeatherEvents[\"LocalTimeEnd\"] >= min_date\n",
    "before_end_date = WeatherEvents[\"LocalTimeStart\"] <= max_date\n",
    "between_two_dates = after_start_date & before_end_date\n",
    "WeatherEvents = WeatherEvents.loc[between_two_dates]"
   ]
  },
  {
   "cell_type": "markdown",
   "id": "e7bd7c52-7ede-4ae4-a20c-258f2f60d79f",
   "metadata": {},
   "source": [
    "I have dropped 2 rows as outlier. They were 2 events going on for months"
   ]
  },
  {
   "cell_type": "code",
   "execution_count": null,
   "id": "96ac5308-5276-4940-a174-e59edcc74b34",
   "metadata": {},
   "outputs": [],
   "source": []
  },
  {
   "cell_type": "code",
   "execution_count": null,
   "id": "ae472df7-b6af-4249-9e24-3c58814eec4b",
   "metadata": {},
   "outputs": [],
   "source": [
    "WeatherEvents.shape #4586 events for cities of interest within the first week of 2020"
   ]
  },
  {
   "cell_type": "code",
   "execution_count": null,
   "id": "2dc196c7-4603-458f-afb7-012444c8aa79",
   "metadata": {},
   "outputs": [],
   "source": []
  },
  {
   "cell_type": "code",
   "execution_count": null,
   "id": "e06d0b33-6a81-4481-934b-d543de9332c3",
   "metadata": {},
   "outputs": [],
   "source": []
  },
  {
   "cell_type": "code",
   "execution_count": null,
   "id": "d9fa7cf6-201c-4af9-a4b1-7a56ebabe25b",
   "metadata": {},
   "outputs": [],
   "source": []
  },
  {
   "cell_type": "code",
   "execution_count": null,
   "id": "1d010a73-465b-4de2-a9e8-3b397a803241",
   "metadata": {},
   "outputs": [],
   "source": [
    "WeatherEvents.to_csv(\"~/Desktop/LHL---midterm/mid-term-project-I/data/Weather_FirstWeek2020.csv\")"
   ]
  },
  {
   "cell_type": "markdown",
   "id": "b8b4622d-d41f-4819-b913-cb0ae6a6185d",
   "metadata": {},
   "source": [
    "### Mergind both data"
   ]
  },
  {
   "cell_type": "code",
   "execution_count": 23,
   "id": "7a91a6bc-d00a-4bf6-b507-9884d46aa3dd",
   "metadata": {},
   "outputs": [],
   "source": [
    "WeatherEvents = pd.read_csv(\"~/Desktop/LHL---midterm/mid-term-project-I/data/Weather_FirstWeek2020.csv\", index_col = \"Unnamed: 0\")\n",
    "WeatherEvents.reset_index(inplace=True,drop = True)\n",
    "WeatherEvents[\"Type\"] = WeatherEvents.Type.astype(\"string\")\n",
    "WeatherEvents[\"Severity\"] = WeatherEvents.Severity.astype(\"string\")\n",
    "WeatherEvents[\"LocalTimeStart\"] = [datetime.strptime(x,\"%Y-%m-%d %H:%M:%S\") for x in WeatherEvents[\"LocalTimeStart\"]]\n",
    "WeatherEvents[\"LocalTimeEnd\"] = [datetime.strptime(x,\"%Y-%m-%d %H:%M:%S\") for x in WeatherEvents[\"LocalTimeEnd\"]]\n",
    "flights_df.reset_index(inplace = True, drop = True)"
   ]
  },
  {
   "cell_type": "code",
   "execution_count": 24,
   "id": "ca99af6f-62e4-433a-83c2-37ca1281fbdd",
   "metadata": {},
   "outputs": [
    {
     "data": {
      "text/plain": [
       "Index(['fl_date', 'mkt_unique_carrier', 'branded_code_share', 'mkt_carrier',\n",
       "       'mkt_carrier_fl_num', 'op_unique_carrier', 'tail_num',\n",
       "       'op_carrier_fl_num', 'origin_airport_id', 'origin', 'origin_city_name',\n",
       "       'dest_airport_id', 'dest', 'dest_city_name', 'crs_dep_time',\n",
       "       'crs_arr_time', 'dup', 'crs_elapsed_time', 'flights', 'distance',\n",
       "       'origin_city', 'dest_city'],\n",
       "      dtype='object')"
      ]
     },
     "execution_count": 24,
     "metadata": {},
     "output_type": "execute_result"
    }
   ],
   "source": [
    "flights_df.columns"
   ]
  },
  {
   "cell_type": "code",
   "execution_count": 25,
   "id": "152e97a6-536a-4fd3-a951-f87b3e0b6b4e",
   "metadata": {},
   "outputs": [
    {
     "data": {
      "text/plain": [
       "Index(['EventId', 'Type', 'Severity', 'StartTime(UTC)', 'EndTime(UTC)',\n",
       "       'TimeZone', 'AirportCode', 'LocationLat', 'LocationLng', 'City',\n",
       "       'County', 'State', 'ZipCode', 'LocalTimeStart', 'LocalTimeEnd'],\n",
       "      dtype='object')"
      ]
     },
     "execution_count": 25,
     "metadata": {},
     "output_type": "execute_result"
    }
   ],
   "source": [
    "WeatherEvents.columns"
   ]
  },
  {
   "cell_type": "markdown",
   "id": "7ba7c2b8-a04e-4c0a-bb3e-1c1fe6c9e0aa",
   "metadata": {},
   "source": [
    "#### Adding departure and arrival date-time column"
   ]
  },
  {
   "cell_type": "code",
   "execution_count": 26,
   "id": "136c302e-d0c3-433c-8fb0-d133f48d8e3b",
   "metadata": {},
   "outputs": [],
   "source": [
    "weather_df = WeatherEvents"
   ]
  },
  {
   "cell_type": "code",
   "execution_count": 27,
   "id": "6871fee1-f79c-44dc-9679-d7a12f62718f",
   "metadata": {},
   "outputs": [],
   "source": [
    "n = flights_df.shape[0]"
   ]
  },
  {
   "cell_type": "code",
   "execution_count": 28,
   "id": "70720cc1-b530-4691-b0ea-c76eaa3ce507",
   "metadata": {},
   "outputs": [],
   "source": [
    "crs_dep_time = []\n",
    "crs_arr_time = []\n",
    "for i in range(n):\n",
    "    dep_time = str(flights_df[\"crs_dep_time\"][i])\n",
    "    arr_time = str(flights_df[\"crs_arr_time\"][i])\n",
    "    while len(dep_time)<4:\n",
    "        dep_time = \"0\" + dep_time\n",
    "    while len(arr_time)<4:\n",
    "        arr_time = \"0\" + arr_time\n",
    "    if dep_time == \"2400\":\n",
    "        dep_time = \"0000\"\n",
    "    if arr_time == \"2400\":\n",
    "        arr_time = \"0000\"\n",
    "    crs_dep_time.append(dep_time)\n",
    "    crs_arr_time.append(arr_time)"
   ]
  },
  {
   "cell_type": "code",
   "execution_count": null,
   "id": "d04495d4-a03d-498b-b69a-66a6758c226f",
   "metadata": {},
   "outputs": [],
   "source": []
  },
  {
   "cell_type": "code",
   "execution_count": 29,
   "id": "37cc0433-0133-4c2a-b89b-40e3aa43f3ff",
   "metadata": {
    "tags": []
   },
   "outputs": [],
   "source": [
    "date_time_dep = [flights_df[\"fl_date\"][x][0:10] + \" \" + crs_dep_time[x] for x in range(n)]\n",
    "flights_df[\"dep_datetime\"] = [datetime.strptime(x,'%Y-%m-%d %H%M') for x in date_time_dep]"
   ]
  },
  {
   "cell_type": "code",
   "execution_count": 30,
   "id": "df265f1e-0270-4f68-817e-fb657f30fa85",
   "metadata": {},
   "outputs": [],
   "source": [
    "date_time_arr = [flights_df[\"fl_date\"][x][0:10] + \" \" + crs_arr_time[x] for x in range(n)]\n",
    "flights_df[\"arr_datetime\"] = [datetime.strptime(x,'%Y-%m-%d %H%M') for x in date_time_arr]"
   ]
  },
  {
   "cell_type": "code",
   "execution_count": 31,
   "id": "0f33d714-efa7-45fc-9639-d64d8d3bc356",
   "metadata": {},
   "outputs": [],
   "source": [
    "for i in range(n):\n",
    "    if int(crs_dep_time[i])>int(crs_arr_time[i]) and (flights_df.at[i,\"arr_datetime\"].date() == flights_df.at[i,\"dep_datetime\"].date()):\n",
    "        #print(flights_df.at[i,\"dep_datetime\"])\n",
    "        #print(flights_df.at[i,\"arr_datetime\"])\n",
    "        #print(\"===============================\")\n",
    "        flights_df.at[i,\"arr_datetime\"] = flights_df[\"arr_datetime\"][i] + timedelta(days=1)\n"
   ]
  },
  {
   "cell_type": "code",
   "execution_count": null,
   "id": "bf3764e2-9d34-4bd3-a991-02fbe9107ec6",
   "metadata": {},
   "outputs": [],
   "source": []
  },
  {
   "cell_type": "code",
   "execution_count": 32,
   "id": "b0fe3cf0-d97d-4d6d-b81e-84a816c28c90",
   "metadata": {},
   "outputs": [
    {
     "data": {
      "text/plain": [
       "Rain             2567\n",
       "Snow              960\n",
       "Fog               921\n",
       "Cold               55\n",
       "Storm              44\n",
       "Precipitation      37\n",
       "Hail                2\n",
       "Name: Type, dtype: Int64"
      ]
     },
     "execution_count": 32,
     "metadata": {},
     "output_type": "execute_result"
    }
   ],
   "source": [
    "WeatherEvents[\"Type\"].value_counts()"
   ]
  },
  {
   "cell_type": "code",
   "execution_count": 33,
   "id": "aac15f77-6712-425b-8984-737a06b3181f",
   "metadata": {},
   "outputs": [],
   "source": [
    "def merge_flights_weather(flights_df, weather_df):\n",
    "    \"\"\"\n",
    "    Function designed to merge specific weather and flights data of this project. \n",
    "    It will return the flights data with the merged weather info.\n",
    "    \"\"\"\n",
    "    flights_df[\"dep_Rain\"] = \"NW\"\n",
    "    flights_df[\"dep_Fog\"] = \"NW\"\n",
    "    flights_df[\"dep_Snow\"] = \"NW\"\n",
    "    flights_df[\"dep_Cold\"] = \"NW\"\n",
    "    flights_df[\"dep_Storm\"] = \"NW\"\n",
    "    flights_df[\"dep_Hail\"] = \"NW\"\n",
    "    flights_df[\"dep_Precipitation\"] = \"NW\"\n",
    "    \n",
    "    flights_df[\"arr_Rain\"] = \"NW\"\n",
    "    flights_df[\"arr_Fog\"] = \"NW\"\n",
    "    flights_df[\"arr_Snow\"] = \"NW\"\n",
    "    flights_df[\"arr_Cold\"] = \"NW\"\n",
    "    flights_df[\"arr_Storm\"] = \"NW\"\n",
    "    flights_df[\"arr_Hail\"] = \"NW\"\n",
    "    flights_df[\"arr_Precipitation\"] = \"NW\"\n",
    "    \n",
    "    n = flights_df.shape[0]\n",
    "    \n",
    "    for i in range(n):\n",
    "        temp_city = flights_df[\"origin_city\"][i]\n",
    "        departure_time = flights_df.at[i,\"dep_datetime\"]\n",
    "        mask = (weather_df[\"LocalTimeStart\"]<= departure_time) & (weather_df[\"LocalTimeEnd\"] >= departure_time)\n",
    "        weather_filtered_dep = weather_df[mask]\n",
    "        weather_filtered_dep = weather_filtered_dep[weather_filtered_dep[\"City\"] == temp_city]\n",
    "        n_weather_temp = weather_filtered_dep.shape[0]\n",
    "        if n_weather_temp != 0:\n",
    "            for j in weather_filtered_dep.index:\n",
    "                weather = weather_filtered_dep.at[j,\"Type\"]\n",
    "                flights_df.at[i,\"dep_\" + weather] = weather_filtered_dep.at[j,\"Severity\"]\n",
    "                \n",
    "        temp_city = flights_df[\"dest_city\"][i]\n",
    "        arrival_time = flights_df.at[i,\"arr_datetime\"]\n",
    "        mask = (weather_df[\"LocalTimeStart\"]<= arrival_time) & (weather_df[\"LocalTimeEnd\"] >= arrival_time)\n",
    "        weather_filtered_dep = weather_df[mask]\n",
    "        weather_filtered_dep = weather_filtered_dep[weather_filtered_dep[\"City\"] == temp_city]\n",
    "        n_weather_temp = weather_filtered_dep.shape[0]\n",
    "        if n_weather_temp != 0:\n",
    "            for j in weather_filtered_dep.index:\n",
    "                weather = weather_filtered_dep.at[j,\"Type\"]\n",
    "                flights_df.at[i,\"arr_\" + weather] = weather_filtered_dep.at[j,\"Severity\"]\n",
    "    return(flights_df)"
   ]
  },
  {
   "cell_type": "code",
   "execution_count": null,
   "id": "6ea5f17c-834c-4e75-a557-ac7b941aeeea",
   "metadata": {},
   "outputs": [],
   "source": []
  },
  {
   "cell_type": "code",
   "execution_count": 34,
   "id": "b4454e0a-8fbf-4dcd-bb00-4ccd34135ecf",
   "metadata": {
    "tags": []
   },
   "outputs": [],
   "source": [
    "df_out = merge_flights_weather(flights_df, WeatherEvents)"
   ]
  },
  {
   "cell_type": "code",
   "execution_count": null,
   "id": "91ca5456-2f41-40ff-8d1d-a77648ce9aa5",
   "metadata": {},
   "outputs": [],
   "source": []
  },
  {
   "cell_type": "code",
   "execution_count": 35,
   "id": "ab780060-2757-487d-a18c-9c02245c2cab",
   "metadata": {},
   "outputs": [
    {
     "data": {
      "text/html": [
       "<div>\n",
       "<style scoped>\n",
       "    .dataframe tbody tr th:only-of-type {\n",
       "        vertical-align: middle;\n",
       "    }\n",
       "\n",
       "    .dataframe tbody tr th {\n",
       "        vertical-align: top;\n",
       "    }\n",
       "\n",
       "    .dataframe thead th {\n",
       "        text-align: right;\n",
       "    }\n",
       "</style>\n",
       "<table border=\"1\" class=\"dataframe\">\n",
       "  <thead>\n",
       "    <tr style=\"text-align: right;\">\n",
       "      <th></th>\n",
       "      <th>dep_Rain</th>\n",
       "      <th>dep_Fog</th>\n",
       "      <th>dep_Snow</th>\n",
       "      <th>dep_Cold</th>\n",
       "      <th>dep_Storm</th>\n",
       "      <th>dep_Hail</th>\n",
       "      <th>dep_Precipitation</th>\n",
       "      <th>arr_Rain</th>\n",
       "      <th>arr_Fog</th>\n",
       "      <th>arr_Snow</th>\n",
       "      <th>arr_Cold</th>\n",
       "      <th>arr_Storm</th>\n",
       "      <th>arr_Hail</th>\n",
       "      <th>arr_Precipitation</th>\n",
       "    </tr>\n",
       "  </thead>\n",
       "  <tbody>\n",
       "    <tr>\n",
       "      <th>0</th>\n",
       "      <td>NW</td>\n",
       "      <td>NW</td>\n",
       "      <td>NW</td>\n",
       "      <td>Severe</td>\n",
       "      <td>NW</td>\n",
       "      <td>NW</td>\n",
       "      <td>NW</td>\n",
       "      <td>NW</td>\n",
       "      <td>NW</td>\n",
       "      <td>NW</td>\n",
       "      <td>NW</td>\n",
       "      <td>NW</td>\n",
       "      <td>NW</td>\n",
       "      <td>NW</td>\n",
       "    </tr>\n",
       "    <tr>\n",
       "      <th>1</th>\n",
       "      <td>Light</td>\n",
       "      <td>NW</td>\n",
       "      <td>NW</td>\n",
       "      <td>Severe</td>\n",
       "      <td>NW</td>\n",
       "      <td>NW</td>\n",
       "      <td>NW</td>\n",
       "      <td>NW</td>\n",
       "      <td>NW</td>\n",
       "      <td>NW</td>\n",
       "      <td>NW</td>\n",
       "      <td>NW</td>\n",
       "      <td>NW</td>\n",
       "      <td>NW</td>\n",
       "    </tr>\n",
       "    <tr>\n",
       "      <th>2</th>\n",
       "      <td>NW</td>\n",
       "      <td>NW</td>\n",
       "      <td>NW</td>\n",
       "      <td>Severe</td>\n",
       "      <td>NW</td>\n",
       "      <td>NW</td>\n",
       "      <td>NW</td>\n",
       "      <td>NW</td>\n",
       "      <td>NW</td>\n",
       "      <td>NW</td>\n",
       "      <td>NW</td>\n",
       "      <td>NW</td>\n",
       "      <td>NW</td>\n",
       "      <td>NW</td>\n",
       "    </tr>\n",
       "    <tr>\n",
       "      <th>3</th>\n",
       "      <td>NW</td>\n",
       "      <td>NW</td>\n",
       "      <td>NW</td>\n",
       "      <td>Severe</td>\n",
       "      <td>NW</td>\n",
       "      <td>NW</td>\n",
       "      <td>NW</td>\n",
       "      <td>NW</td>\n",
       "      <td>NW</td>\n",
       "      <td>NW</td>\n",
       "      <td>NW</td>\n",
       "      <td>NW</td>\n",
       "      <td>NW</td>\n",
       "      <td>NW</td>\n",
       "    </tr>\n",
       "    <tr>\n",
       "      <th>4</th>\n",
       "      <td>Light</td>\n",
       "      <td>NW</td>\n",
       "      <td>NW</td>\n",
       "      <td>Severe</td>\n",
       "      <td>NW</td>\n",
       "      <td>NW</td>\n",
       "      <td>NW</td>\n",
       "      <td>NW</td>\n",
       "      <td>NW</td>\n",
       "      <td>NW</td>\n",
       "      <td>NW</td>\n",
       "      <td>NW</td>\n",
       "      <td>NW</td>\n",
       "      <td>NW</td>\n",
       "    </tr>\n",
       "    <tr>\n",
       "      <th>5</th>\n",
       "      <td>NW</td>\n",
       "      <td>Severe</td>\n",
       "      <td>NW</td>\n",
       "      <td>Severe</td>\n",
       "      <td>NW</td>\n",
       "      <td>NW</td>\n",
       "      <td>NW</td>\n",
       "      <td>NW</td>\n",
       "      <td>NW</td>\n",
       "      <td>NW</td>\n",
       "      <td>NW</td>\n",
       "      <td>NW</td>\n",
       "      <td>NW</td>\n",
       "      <td>NW</td>\n",
       "    </tr>\n",
       "    <tr>\n",
       "      <th>6</th>\n",
       "      <td>NW</td>\n",
       "      <td>NW</td>\n",
       "      <td>NW</td>\n",
       "      <td>Severe</td>\n",
       "      <td>NW</td>\n",
       "      <td>NW</td>\n",
       "      <td>NW</td>\n",
       "      <td>NW</td>\n",
       "      <td>NW</td>\n",
       "      <td>NW</td>\n",
       "      <td>NW</td>\n",
       "      <td>NW</td>\n",
       "      <td>NW</td>\n",
       "      <td>NW</td>\n",
       "    </tr>\n",
       "    <tr>\n",
       "      <th>7</th>\n",
       "      <td>NW</td>\n",
       "      <td>NW</td>\n",
       "      <td>NW</td>\n",
       "      <td>Severe</td>\n",
       "      <td>NW</td>\n",
       "      <td>NW</td>\n",
       "      <td>NW</td>\n",
       "      <td>NW</td>\n",
       "      <td>Moderate</td>\n",
       "      <td>NW</td>\n",
       "      <td>NW</td>\n",
       "      <td>NW</td>\n",
       "      <td>NW</td>\n",
       "      <td>NW</td>\n",
       "    </tr>\n",
       "    <tr>\n",
       "      <th>8</th>\n",
       "      <td>NW</td>\n",
       "      <td>NW</td>\n",
       "      <td>NW</td>\n",
       "      <td>Severe</td>\n",
       "      <td>NW</td>\n",
       "      <td>NW</td>\n",
       "      <td>NW</td>\n",
       "      <td>NW</td>\n",
       "      <td>NW</td>\n",
       "      <td>NW</td>\n",
       "      <td>NW</td>\n",
       "      <td>NW</td>\n",
       "      <td>NW</td>\n",
       "      <td>NW</td>\n",
       "    </tr>\n",
       "    <tr>\n",
       "      <th>9</th>\n",
       "      <td>NW</td>\n",
       "      <td>NW</td>\n",
       "      <td>NW</td>\n",
       "      <td>Severe</td>\n",
       "      <td>NW</td>\n",
       "      <td>NW</td>\n",
       "      <td>NW</td>\n",
       "      <td>NW</td>\n",
       "      <td>NW</td>\n",
       "      <td>NW</td>\n",
       "      <td>NW</td>\n",
       "      <td>NW</td>\n",
       "      <td>NW</td>\n",
       "      <td>NW</td>\n",
       "    </tr>\n",
       "    <tr>\n",
       "      <th>10</th>\n",
       "      <td>Moderate</td>\n",
       "      <td>NW</td>\n",
       "      <td>NW</td>\n",
       "      <td>Severe</td>\n",
       "      <td>NW</td>\n",
       "      <td>NW</td>\n",
       "      <td>NW</td>\n",
       "      <td>NW</td>\n",
       "      <td>NW</td>\n",
       "      <td>NW</td>\n",
       "      <td>NW</td>\n",
       "      <td>NW</td>\n",
       "      <td>NW</td>\n",
       "      <td>NW</td>\n",
       "    </tr>\n",
       "    <tr>\n",
       "      <th>11</th>\n",
       "      <td>NW</td>\n",
       "      <td>NW</td>\n",
       "      <td>NW</td>\n",
       "      <td>Severe</td>\n",
       "      <td>NW</td>\n",
       "      <td>NW</td>\n",
       "      <td>NW</td>\n",
       "      <td>NW</td>\n",
       "      <td>Severe</td>\n",
       "      <td>NW</td>\n",
       "      <td>NW</td>\n",
       "      <td>NW</td>\n",
       "      <td>NW</td>\n",
       "      <td>NW</td>\n",
       "    </tr>\n",
       "    <tr>\n",
       "      <th>12</th>\n",
       "      <td>NW</td>\n",
       "      <td>NW</td>\n",
       "      <td>NW</td>\n",
       "      <td>Severe</td>\n",
       "      <td>NW</td>\n",
       "      <td>NW</td>\n",
       "      <td>NW</td>\n",
       "      <td>NW</td>\n",
       "      <td>Severe</td>\n",
       "      <td>NW</td>\n",
       "      <td>NW</td>\n",
       "      <td>NW</td>\n",
       "      <td>NW</td>\n",
       "      <td>NW</td>\n",
       "    </tr>\n",
       "    <tr>\n",
       "      <th>13</th>\n",
       "      <td>NW</td>\n",
       "      <td>NW</td>\n",
       "      <td>NW</td>\n",
       "      <td>Severe</td>\n",
       "      <td>NW</td>\n",
       "      <td>NW</td>\n",
       "      <td>NW</td>\n",
       "      <td>NW</td>\n",
       "      <td>NW</td>\n",
       "      <td>NW</td>\n",
       "      <td>NW</td>\n",
       "      <td>NW</td>\n",
       "      <td>NW</td>\n",
       "      <td>NW</td>\n",
       "    </tr>\n",
       "    <tr>\n",
       "      <th>14</th>\n",
       "      <td>NW</td>\n",
       "      <td>NW</td>\n",
       "      <td>NW</td>\n",
       "      <td>NW</td>\n",
       "      <td>NW</td>\n",
       "      <td>NW</td>\n",
       "      <td>NW</td>\n",
       "      <td>NW</td>\n",
       "      <td>NW</td>\n",
       "      <td>NW</td>\n",
       "      <td>NW</td>\n",
       "      <td>NW</td>\n",
       "      <td>NW</td>\n",
       "      <td>NW</td>\n",
       "    </tr>\n",
       "    <tr>\n",
       "      <th>15</th>\n",
       "      <td>NW</td>\n",
       "      <td>NW</td>\n",
       "      <td>NW</td>\n",
       "      <td>NW</td>\n",
       "      <td>NW</td>\n",
       "      <td>NW</td>\n",
       "      <td>NW</td>\n",
       "      <td>NW</td>\n",
       "      <td>NW</td>\n",
       "      <td>NW</td>\n",
       "      <td>NW</td>\n",
       "      <td>NW</td>\n",
       "      <td>NW</td>\n",
       "      <td>NW</td>\n",
       "    </tr>\n",
       "    <tr>\n",
       "      <th>16</th>\n",
       "      <td>NW</td>\n",
       "      <td>NW</td>\n",
       "      <td>NW</td>\n",
       "      <td>NW</td>\n",
       "      <td>NW</td>\n",
       "      <td>NW</td>\n",
       "      <td>NW</td>\n",
       "      <td>NW</td>\n",
       "      <td>NW</td>\n",
       "      <td>NW</td>\n",
       "      <td>NW</td>\n",
       "      <td>NW</td>\n",
       "      <td>NW</td>\n",
       "      <td>NW</td>\n",
       "    </tr>\n",
       "    <tr>\n",
       "      <th>17</th>\n",
       "      <td>NW</td>\n",
       "      <td>NW</td>\n",
       "      <td>NW</td>\n",
       "      <td>NW</td>\n",
       "      <td>NW</td>\n",
       "      <td>NW</td>\n",
       "      <td>NW</td>\n",
       "      <td>NW</td>\n",
       "      <td>NW</td>\n",
       "      <td>NW</td>\n",
       "      <td>NW</td>\n",
       "      <td>NW</td>\n",
       "      <td>NW</td>\n",
       "      <td>NW</td>\n",
       "    </tr>\n",
       "    <tr>\n",
       "      <th>18</th>\n",
       "      <td>NW</td>\n",
       "      <td>NW</td>\n",
       "      <td>NW</td>\n",
       "      <td>NW</td>\n",
       "      <td>NW</td>\n",
       "      <td>NW</td>\n",
       "      <td>NW</td>\n",
       "      <td>NW</td>\n",
       "      <td>NW</td>\n",
       "      <td>NW</td>\n",
       "      <td>NW</td>\n",
       "      <td>NW</td>\n",
       "      <td>NW</td>\n",
       "      <td>NW</td>\n",
       "    </tr>\n",
       "    <tr>\n",
       "      <th>19</th>\n",
       "      <td>NW</td>\n",
       "      <td>NW</td>\n",
       "      <td>NW</td>\n",
       "      <td>NW</td>\n",
       "      <td>NW</td>\n",
       "      <td>NW</td>\n",
       "      <td>NW</td>\n",
       "      <td>NW</td>\n",
       "      <td>NW</td>\n",
       "      <td>NW</td>\n",
       "      <td>NW</td>\n",
       "      <td>NW</td>\n",
       "      <td>NW</td>\n",
       "      <td>NW</td>\n",
       "    </tr>\n",
       "    <tr>\n",
       "      <th>20</th>\n",
       "      <td>NW</td>\n",
       "      <td>NW</td>\n",
       "      <td>NW</td>\n",
       "      <td>NW</td>\n",
       "      <td>NW</td>\n",
       "      <td>NW</td>\n",
       "      <td>NW</td>\n",
       "      <td>NW</td>\n",
       "      <td>NW</td>\n",
       "      <td>NW</td>\n",
       "      <td>NW</td>\n",
       "      <td>NW</td>\n",
       "      <td>NW</td>\n",
       "      <td>NW</td>\n",
       "    </tr>\n",
       "    <tr>\n",
       "      <th>21</th>\n",
       "      <td>NW</td>\n",
       "      <td>NW</td>\n",
       "      <td>NW</td>\n",
       "      <td>NW</td>\n",
       "      <td>NW</td>\n",
       "      <td>NW</td>\n",
       "      <td>NW</td>\n",
       "      <td>NW</td>\n",
       "      <td>NW</td>\n",
       "      <td>NW</td>\n",
       "      <td>NW</td>\n",
       "      <td>NW</td>\n",
       "      <td>NW</td>\n",
       "      <td>NW</td>\n",
       "    </tr>\n",
       "    <tr>\n",
       "      <th>22</th>\n",
       "      <td>NW</td>\n",
       "      <td>NW</td>\n",
       "      <td>NW</td>\n",
       "      <td>NW</td>\n",
       "      <td>NW</td>\n",
       "      <td>NW</td>\n",
       "      <td>NW</td>\n",
       "      <td>NW</td>\n",
       "      <td>NW</td>\n",
       "      <td>NW</td>\n",
       "      <td>NW</td>\n",
       "      <td>NW</td>\n",
       "      <td>NW</td>\n",
       "      <td>NW</td>\n",
       "    </tr>\n",
       "    <tr>\n",
       "      <th>23</th>\n",
       "      <td>NW</td>\n",
       "      <td>NW</td>\n",
       "      <td>NW</td>\n",
       "      <td>NW</td>\n",
       "      <td>NW</td>\n",
       "      <td>NW</td>\n",
       "      <td>NW</td>\n",
       "      <td>NW</td>\n",
       "      <td>NW</td>\n",
       "      <td>NW</td>\n",
       "      <td>NW</td>\n",
       "      <td>NW</td>\n",
       "      <td>NW</td>\n",
       "      <td>NW</td>\n",
       "    </tr>\n",
       "    <tr>\n",
       "      <th>24</th>\n",
       "      <td>NW</td>\n",
       "      <td>NW</td>\n",
       "      <td>NW</td>\n",
       "      <td>NW</td>\n",
       "      <td>NW</td>\n",
       "      <td>NW</td>\n",
       "      <td>NW</td>\n",
       "      <td>NW</td>\n",
       "      <td>NW</td>\n",
       "      <td>NW</td>\n",
       "      <td>NW</td>\n",
       "      <td>NW</td>\n",
       "      <td>NW</td>\n",
       "      <td>NW</td>\n",
       "    </tr>\n",
       "    <tr>\n",
       "      <th>25</th>\n",
       "      <td>NW</td>\n",
       "      <td>NW</td>\n",
       "      <td>NW</td>\n",
       "      <td>NW</td>\n",
       "      <td>NW</td>\n",
       "      <td>NW</td>\n",
       "      <td>NW</td>\n",
       "      <td>NW</td>\n",
       "      <td>NW</td>\n",
       "      <td>NW</td>\n",
       "      <td>NW</td>\n",
       "      <td>NW</td>\n",
       "      <td>NW</td>\n",
       "      <td>NW</td>\n",
       "    </tr>\n",
       "    <tr>\n",
       "      <th>26</th>\n",
       "      <td>Light</td>\n",
       "      <td>NW</td>\n",
       "      <td>NW</td>\n",
       "      <td>NW</td>\n",
       "      <td>NW</td>\n",
       "      <td>NW</td>\n",
       "      <td>NW</td>\n",
       "      <td>NW</td>\n",
       "      <td>NW</td>\n",
       "      <td>NW</td>\n",
       "      <td>NW</td>\n",
       "      <td>NW</td>\n",
       "      <td>NW</td>\n",
       "      <td>NW</td>\n",
       "    </tr>\n",
       "    <tr>\n",
       "      <th>27</th>\n",
       "      <td>NW</td>\n",
       "      <td>NW</td>\n",
       "      <td>NW</td>\n",
       "      <td>NW</td>\n",
       "      <td>NW</td>\n",
       "      <td>NW</td>\n",
       "      <td>NW</td>\n",
       "      <td>NW</td>\n",
       "      <td>NW</td>\n",
       "      <td>NW</td>\n",
       "      <td>NW</td>\n",
       "      <td>NW</td>\n",
       "      <td>NW</td>\n",
       "      <td>NW</td>\n",
       "    </tr>\n",
       "    <tr>\n",
       "      <th>28</th>\n",
       "      <td>NW</td>\n",
       "      <td>NW</td>\n",
       "      <td>NW</td>\n",
       "      <td>NW</td>\n",
       "      <td>NW</td>\n",
       "      <td>NW</td>\n",
       "      <td>NW</td>\n",
       "      <td>NW</td>\n",
       "      <td>NW</td>\n",
       "      <td>NW</td>\n",
       "      <td>NW</td>\n",
       "      <td>NW</td>\n",
       "      <td>NW</td>\n",
       "      <td>NW</td>\n",
       "    </tr>\n",
       "    <tr>\n",
       "      <th>29</th>\n",
       "      <td>NW</td>\n",
       "      <td>NW</td>\n",
       "      <td>NW</td>\n",
       "      <td>NW</td>\n",
       "      <td>NW</td>\n",
       "      <td>NW</td>\n",
       "      <td>NW</td>\n",
       "      <td>NW</td>\n",
       "      <td>NW</td>\n",
       "      <td>NW</td>\n",
       "      <td>NW</td>\n",
       "      <td>NW</td>\n",
       "      <td>NW</td>\n",
       "      <td>NW</td>\n",
       "    </tr>\n",
       "    <tr>\n",
       "      <th>30</th>\n",
       "      <td>Light</td>\n",
       "      <td>NW</td>\n",
       "      <td>NW</td>\n",
       "      <td>NW</td>\n",
       "      <td>NW</td>\n",
       "      <td>NW</td>\n",
       "      <td>NW</td>\n",
       "      <td>NW</td>\n",
       "      <td>NW</td>\n",
       "      <td>NW</td>\n",
       "      <td>NW</td>\n",
       "      <td>NW</td>\n",
       "      <td>NW</td>\n",
       "      <td>NW</td>\n",
       "    </tr>\n",
       "    <tr>\n",
       "      <th>31</th>\n",
       "      <td>NW</td>\n",
       "      <td>NW</td>\n",
       "      <td>NW</td>\n",
       "      <td>NW</td>\n",
       "      <td>NW</td>\n",
       "      <td>NW</td>\n",
       "      <td>NW</td>\n",
       "      <td>NW</td>\n",
       "      <td>NW</td>\n",
       "      <td>NW</td>\n",
       "      <td>NW</td>\n",
       "      <td>NW</td>\n",
       "      <td>NW</td>\n",
       "      <td>NW</td>\n",
       "    </tr>\n",
       "    <tr>\n",
       "      <th>32</th>\n",
       "      <td>NW</td>\n",
       "      <td>NW</td>\n",
       "      <td>NW</td>\n",
       "      <td>NW</td>\n",
       "      <td>NW</td>\n",
       "      <td>NW</td>\n",
       "      <td>NW</td>\n",
       "      <td>NW</td>\n",
       "      <td>NW</td>\n",
       "      <td>NW</td>\n",
       "      <td>NW</td>\n",
       "      <td>NW</td>\n",
       "      <td>NW</td>\n",
       "      <td>NW</td>\n",
       "    </tr>\n",
       "    <tr>\n",
       "      <th>33</th>\n",
       "      <td>NW</td>\n",
       "      <td>NW</td>\n",
       "      <td>NW</td>\n",
       "      <td>NW</td>\n",
       "      <td>NW</td>\n",
       "      <td>NW</td>\n",
       "      <td>NW</td>\n",
       "      <td>NW</td>\n",
       "      <td>NW</td>\n",
       "      <td>NW</td>\n",
       "      <td>NW</td>\n",
       "      <td>NW</td>\n",
       "      <td>NW</td>\n",
       "      <td>NW</td>\n",
       "    </tr>\n",
       "    <tr>\n",
       "      <th>34</th>\n",
       "      <td>Light</td>\n",
       "      <td>NW</td>\n",
       "      <td>NW</td>\n",
       "      <td>NW</td>\n",
       "      <td>NW</td>\n",
       "      <td>NW</td>\n",
       "      <td>NW</td>\n",
       "      <td>NW</td>\n",
       "      <td>NW</td>\n",
       "      <td>NW</td>\n",
       "      <td>NW</td>\n",
       "      <td>NW</td>\n",
       "      <td>NW</td>\n",
       "      <td>NW</td>\n",
       "    </tr>\n",
       "    <tr>\n",
       "      <th>35</th>\n",
       "      <td>NW</td>\n",
       "      <td>NW</td>\n",
       "      <td>NW</td>\n",
       "      <td>NW</td>\n",
       "      <td>NW</td>\n",
       "      <td>NW</td>\n",
       "      <td>NW</td>\n",
       "      <td>NW</td>\n",
       "      <td>NW</td>\n",
       "      <td>NW</td>\n",
       "      <td>NW</td>\n",
       "      <td>NW</td>\n",
       "      <td>NW</td>\n",
       "      <td>NW</td>\n",
       "    </tr>\n",
       "    <tr>\n",
       "      <th>36</th>\n",
       "      <td>NW</td>\n",
       "      <td>NW</td>\n",
       "      <td>NW</td>\n",
       "      <td>NW</td>\n",
       "      <td>NW</td>\n",
       "      <td>NW</td>\n",
       "      <td>NW</td>\n",
       "      <td>NW</td>\n",
       "      <td>NW</td>\n",
       "      <td>NW</td>\n",
       "      <td>NW</td>\n",
       "      <td>NW</td>\n",
       "      <td>NW</td>\n",
       "      <td>NW</td>\n",
       "    </tr>\n",
       "    <tr>\n",
       "      <th>37</th>\n",
       "      <td>NW</td>\n",
       "      <td>NW</td>\n",
       "      <td>NW</td>\n",
       "      <td>NW</td>\n",
       "      <td>NW</td>\n",
       "      <td>NW</td>\n",
       "      <td>NW</td>\n",
       "      <td>NW</td>\n",
       "      <td>NW</td>\n",
       "      <td>NW</td>\n",
       "      <td>NW</td>\n",
       "      <td>NW</td>\n",
       "      <td>NW</td>\n",
       "      <td>NW</td>\n",
       "    </tr>\n",
       "    <tr>\n",
       "      <th>38</th>\n",
       "      <td>NW</td>\n",
       "      <td>NW</td>\n",
       "      <td>NW</td>\n",
       "      <td>NW</td>\n",
       "      <td>NW</td>\n",
       "      <td>NW</td>\n",
       "      <td>NW</td>\n",
       "      <td>NW</td>\n",
       "      <td>NW</td>\n",
       "      <td>NW</td>\n",
       "      <td>NW</td>\n",
       "      <td>NW</td>\n",
       "      <td>NW</td>\n",
       "      <td>NW</td>\n",
       "    </tr>\n",
       "    <tr>\n",
       "      <th>39</th>\n",
       "      <td>NW</td>\n",
       "      <td>NW</td>\n",
       "      <td>NW</td>\n",
       "      <td>NW</td>\n",
       "      <td>NW</td>\n",
       "      <td>NW</td>\n",
       "      <td>NW</td>\n",
       "      <td>NW</td>\n",
       "      <td>NW</td>\n",
       "      <td>NW</td>\n",
       "      <td>NW</td>\n",
       "      <td>NW</td>\n",
       "      <td>NW</td>\n",
       "      <td>NW</td>\n",
       "    </tr>\n",
       "  </tbody>\n",
       "</table>\n",
       "</div>"
      ],
      "text/plain": [
       "    dep_Rain dep_Fog dep_Snow dep_Cold dep_Storm dep_Hail dep_Precipitation  \\\n",
       "0         NW      NW       NW   Severe        NW       NW                NW   \n",
       "1      Light      NW       NW   Severe        NW       NW                NW   \n",
       "2         NW      NW       NW   Severe        NW       NW                NW   \n",
       "3         NW      NW       NW   Severe        NW       NW                NW   \n",
       "4      Light      NW       NW   Severe        NW       NW                NW   \n",
       "5         NW  Severe       NW   Severe        NW       NW                NW   \n",
       "6         NW      NW       NW   Severe        NW       NW                NW   \n",
       "7         NW      NW       NW   Severe        NW       NW                NW   \n",
       "8         NW      NW       NW   Severe        NW       NW                NW   \n",
       "9         NW      NW       NW   Severe        NW       NW                NW   \n",
       "10  Moderate      NW       NW   Severe        NW       NW                NW   \n",
       "11        NW      NW       NW   Severe        NW       NW                NW   \n",
       "12        NW      NW       NW   Severe        NW       NW                NW   \n",
       "13        NW      NW       NW   Severe        NW       NW                NW   \n",
       "14        NW      NW       NW       NW        NW       NW                NW   \n",
       "15        NW      NW       NW       NW        NW       NW                NW   \n",
       "16        NW      NW       NW       NW        NW       NW                NW   \n",
       "17        NW      NW       NW       NW        NW       NW                NW   \n",
       "18        NW      NW       NW       NW        NW       NW                NW   \n",
       "19        NW      NW       NW       NW        NW       NW                NW   \n",
       "20        NW      NW       NW       NW        NW       NW                NW   \n",
       "21        NW      NW       NW       NW        NW       NW                NW   \n",
       "22        NW      NW       NW       NW        NW       NW                NW   \n",
       "23        NW      NW       NW       NW        NW       NW                NW   \n",
       "24        NW      NW       NW       NW        NW       NW                NW   \n",
       "25        NW      NW       NW       NW        NW       NW                NW   \n",
       "26     Light      NW       NW       NW        NW       NW                NW   \n",
       "27        NW      NW       NW       NW        NW       NW                NW   \n",
       "28        NW      NW       NW       NW        NW       NW                NW   \n",
       "29        NW      NW       NW       NW        NW       NW                NW   \n",
       "30     Light      NW       NW       NW        NW       NW                NW   \n",
       "31        NW      NW       NW       NW        NW       NW                NW   \n",
       "32        NW      NW       NW       NW        NW       NW                NW   \n",
       "33        NW      NW       NW       NW        NW       NW                NW   \n",
       "34     Light      NW       NW       NW        NW       NW                NW   \n",
       "35        NW      NW       NW       NW        NW       NW                NW   \n",
       "36        NW      NW       NW       NW        NW       NW                NW   \n",
       "37        NW      NW       NW       NW        NW       NW                NW   \n",
       "38        NW      NW       NW       NW        NW       NW                NW   \n",
       "39        NW      NW       NW       NW        NW       NW                NW   \n",
       "\n",
       "   arr_Rain   arr_Fog arr_Snow arr_Cold arr_Storm arr_Hail arr_Precipitation  \n",
       "0        NW        NW       NW       NW        NW       NW                NW  \n",
       "1        NW        NW       NW       NW        NW       NW                NW  \n",
       "2        NW        NW       NW       NW        NW       NW                NW  \n",
       "3        NW        NW       NW       NW        NW       NW                NW  \n",
       "4        NW        NW       NW       NW        NW       NW                NW  \n",
       "5        NW        NW       NW       NW        NW       NW                NW  \n",
       "6        NW        NW       NW       NW        NW       NW                NW  \n",
       "7        NW  Moderate       NW       NW        NW       NW                NW  \n",
       "8        NW        NW       NW       NW        NW       NW                NW  \n",
       "9        NW        NW       NW       NW        NW       NW                NW  \n",
       "10       NW        NW       NW       NW        NW       NW                NW  \n",
       "11       NW    Severe       NW       NW        NW       NW                NW  \n",
       "12       NW    Severe       NW       NW        NW       NW                NW  \n",
       "13       NW        NW       NW       NW        NW       NW                NW  \n",
       "14       NW        NW       NW       NW        NW       NW                NW  \n",
       "15       NW        NW       NW       NW        NW       NW                NW  \n",
       "16       NW        NW       NW       NW        NW       NW                NW  \n",
       "17       NW        NW       NW       NW        NW       NW                NW  \n",
       "18       NW        NW       NW       NW        NW       NW                NW  \n",
       "19       NW        NW       NW       NW        NW       NW                NW  \n",
       "20       NW        NW       NW       NW        NW       NW                NW  \n",
       "21       NW        NW       NW       NW        NW       NW                NW  \n",
       "22       NW        NW       NW       NW        NW       NW                NW  \n",
       "23       NW        NW       NW       NW        NW       NW                NW  \n",
       "24       NW        NW       NW       NW        NW       NW                NW  \n",
       "25       NW        NW       NW       NW        NW       NW                NW  \n",
       "26       NW        NW       NW       NW        NW       NW                NW  \n",
       "27       NW        NW       NW       NW        NW       NW                NW  \n",
       "28       NW        NW       NW       NW        NW       NW                NW  \n",
       "29       NW        NW       NW       NW        NW       NW                NW  \n",
       "30       NW        NW       NW       NW        NW       NW                NW  \n",
       "31       NW        NW       NW       NW        NW       NW                NW  \n",
       "32       NW        NW       NW       NW        NW       NW                NW  \n",
       "33       NW        NW       NW       NW        NW       NW                NW  \n",
       "34       NW        NW       NW       NW        NW       NW                NW  \n",
       "35       NW        NW       NW       NW        NW       NW                NW  \n",
       "36       NW        NW       NW       NW        NW       NW                NW  \n",
       "37       NW        NW       NW       NW        NW       NW                NW  \n",
       "38       NW        NW       NW       NW        NW       NW                NW  \n",
       "39       NW        NW       NW       NW        NW       NW                NW  "
      ]
     },
     "execution_count": 35,
     "metadata": {},
     "output_type": "execute_result"
    }
   ],
   "source": [
    "df_out.iloc[0:40,-14:]"
   ]
  },
  {
   "cell_type": "code",
   "execution_count": 37,
   "id": "420bad93-5e9b-43ac-8fc9-ccc7092ddeb3",
   "metadata": {},
   "outputs": [
    {
     "data": {
      "text/plain": [
       "NW          135302\n",
       "Light        12257\n",
       "Moderate       828\n",
       "Heavy           79\n",
       "Name: dep_Rain, dtype: int64"
      ]
     },
     "execution_count": 37,
     "metadata": {},
     "output_type": "execute_result"
    }
   ],
   "source": [
    "df_out[\"dep_Rain\"].value_counts()"
   ]
  },
  {
   "cell_type": "code",
   "execution_count": 38,
   "id": "ce2811de-ff12-4289-b388-53cd117c07f2",
   "metadata": {},
   "outputs": [
    {
     "data": {
      "text/plain": [
       "NW          144352\n",
       "Severe        3072\n",
       "Moderate      1042\n",
       "Name: dep_Fog, dtype: int64"
      ]
     },
     "execution_count": 38,
     "metadata": {},
     "output_type": "execute_result"
    }
   ],
   "source": [
    "df_out[\"dep_Fog\"].value_counts()"
   ]
  },
  {
   "cell_type": "code",
   "execution_count": null,
   "id": "eb14b39f-8f8e-4019-b69d-25f07674cc63",
   "metadata": {
    "tags": []
   },
   "outputs": [],
   "source": []
  },
  {
   "cell_type": "code",
   "execution_count": null,
   "id": "9bba49b8-da0e-4f6d-b0af-4e0f9a8e63a3",
   "metadata": {},
   "outputs": [],
   "source": []
  },
  {
   "cell_type": "code",
   "execution_count": null,
   "id": "e615d8d6-bbbf-476e-b8f3-0c2d3b6bb84b",
   "metadata": {},
   "outputs": [],
   "source": []
  },
  {
   "cell_type": "code",
   "execution_count": null,
   "id": "d6a91c0d-cb77-4b1e-8b19-c1ce003101a8",
   "metadata": {},
   "outputs": [],
   "source": []
  },
  {
   "cell_type": "code",
   "execution_count": 39,
   "id": "51303c7e-e46f-4c2c-a534-564da5cf1f98",
   "metadata": {},
   "outputs": [],
   "source": [
    "df_out.to_csv(\"~/Desktop/DataDump/Flights_Weather_TEST.csv\")"
   ]
  },
  {
   "cell_type": "code",
   "execution_count": 40,
   "id": "5ebb2a82-7c50-42d4-b11d-cdf167ab6779",
   "metadata": {},
   "outputs": [
    {
     "data": {
      "text/plain": [
       "(148466, 38)"
      ]
     },
     "execution_count": 40,
     "metadata": {},
     "output_type": "execute_result"
    }
   ],
   "source": [
    "df_out.shape"
   ]
  },
  {
   "cell_type": "code",
   "execution_count": null,
   "id": "3385d6f6-4c36-4343-9c61-3bfd78f5620d",
   "metadata": {},
   "outputs": [],
   "source": []
  }
 ],
 "metadata": {
  "kernelspec": {
   "display_name": "Python 3",
   "language": "python",
   "name": "python3"
  },
  "language_info": {
   "codemirror_mode": {
    "name": "ipython",
    "version": 3
   },
   "file_extension": ".py",
   "mimetype": "text/x-python",
   "name": "python",
   "nbconvert_exporter": "python",
   "pygments_lexer": "ipython3",
   "version": "3.8.8"
  }
 },
 "nbformat": 4,
 "nbformat_minor": 5
}
