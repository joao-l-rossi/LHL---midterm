{
 "cells": [
  {
   "cell_type": "code",
   "execution_count": 1,
   "id": "05eb62ab-d42e-4728-8f8d-6cbc408a0c21",
   "metadata": {},
   "outputs": [],
   "source": [
    "import pandas as pd\n",
    "import  category_encoders as ce\n",
    "from sklearn.model_selection import train_test_split\n",
    "from sklearn.model_selection import KFold\n",
    "from sklearn.model_selection import RandomizedSearchCV\n",
    "from sklearn.linear_model import LinearRegression\n",
    "from category_encoders import *\n",
    "import  numpy as np\n",
    "from sklearn.tree import DecisionTreeClassifier\n",
    "from sklearn.model_selection import train_test_split\n",
    "from sklearn import metrics\n",
    "from sklearn.ensemble import RandomForestRegressor"
   ]
  },
  {
   "cell_type": "code",
   "execution_count": 2,
   "id": "e5095f71-eadc-433b-93f0-9324f8e93f5c",
   "metadata": {},
   "outputs": [],
   "source": [
    "dataset = pd.read_csv(\"~/Desktop/DataDump/Flights_TRAIN.csv\")\n",
    "dataset.isnull().sum()\n",
    "dataset = dataset.dropna()"
   ]
  },
  {
   "cell_type": "code",
   "execution_count": 3,
   "id": "b2149040-123d-4827-a516-fe78694607b4",
   "metadata": {},
   "outputs": [],
   "source": [
    "dataset = dataset.sample(frac=1).reset_index(drop=True)\n",
    "cols_to_encode = [\"origin\", \"dest\",\"op_unique_carrier\"]\n",
    "cols_X = ['dep_dayofweek','op_unique_carrier', 'origin', 'dest',\n",
    "       'arr_Fog', 'arr_Snow', 'arr_Cold', 'arr_Storm', 'arr_Hail',\n",
    "          'arr_Precipitation', 'crs_dep_time', 'crs_arr_time',\n",
    "          'flights_origin', 'flights_dest']\n",
    "#pd.get_dummies(dataset[\"op_unique_carrier\"])"
   ]
  },
  {
   "cell_type": "code",
   "execution_count": 4,
   "id": "09c7c61b-c350-4ea2-b3e5-1f3e98154d60",
   "metadata": {},
   "outputs": [
    {
     "data": {
      "text/html": [
       "<div>\n",
       "<style scoped>\n",
       "    .dataframe tbody tr th:only-of-type {\n",
       "        vertical-align: middle;\n",
       "    }\n",
       "\n",
       "    .dataframe tbody tr th {\n",
       "        vertical-align: top;\n",
       "    }\n",
       "\n",
       "    .dataframe thead th {\n",
       "        text-align: right;\n",
       "    }\n",
       "</style>\n",
       "<table border=\"1\" class=\"dataframe\">\n",
       "  <thead>\n",
       "    <tr style=\"text-align: right;\">\n",
       "      <th></th>\n",
       "      <th>dep_dayofweek</th>\n",
       "      <th>op_unique_carrier</th>\n",
       "      <th>origin</th>\n",
       "      <th>dest</th>\n",
       "      <th>arr_Fog</th>\n",
       "      <th>arr_Snow</th>\n",
       "      <th>arr_Cold</th>\n",
       "      <th>arr_Storm</th>\n",
       "      <th>arr_Hail</th>\n",
       "      <th>arr_Precipitation</th>\n",
       "      <th>crs_dep_time</th>\n",
       "      <th>crs_arr_time</th>\n",
       "      <th>flights_origin</th>\n",
       "      <th>flights_dest</th>\n",
       "    </tr>\n",
       "  </thead>\n",
       "  <tbody>\n",
       "    <tr>\n",
       "      <th>0</th>\n",
       "      <td>3</td>\n",
       "      <td>HA</td>\n",
       "      <td>LAS</td>\n",
       "      <td>HNL</td>\n",
       "      <td>1.0</td>\n",
       "      <td>3.0</td>\n",
       "      <td>0.0</td>\n",
       "      <td>0.0</td>\n",
       "      <td>0.0</td>\n",
       "      <td>0.0</td>\n",
       "      <td>900</td>\n",
       "      <td>1335</td>\n",
       "      <td>107</td>\n",
       "      <td>34</td>\n",
       "    </tr>\n",
       "    <tr>\n",
       "      <th>1</th>\n",
       "      <td>6</td>\n",
       "      <td>DL</td>\n",
       "      <td>DTW</td>\n",
       "      <td>JAX</td>\n",
       "      <td>1.0</td>\n",
       "      <td>3.0</td>\n",
       "      <td>0.0</td>\n",
       "      <td>0.0</td>\n",
       "      <td>0.0</td>\n",
       "      <td>0.0</td>\n",
       "      <td>1005</td>\n",
       "      <td>1244</td>\n",
       "      <td>95</td>\n",
       "      <td>30</td>\n",
       "    </tr>\n",
       "    <tr>\n",
       "      <th>2</th>\n",
       "      <td>6</td>\n",
       "      <td>PT</td>\n",
       "      <td>FLO</td>\n",
       "      <td>CLT</td>\n",
       "      <td>1.0</td>\n",
       "      <td>3.0</td>\n",
       "      <td>0.0</td>\n",
       "      <td>0.0</td>\n",
       "      <td>0.0</td>\n",
       "      <td>0.0</td>\n",
       "      <td>1234</td>\n",
       "      <td>1341</td>\n",
       "      <td>2</td>\n",
       "      <td>156</td>\n",
       "    </tr>\n",
       "    <tr>\n",
       "      <th>3</th>\n",
       "      <td>2</td>\n",
       "      <td>AS</td>\n",
       "      <td>SEA</td>\n",
       "      <td>LAX</td>\n",
       "      <td>1.0</td>\n",
       "      <td>3.0</td>\n",
       "      <td>0.0</td>\n",
       "      <td>0.0</td>\n",
       "      <td>0.0</td>\n",
       "      <td>0.0</td>\n",
       "      <td>2045</td>\n",
       "      <td>2327</td>\n",
       "      <td>124</td>\n",
       "      <td>91</td>\n",
       "    </tr>\n",
       "    <tr>\n",
       "      <th>4</th>\n",
       "      <td>2</td>\n",
       "      <td>DL</td>\n",
       "      <td>SEA</td>\n",
       "      <td>PHX</td>\n",
       "      <td>1.0</td>\n",
       "      <td>3.0</td>\n",
       "      <td>0.0</td>\n",
       "      <td>0.0</td>\n",
       "      <td>0.0</td>\n",
       "      <td>0.0</td>\n",
       "      <td>1122</td>\n",
       "      <td>1515</td>\n",
       "      <td>141</td>\n",
       "      <td>126</td>\n",
       "    </tr>\n",
       "  </tbody>\n",
       "</table>\n",
       "</div>"
      ],
      "text/plain": [
       "   dep_dayofweek op_unique_carrier origin dest  arr_Fog  arr_Snow  arr_Cold  \\\n",
       "0              3                HA    LAS  HNL      1.0       3.0       0.0   \n",
       "1              6                DL    DTW  JAX      1.0       3.0       0.0   \n",
       "2              6                PT    FLO  CLT      1.0       3.0       0.0   \n",
       "3              2                AS    SEA  LAX      1.0       3.0       0.0   \n",
       "4              2                DL    SEA  PHX      1.0       3.0       0.0   \n",
       "\n",
       "   arr_Storm  arr_Hail  arr_Precipitation  crs_dep_time  crs_arr_time  \\\n",
       "0        0.0       0.0                0.0           900          1335   \n",
       "1        0.0       0.0                0.0          1005          1244   \n",
       "2        0.0       0.0                0.0          1234          1341   \n",
       "3        0.0       0.0                0.0          2045          2327   \n",
       "4        0.0       0.0                0.0          1122          1515   \n",
       "\n",
       "   flights_origin  flights_dest  \n",
       "0             107            34  \n",
       "1              95            30  \n",
       "2               2           156  \n",
       "3             124            91  \n",
       "4             141           126  "
      ]
     },
     "execution_count": 4,
     "metadata": {},
     "output_type": "execute_result"
    }
   ],
   "source": [
    "X = dataset[cols_X]\n",
    "y = dataset[\"arr_delay\"]\n",
    "X.head()"
   ]
  },
  {
   "cell_type": "code",
   "execution_count": 5,
   "id": "640d239c-44b8-4c49-a542-23bf84a1d854",
   "metadata": {},
   "outputs": [],
   "source": [
    "X_train, X_test, y_train, y_test = train_test_split(X, y, test_size=0.20, random_state=1234)"
   ]
  },
  {
   "cell_type": "code",
   "execution_count": 6,
   "id": "2991abf5-2545-4f82-8450-6e4610d327ed",
   "metadata": {},
   "outputs": [],
   "source": [
    "X_train = X_train.reset_index(drop=True)     \n",
    "y_train = y_train.reset_index(drop=True)"
   ]
  },
  {
   "cell_type": "code",
   "execution_count": 7,
   "id": "63c7bbd5-0e1d-4137-9c47-0356caf8d6ef",
   "metadata": {},
   "outputs": [],
   "source": [
    "encoder = TargetEncoder(cols=cols_to_encode)"
   ]
  },
  {
   "cell_type": "code",
   "execution_count": 8,
   "id": "80cdd01a-d815-4661-873f-3d46f575e6be",
   "metadata": {},
   "outputs": [],
   "source": [
    "X_train_fitted = X_train.iloc[0:0,:]"
   ]
  },
  {
   "cell_type": "code",
   "execution_count": 9,
   "id": "e315c880-4e1a-4d72-8a16-bdd592268d83",
   "metadata": {},
   "outputs": [
    {
     "data": {
      "text/html": [
       "<div>\n",
       "<style scoped>\n",
       "    .dataframe tbody tr th:only-of-type {\n",
       "        vertical-align: middle;\n",
       "    }\n",
       "\n",
       "    .dataframe tbody tr th {\n",
       "        vertical-align: top;\n",
       "    }\n",
       "\n",
       "    .dataframe thead th {\n",
       "        text-align: right;\n",
       "    }\n",
       "</style>\n",
       "<table border=\"1\" class=\"dataframe\">\n",
       "  <thead>\n",
       "    <tr style=\"text-align: right;\">\n",
       "      <th></th>\n",
       "      <th>dep_dayofweek</th>\n",
       "      <th>op_unique_carrier</th>\n",
       "      <th>origin</th>\n",
       "      <th>dest</th>\n",
       "      <th>arr_Fog</th>\n",
       "      <th>arr_Snow</th>\n",
       "      <th>arr_Cold</th>\n",
       "      <th>arr_Storm</th>\n",
       "      <th>arr_Hail</th>\n",
       "      <th>arr_Precipitation</th>\n",
       "      <th>crs_dep_time</th>\n",
       "      <th>crs_arr_time</th>\n",
       "      <th>flights_origin</th>\n",
       "      <th>flights_dest</th>\n",
       "    </tr>\n",
       "  </thead>\n",
       "  <tbody>\n",
       "  </tbody>\n",
       "</table>\n",
       "</div>"
      ],
      "text/plain": [
       "Empty DataFrame\n",
       "Columns: [dep_dayofweek, op_unique_carrier, origin, dest, arr_Fog, arr_Snow, arr_Cold, arr_Storm, arr_Hail, arr_Precipitation, crs_dep_time, crs_arr_time, flights_origin, flights_dest]\n",
       "Index: []"
      ]
     },
     "execution_count": 9,
     "metadata": {},
     "output_type": "execute_result"
    }
   ],
   "source": [
    "X_train_fitted"
   ]
  },
  {
   "cell_type": "code",
   "execution_count": 10,
   "id": "0d9c7988-5dd3-47b9-b616-7b38e8fc6bf0",
   "metadata": {},
   "outputs": [],
   "source": [
    "kf = KFold(n_splits = 4, shuffle = False)\n",
    "for tr_ind, val_ind in kf.split(X_train, y_train):\n",
    "    encoder.fit(X_train.loc[tr_ind], y_train.loc[tr_ind])\n",
    "    X_train_fitted = X_train_fitted.append(encoder.transform(X_train.loc[val_ind]))"
   ]
  },
  {
   "cell_type": "code",
   "execution_count": null,
   "id": "41351a62-f271-47be-bfc1-2110829c9f95",
   "metadata": {},
   "outputs": [],
   "source": []
  },
  {
   "cell_type": "code",
   "execution_count": 11,
   "id": "d386ba63-633a-427c-8a7c-bcb35c7790ac",
   "metadata": {},
   "outputs": [],
   "source": [
    "encoder.fit(X_train, y_train)\n",
    "X_test_fitted = encoder.transform(X_test)"
   ]
  },
  {
   "cell_type": "code",
   "execution_count": null,
   "id": "650baaf9-4a1f-469b-8fea-3139355101d5",
   "metadata": {},
   "outputs": [],
   "source": []
  },
  {
   "cell_type": "code",
   "execution_count": 12,
   "id": "01488d08-ff39-4698-8592-781f62adbe00",
   "metadata": {},
   "outputs": [],
   "source": [
    "params = {'bootstrap': [True, False],\n",
    "          'max_depth': [10, 20, 30, 40, 50, 60, 70, 80, 90, 100, None],\n",
    "          'max_features': ['auto', 'sqrt'],\n",
    "          'min_samples_leaf': [1, 2, 4],\n",
    "          'min_samples_split': [2, 5, 10],\n",
    "          'n_estimators': [200, 400, 600, 800, 1000, 1200, 1400, 1600, 1800, 2000]}"
   ]
  },
  {
   "cell_type": "code",
   "execution_count": 13,
   "id": "9161890b-baf0-445b-8370-4a0ac942a0e7",
   "metadata": {},
   "outputs": [],
   "source": [
    "param_comb = 2"
   ]
  },
  {
   "cell_type": "code",
   "execution_count": 14,
   "id": "9bbdc60e-f4eb-48ca-9268-a7112702a707",
   "metadata": {},
   "outputs": [],
   "source": [
    "mod = RandomForestRegressor()"
   ]
  },
  {
   "cell_type": "code",
   "execution_count": 15,
   "id": "b5f6c764-be36-421c-89f8-e19d0dc9d309",
   "metadata": {},
   "outputs": [
    {
     "name": "stdout",
     "output_type": "stream",
     "text": [
      "Fitting 4 folds for each of 2 candidates, totalling 8 fits\n",
      "-0.26135807583908444\n"
     ]
    }
   ],
   "source": [
    "random_search = RandomizedSearchCV(mod, param_distributions=params, n_iter=param_comb, n_jobs=-1, verbose=3, random_state=0, cv = kf.split(X_train, y_train))\n",
    "random_search.fit(X_train_fitted, y_train)\n",
    "print(random_search.best_score_)"
   ]
  },
  {
   "cell_type": "code",
   "execution_count": null,
   "id": "cc836687-9be6-4f0d-9606-c37502441877",
   "metadata": {},
   "outputs": [],
   "source": [
    "best_est = random_search.best_estimator_\n",
    "best_est.fit(X_train_fitted,y_train)"
   ]
  },
  {
   "cell_type": "code",
   "execution_count": null,
   "id": "3d519366-fb1d-4de9-b3cb-0543011d5c09",
   "metadata": {},
   "outputs": [],
   "source": [
    "print(best_est.score(X_test_fitted,y_test))\n",
    "y_pred = best_est.predict(X_test_fitted)\n",
    "print(metrics.mean_squared_error(y_test,y_pred))"
   ]
  },
  {
   "cell_type": "code",
   "execution_count": null,
   "id": "7b5cd363-cf54-42df-999a-3f9be40c40e2",
   "metadata": {},
   "outputs": [],
   "source": []
  }
 ],
 "metadata": {
  "kernelspec": {
   "display_name": "Python 3",
   "language": "python",
   "name": "python3"
  },
  "language_info": {
   "codemirror_mode": {
    "name": "ipython",
    "version": 3
   },
   "file_extension": ".py",
   "mimetype": "text/x-python",
   "name": "python",
   "nbconvert_exporter": "python",
   "pygments_lexer": "ipython3",
   "version": "3.8.8"
  }
 },
 "nbformat": 4,
 "nbformat_minor": 5
}
