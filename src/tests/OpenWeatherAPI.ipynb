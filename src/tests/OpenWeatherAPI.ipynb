{
 "cells": [
  {
   "cell_type": "code",
   "execution_count": 57,
   "id": "acc03581-c895-4082-8cae-f0a568b4b7c2",
   "metadata": {},
   "outputs": [],
   "source": [
    "import pandas as pd\n",
    "import numpy as np\n",
    "import requests\n",
    "import os\n",
    "from time import strptime\n",
    "import datetime\n",
    "from time import mktime\n",
    "import time"
   ]
  },
  {
   "cell_type": "code",
   "execution_count": 5,
   "id": "f5fede75-147a-4390-9b04-687ca3df4817",
   "metadata": {},
   "outputs": [],
   "source": [
    "week_2019 = pd.read_csv(\"~/Desktop/flight_training_2019_firstweek.csv\")"
   ]
  },
  {
   "cell_type": "code",
   "execution_count": 35,
   "id": "4f02a989-d262-47dc-b215-bfeb29b27963",
   "metadata": {},
   "outputs": [
    {
     "name": "stdout",
     "output_type": "stream",
     "text": [
      "2019-01-07\n",
      "2019-01-01\n"
     ]
    }
   ],
   "source": [
    "max_date = week_2019[\"fl_date\"].max()\n",
    "min_date = week_2019[\"fl_date\"].min()\n",
    "print(max_date)\n",
    "print(min_date)"
   ]
  },
  {
   "cell_type": "code",
   "execution_count": 55,
   "id": "c8c02475-f77f-4f84-b032-165b739e5823",
   "metadata": {},
   "outputs": [
    {
     "data": {
      "text/plain": [
       "time.struct_time"
      ]
     },
     "execution_count": 55,
     "metadata": {},
     "output_type": "execute_result"
    }
   ],
   "source": [
    "dt_start = strptime(max_date, \"%Y-%m-%d\")\n",
    "dt_end = strptime(min_date, \"%Y-%m-%d\")\n",
    "type(dt_start)"
   ]
  },
  {
   "cell_type": "code",
   "execution_count": 60,
   "id": "dc37e003-8d7a-4966-a2f1-98c4e27a11ac",
   "metadata": {},
   "outputs": [],
   "source": [
    "unix_start = round(time.mktime(dt_start))\n",
    "unix_end = round(time.mktime(dt_end))"
   ]
  },
  {
   "cell_type": "code",
   "execution_count": 69,
   "id": "7230da4e-235a-4b6b-b995-86c45a2025a4",
   "metadata": {},
   "outputs": [
    {
     "data": {
      "text/plain": [
       "Index(['fl_date', 'mkt_unique_carrier', 'branded_code_share', 'mkt_carrier',\n",
       "       'mkt_carrier_fl_num', 'op_unique_carrier', 'tail_num',\n",
       "       'op_carrier_fl_num', 'origin_airport_id', 'origin', 'origin_city_name',\n",
       "       'dest_airport_id', 'dest', 'dest_city_name', 'crs_dep_time', 'dep_time',\n",
       "       'dep_delay', 'taxi_out', 'wheels_off', 'wheels_on', 'taxi_in',\n",
       "       'crs_arr_time', 'arr_time', 'arr_delay', 'cancelled',\n",
       "       'cancellation_code', 'diverted', 'dup', 'crs_elapsed_time',\n",
       "       'actual_elapsed_time', 'air_time', 'flights', 'distance',\n",
       "       'carrier_delay', 'weather_delay', 'nas_delay', 'security_delay',\n",
       "       'late_aircraft_delay', 'first_dep_time', 'total_add_gtime',\n",
       "       'longest_add_gtime', 'no_name'],\n",
       "      dtype='object')"
      ]
     },
     "execution_count": 69,
     "metadata": {},
     "output_type": "execute_result"
    }
   ],
   "source": [
    "week_2019.columns"
   ]
  },
  {
   "cell_type": "code",
   "execution_count": null,
   "id": "9c19c711-ede9-41b5-a20c-6671f374779b",
   "metadata": {},
   "outputs": [],
   "source": []
  },
  {
   "cell_type": "code",
   "execution_count": 75,
   "id": "c350dc83-38e3-472e-8635-259d77ba5b08",
   "metadata": {},
   "outputs": [],
   "source": [
    "request_url = \"https://www.ncdc.noaa.gov/cdo-web/api/v2/\""
   ]
  },
  {
   "cell_type": "code",
   "execution_count": null,
   "id": "cbcedba9-0037-45af-b812-32ad8adbe29c",
   "metadata": {},
   "outputs": [],
   "source": []
  },
  {
   "cell_type": "code",
   "execution_count": 77,
   "id": "cb975fde-7285-4560-b4c2-b01ad7533dd6",
   "metadata": {},
   "outputs": [],
   "source": [
    "city = \"Chicago\"\n",
    "city_string = \"q=\" + city + \",US\"\n",
    "type_string = \"&type=hour\"\n",
    "start = \"&start=\" + str(unix_start)\n",
    "end = \"&start=\" + str(unix_end)\n",
    "app_key_in = os.environ[\"OPEN_WEATHER_KEY\"]\n",
    "request_url = \"http://history.openweathermap.org/data/2.5/history/city?\"\n",
    "\n",
    "request = request_url + city_string + type_string + start + end + \"&appid=\" + app_key_in\n"
   ]
  },
  {
   "cell_type": "code",
   "execution_count": 64,
   "id": "a3327cef-35b5-43c7-8cb7-2f0c85702335",
   "metadata": {},
   "outputs": [],
   "source": []
  },
  {
   "cell_type": "code",
   "execution_count": null,
   "id": "20da00fb-4008-4c9e-9bca-78daefed0305",
   "metadata": {},
   "outputs": [],
   "source": []
  },
  {
   "cell_type": "code",
   "execution_count": 67,
   "id": "c34b5ef0-6156-4221-b4d6-0ba0d30ffd3f",
   "metadata": {},
   "outputs": [
    {
     "name": "stdout",
     "output_type": "stream",
     "text": [
      "Status Code = 401\n"
     ]
    },
    {
     "data": {
      "text/plain": [
       "{'cod': 401,\n",
       " 'message': 'Invalid API key. Please see http://openweathermap.org/faq#error401 for more info.'}"
      ]
     },
     "execution_count": 67,
     "metadata": {},
     "output_type": "execute_result"
    }
   ],
   "source": [
    "get_open_weather_API(request)"
   ]
  },
  {
   "cell_type": "code",
   "execution_count": null,
   "id": "26cea6d5-22b9-4f40-92e9-4f2b7c151894",
   "metadata": {},
   "outputs": [],
   "source": []
  },
  {
   "cell_type": "code",
   "execution_count": null,
   "id": "74b629cd-fcdd-4042-896a-c3e16d2d1df0",
   "metadata": {},
   "outputs": [],
   "source": []
  },
  {
   "cell_type": "code",
   "execution_count": null,
   "id": "1b2f7583-5aa5-4c1a-9246-24490859799b",
   "metadata": {},
   "outputs": [],
   "source": []
  },
  {
   "cell_type": "code",
   "execution_count": null,
   "id": "c278aa2d-6681-459b-8a34-dd88134e060c",
   "metadata": {},
   "outputs": [],
   "source": []
  },
  {
   "cell_type": "code",
   "execution_count": null,
   "id": "2202fa60-1e21-4a33-8ddd-49795f595d02",
   "metadata": {},
   "outputs": [],
   "source": []
  },
  {
   "cell_type": "code",
   "execution_count": null,
   "id": "a3f268dc-a27e-463a-96af-a8d94b656c71",
   "metadata": {},
   "outputs": [],
   "source": []
  },
  {
   "cell_type": "code",
   "execution_count": null,
   "id": "29a72266-1fea-410d-ac14-ffddb6a082fa",
   "metadata": {},
   "outputs": [],
   "source": []
  },
  {
   "cell_type": "code",
   "execution_count": null,
   "id": "e1e515bd-40a5-4e49-bde3-a566959bb134",
   "metadata": {},
   "outputs": [],
   "source": []
  },
  {
   "cell_type": "code",
   "execution_count": null,
   "id": "e7bd5b76-71f6-4a95-b338-e9ce85e1c1f4",
   "metadata": {},
   "outputs": [],
   "source": []
  },
  {
   "cell_type": "code",
   "execution_count": null,
   "id": "e8997af9-a655-4904-9ce9-b0bebc7fc100",
   "metadata": {},
   "outputs": [],
   "source": []
  },
  {
   "cell_type": "code",
   "execution_count": null,
   "id": "95cbba53-dd28-4c06-9e7f-8fadd7667212",
   "metadata": {},
   "outputs": [],
   "source": []
  },
  {
   "cell_type": "code",
   "execution_count": null,
   "id": "a98621a7-c08d-4035-92a3-31c10fc19b58",
   "metadata": {},
   "outputs": [],
   "source": []
  },
  {
   "cell_type": "code",
   "execution_count": null,
   "id": "9730c1b0-08f4-4445-8911-b25c7a7384ef",
   "metadata": {},
   "outputs": [],
   "source": []
  },
  {
   "cell_type": "code",
   "execution_count": null,
   "id": "743bdf40-3959-4f2e-ac83-76641e158d36",
   "metadata": {},
   "outputs": [],
   "source": []
  },
  {
   "cell_type": "code",
   "execution_count": null,
   "id": "9fd139fc-173b-4275-b32b-2e12f7c34966",
   "metadata": {},
   "outputs": [],
   "source": []
  }
 ],
 "metadata": {
  "kernelspec": {
   "display_name": "Python 3",
   "language": "python",
   "name": "python3"
  },
  "language_info": {
   "codemirror_mode": {
    "name": "ipython",
    "version": 3
   },
   "file_extension": ".py",
   "mimetype": "text/x-python",
   "name": "python",
   "nbconvert_exporter": "python",
   "pygments_lexer": "ipython3",
   "version": "3.8.8"
  }
 },
 "nbformat": 4,
 "nbformat_minor": 5
}
